{
 "cells": [
  {
   "cell_type": "code",
   "execution_count": 1,
   "metadata": {},
   "outputs": [],
   "source": [
    "# If you are missing any necessary packages, you can download them here, juts uncomment the \"using Pkg\" and the desired package.\n",
    "#using Pkg\n",
    "#Pkg.add(\"PyCall\")\n",
    "#Pkg.add(\"CSV\")\n",
    "#Pkg.add(\"DataFrames\")\n",
    "#Pkg.add(\"ScikitLearn\")\n",
    "#Pkg.add(\"MLJ\")"
   ]
  },
  {
   "cell_type": "code",
   "execution_count": 2,
   "metadata": {
    "scrolled": true
   },
   "outputs": [],
   "source": [
    "using CSV, DataFrames, PyCall\n",
    "using ScikitLearn: fit!, predict, @sk_import"
   ]
  },
  {
   "cell_type": "code",
   "execution_count": 3,
   "metadata": {},
   "outputs": [
    {
     "name": "stderr",
     "output_type": "stream",
     "text": [
      "┌ Warning: Module model_selection has been ported to Julia - try `import ScikitLearn: CrossValidation` instead\n",
      "└ @ ScikitLearn.Skcore C:\\Users\\caput\\.julia\\packages\\ScikitLearn\\NJwUf\\src\\Skcore.jl:179\n"
     ]
    },
    {
     "data": {
      "text/plain": [
       "PyObject <function train_test_split at 0x000000004A2F84C0>"
      ]
     },
     "execution_count": 3,
     "metadata": {},
     "output_type": "execute_result"
    }
   ],
   "source": [
    "# Importing all necessary functions from ScikitLearn\n",
    "@sk_import tree : DecisionTreeClassifier\n",
    "@sk_import naive_bayes : (GaussianNB, CategoricalNB, MultinomialNB)\n",
    "@sk_import metrics : (accuracy_score, max_error)\n",
    "@sk_import svm : (SVC, LinearSVC)\n",
    "@sk_import preprocessing : (OneHotEncoder, LabelEncoder)\n",
    "@sk_import neural_network: MLPClassifier\n",
    "@sk_import model_selection : train_test_split"
   ]
  },
  {
   "cell_type": "code",
   "execution_count": 4,
   "metadata": {},
   "outputs": [
    {
     "data": {
      "text/plain": [
       "PyObject <module 'joblib' from 'C:\\\\Users\\\\caput\\\\.julia\\\\conda\\\\3\\\\lib\\\\site-packages\\\\joblib\\\\__init__.py'>"
      ]
     },
     "execution_count": 4,
     "metadata": {},
     "output_type": "execute_result"
    }
   ],
   "source": [
    "# Creating a pyimport object that would work as the \"joblib\" library\n",
    "model_size = pyimport(\"joblib\")"
   ]
  },
  {
   "cell_type": "code",
   "execution_count": 5,
   "metadata": {},
   "outputs": [
    {
     "data": {
      "text/plain": [
       "Model (generic function with 1 method)"
      ]
     },
     "execution_count": 5,
     "metadata": {},
     "output_type": "execute_result"
    }
   ],
   "source": [
    "# Function that would Model each necessary method\n",
    "function Model(model, train_x, train_y, test_x, test_y, model_type)\n",
    "    println(\"------------------------------\")\n",
    "    print(\"Training Time:\")\n",
    "    \n",
    "    # Fit the training data to the model\n",
    "    @time fit!(model, train_x, train_y)\n",
    "    \n",
    "    print(\"Prediction Time:\")\n",
    "    # Predict the testing data with the model\n",
    "    @time prediction = predict(model, test_x)\n",
    "    \n",
    "    # Find the accuracy of the model\n",
    "    # If it is a classification model, use the classification accuracy_score function\n",
    "    if model_type == \"classification\"\n",
    "        println(\"Model Accuracy: \", accuracy_score(test_y,prediction))\n",
    "    # If it is a regression model, use the regression max_error function\n",
    "    elseif model_type == \"regression\"\n",
    "        println(\"Model Accuracy: \", max_error(test_y, prediction))\n",
    "    # Just some error handling\n",
    "    else \n",
    "        println(\"Not a valid model_type\")\n",
    "    end\n",
    "    \n",
    "    # Find the size of the model by creating a file, checking the size and then erasing it.\n",
    "    model_size.dump(model, \"model\")\n",
    "    println(\"Model Size: \", (stat(\"model\").size)/1000, \" kB\")\n",
    "    rm(\"model\")\n",
    "    \n",
    "    println(\"------------------------------\")\n",
    "end"
   ]
  },
  {
   "cell_type": "code",
   "execution_count": 6,
   "metadata": {},
   "outputs": [
    {
     "data": {
      "text/plain": [
       "KddFullModel (generic function with 1 method)"
      ]
     },
     "execution_count": 6,
     "metadata": {},
     "output_type": "execute_result"
    }
   ],
   "source": [
    "# Function that would model the full Kddcup Data Set\n",
    "function KddFullModel()\n",
    "    \n",
    "    # Load the data to a dataframe\n",
    "    kddcup = CSV.File(read(\"Datasets/Kddcup/kddcup.data.corrected\"); header=false) |> DataFrame\n",
    "    \n",
    "    # Separate the data into features and labels while converting them to arrays\n",
    "    kddcup_x = convert(Array, kddcup[!,1:41])\n",
    "    kddcup_y = convert(Array, kddcup[!,42])\n",
    "    \n",
    "    # Encoding the columns that are not 100% numbers\n",
    "    encKd = LabelEncoder()\n",
    "    kddcup_x[:,2] .= encKd.fit_transform(kddcup_x[:,2])\n",
    "    kddcup_x[:,3] .= encKd.fit_transform(kddcup_x[:,3])\n",
    "    kddcup_x[:,4] .= encKd.fit_transform(kddcup_x[:,4])\n",
    "    \n",
    "    # Modifying the labels for better modeling\n",
    "    for (cnt, value) in enumerate(kddcup_y)\n",
    "        # If it is normal make it a 1\n",
    "        if value == \"normal.\"\n",
    "            kddcup_y[cnt, :] .= \"1\"\n",
    "        # If it is something else make it a 2\n",
    "        else\n",
    "            kddcup_y[cnt,:] .= \"2\"      \n",
    "        end\n",
    "    end\n",
    "    \n",
    "    # Partitioning the data between training and test, using 70% for training\n",
    "    train, test = partition(1:length(kddcup_y), 0.70, shuffle = true)\n",
    "    kd_x_train = kddcup_x[train, :]\n",
    "    kd_y_train = kddcup_y[train, :]\n",
    "    kd_x_test = kddcup_x[test, :]\n",
    "    kd_y_test = kddcup_y[test, :]\n",
    "    \n",
    "    # Modeling Naive Bayes Classifier\n",
    "    println(\"Naive Bayes Classifier Model\")\n",
    "    Model(GaussianNB(), kd_x_train, vec(kd_y_train), kd_x_test, vec(kd_y_test), \"classification\")    \n",
    "    \n",
    "    # Modeling Decision Tree Classifier\n",
    "    println(\"Decision Tree Classifier Model\")\n",
    "    Model(DecisionTreeClassifier(), kd_x_train, kd_y_train, kd_x_test, kd_y_test, \"classification\")\n",
    "\n",
    "end"
   ]
  },
  {
   "cell_type": "code",
   "execution_count": 8,
   "metadata": {},
   "outputs": [
    {
     "data": {
      "text/html": [
       "<table class=\"data-frame\"><thead><tr><th></th><th>buying</th><th>maint</th><th>doors</th><th>persons</th><th>lug_boot</th><th>safety</th><th>class</th></tr><tr><th></th><th>String</th><th>String</th><th>String</th><th>String</th><th>String</th><th>String</th><th>String</th></tr></thead><tbody><p>1,728 rows × 7 columns</p><tr><th>1</th><td>vhigh</td><td>vhigh</td><td>2</td><td>2</td><td>small</td><td>low</td><td>unacc</td></tr><tr><th>2</th><td>vhigh</td><td>vhigh</td><td>2</td><td>2</td><td>small</td><td>med</td><td>unacc</td></tr><tr><th>3</th><td>vhigh</td><td>vhigh</td><td>2</td><td>2</td><td>small</td><td>high</td><td>unacc</td></tr><tr><th>4</th><td>vhigh</td><td>vhigh</td><td>2</td><td>2</td><td>med</td><td>low</td><td>unacc</td></tr><tr><th>5</th><td>vhigh</td><td>vhigh</td><td>2</td><td>2</td><td>med</td><td>med</td><td>unacc</td></tr><tr><th>6</th><td>vhigh</td><td>vhigh</td><td>2</td><td>2</td><td>med</td><td>high</td><td>unacc</td></tr><tr><th>7</th><td>vhigh</td><td>vhigh</td><td>2</td><td>2</td><td>big</td><td>low</td><td>unacc</td></tr><tr><th>8</th><td>vhigh</td><td>vhigh</td><td>2</td><td>2</td><td>big</td><td>med</td><td>unacc</td></tr><tr><th>9</th><td>vhigh</td><td>vhigh</td><td>2</td><td>2</td><td>big</td><td>high</td><td>unacc</td></tr><tr><th>10</th><td>vhigh</td><td>vhigh</td><td>2</td><td>4</td><td>small</td><td>low</td><td>unacc</td></tr><tr><th>11</th><td>vhigh</td><td>vhigh</td><td>2</td><td>4</td><td>small</td><td>med</td><td>unacc</td></tr><tr><th>12</th><td>vhigh</td><td>vhigh</td><td>2</td><td>4</td><td>small</td><td>high</td><td>unacc</td></tr><tr><th>13</th><td>vhigh</td><td>vhigh</td><td>2</td><td>4</td><td>med</td><td>low</td><td>unacc</td></tr><tr><th>14</th><td>vhigh</td><td>vhigh</td><td>2</td><td>4</td><td>med</td><td>med</td><td>unacc</td></tr><tr><th>15</th><td>vhigh</td><td>vhigh</td><td>2</td><td>4</td><td>med</td><td>high</td><td>unacc</td></tr><tr><th>16</th><td>vhigh</td><td>vhigh</td><td>2</td><td>4</td><td>big</td><td>low</td><td>unacc</td></tr><tr><th>17</th><td>vhigh</td><td>vhigh</td><td>2</td><td>4</td><td>big</td><td>med</td><td>unacc</td></tr><tr><th>18</th><td>vhigh</td><td>vhigh</td><td>2</td><td>4</td><td>big</td><td>high</td><td>unacc</td></tr><tr><th>19</th><td>vhigh</td><td>vhigh</td><td>2</td><td>more</td><td>small</td><td>low</td><td>unacc</td></tr><tr><th>20</th><td>vhigh</td><td>vhigh</td><td>2</td><td>more</td><td>small</td><td>med</td><td>unacc</td></tr><tr><th>21</th><td>vhigh</td><td>vhigh</td><td>2</td><td>more</td><td>small</td><td>high</td><td>unacc</td></tr><tr><th>22</th><td>vhigh</td><td>vhigh</td><td>2</td><td>more</td><td>med</td><td>low</td><td>unacc</td></tr><tr><th>23</th><td>vhigh</td><td>vhigh</td><td>2</td><td>more</td><td>med</td><td>med</td><td>unacc</td></tr><tr><th>24</th><td>vhigh</td><td>vhigh</td><td>2</td><td>more</td><td>med</td><td>high</td><td>unacc</td></tr><tr><th>25</th><td>vhigh</td><td>vhigh</td><td>2</td><td>more</td><td>big</td><td>low</td><td>unacc</td></tr><tr><th>26</th><td>vhigh</td><td>vhigh</td><td>2</td><td>more</td><td>big</td><td>med</td><td>unacc</td></tr><tr><th>27</th><td>vhigh</td><td>vhigh</td><td>2</td><td>more</td><td>big</td><td>high</td><td>unacc</td></tr><tr><th>28</th><td>vhigh</td><td>vhigh</td><td>3</td><td>2</td><td>small</td><td>low</td><td>unacc</td></tr><tr><th>29</th><td>vhigh</td><td>vhigh</td><td>3</td><td>2</td><td>small</td><td>med</td><td>unacc</td></tr><tr><th>30</th><td>vhigh</td><td>vhigh</td><td>3</td><td>2</td><td>small</td><td>high</td><td>unacc</td></tr><tr><th>&vellip;</th><td>&vellip;</td><td>&vellip;</td><td>&vellip;</td><td>&vellip;</td><td>&vellip;</td><td>&vellip;</td><td>&vellip;</td></tr></tbody></table>"
      ],
      "text/latex": [
       "\\begin{tabular}{r|ccccccc}\n",
       "\t& buying & maint & doors & persons & lug\\_boot & safety & class\\\\\n",
       "\t\\hline\n",
       "\t& String & String & String & String & String & String & String\\\\\n",
       "\t\\hline\n",
       "\t1 & vhigh & vhigh & 2 & 2 & small & low & unacc \\\\\n",
       "\t2 & vhigh & vhigh & 2 & 2 & small & med & unacc \\\\\n",
       "\t3 & vhigh & vhigh & 2 & 2 & small & high & unacc \\\\\n",
       "\t4 & vhigh & vhigh & 2 & 2 & med & low & unacc \\\\\n",
       "\t5 & vhigh & vhigh & 2 & 2 & med & med & unacc \\\\\n",
       "\t6 & vhigh & vhigh & 2 & 2 & med & high & unacc \\\\\n",
       "\t7 & vhigh & vhigh & 2 & 2 & big & low & unacc \\\\\n",
       "\t8 & vhigh & vhigh & 2 & 2 & big & med & unacc \\\\\n",
       "\t9 & vhigh & vhigh & 2 & 2 & big & high & unacc \\\\\n",
       "\t10 & vhigh & vhigh & 2 & 4 & small & low & unacc \\\\\n",
       "\t11 & vhigh & vhigh & 2 & 4 & small & med & unacc \\\\\n",
       "\t12 & vhigh & vhigh & 2 & 4 & small & high & unacc \\\\\n",
       "\t13 & vhigh & vhigh & 2 & 4 & med & low & unacc \\\\\n",
       "\t14 & vhigh & vhigh & 2 & 4 & med & med & unacc \\\\\n",
       "\t15 & vhigh & vhigh & 2 & 4 & med & high & unacc \\\\\n",
       "\t16 & vhigh & vhigh & 2 & 4 & big & low & unacc \\\\\n",
       "\t17 & vhigh & vhigh & 2 & 4 & big & med & unacc \\\\\n",
       "\t18 & vhigh & vhigh & 2 & 4 & big & high & unacc \\\\\n",
       "\t19 & vhigh & vhigh & 2 & more & small & low & unacc \\\\\n",
       "\t20 & vhigh & vhigh & 2 & more & small & med & unacc \\\\\n",
       "\t21 & vhigh & vhigh & 2 & more & small & high & unacc \\\\\n",
       "\t22 & vhigh & vhigh & 2 & more & med & low & unacc \\\\\n",
       "\t23 & vhigh & vhigh & 2 & more & med & med & unacc \\\\\n",
       "\t24 & vhigh & vhigh & 2 & more & med & high & unacc \\\\\n",
       "\t25 & vhigh & vhigh & 2 & more & big & low & unacc \\\\\n",
       "\t26 & vhigh & vhigh & 2 & more & big & med & unacc \\\\\n",
       "\t27 & vhigh & vhigh & 2 & more & big & high & unacc \\\\\n",
       "\t28 & vhigh & vhigh & 3 & 2 & small & low & unacc \\\\\n",
       "\t29 & vhigh & vhigh & 3 & 2 & small & med & unacc \\\\\n",
       "\t30 & vhigh & vhigh & 3 & 2 & small & high & unacc \\\\\n",
       "\t$\\dots$ & $\\dots$ & $\\dots$ & $\\dots$ & $\\dots$ & $\\dots$ & $\\dots$ & $\\dots$ \\\\\n",
       "\\end{tabular}\n"
      ],
      "text/plain": [
       "\u001b[1m1728×7 DataFrame\u001b[0m\n",
       "\u001b[1m  Row \u001b[0m│\u001b[1m buying \u001b[0m\u001b[1m maint  \u001b[0m\u001b[1m doors  \u001b[0m\u001b[1m persons \u001b[0m\u001b[1m lug_boot \u001b[0m\u001b[1m safety \u001b[0m\u001b[1m class  \u001b[0m\n",
       "\u001b[1m      \u001b[0m│\u001b[90m String \u001b[0m\u001b[90m String \u001b[0m\u001b[90m String \u001b[0m\u001b[90m String  \u001b[0m\u001b[90m String   \u001b[0m\u001b[90m String \u001b[0m\u001b[90m String \u001b[0m\n",
       "──────┼───────────────────────────────────────────────────────────\n",
       "    1 │ vhigh   vhigh   2       2        small     low     unacc\n",
       "    2 │ vhigh   vhigh   2       2        small     med     unacc\n",
       "    3 │ vhigh   vhigh   2       2        small     high    unacc\n",
       "    4 │ vhigh   vhigh   2       2        med       low     unacc\n",
       "    5 │ vhigh   vhigh   2       2        med       med     unacc\n",
       "    6 │ vhigh   vhigh   2       2        med       high    unacc\n",
       "    7 │ vhigh   vhigh   2       2        big       low     unacc\n",
       "    8 │ vhigh   vhigh   2       2        big       med     unacc\n",
       "    9 │ vhigh   vhigh   2       2        big       high    unacc\n",
       "   10 │ vhigh   vhigh   2       4        small     low     unacc\n",
       "   11 │ vhigh   vhigh   2       4        small     med     unacc\n",
       "  ⋮   │   ⋮       ⋮       ⋮        ⋮        ⋮        ⋮       ⋮\n",
       " 1719 │ low     low     5more   4        big       high    vgood\n",
       " 1720 │ low     low     5more   more     small     low     unacc\n",
       " 1721 │ low     low     5more   more     small     med     acc\n",
       " 1722 │ low     low     5more   more     small     high    good\n",
       " 1723 │ low     low     5more   more     med       low     unacc\n",
       " 1724 │ low     low     5more   more     med       med     good\n",
       " 1725 │ low     low     5more   more     med       high    vgood\n",
       " 1726 │ low     low     5more   more     big       low     unacc\n",
       " 1727 │ low     low     5more   more     big       med     good\n",
       " 1728 │ low     low     5more   more     big       high    vgood\n",
       "\u001b[36m                                                 1707 rows omitted\u001b[0m"
      ]
     },
     "execution_count": 8,
     "metadata": {},
     "output_type": "execute_result"
    }
   ],
   "source": [
    "# Load Car data to a dataframe\n",
    "car = CSV.File(read(\"Datasets/Car/car.data\"); header=[\"buying\",\"maint\",\"doors\",\"persons\",\"lug_boot\",\"safety\",\"class\"]) |> DataFrame"
   ]
  },
  {
   "cell_type": "code",
   "execution_count": 9,
   "metadata": {},
   "outputs": [
    {
     "data": {
      "text/plain": [
       "4-element Array{Array,1}:\n",
       " [1.0 0.0 … 1.0 0.0; 0.0 0.0 … 0.0 1.0; … ; 1.0 0.0 … 1.0 0.0; 0.0 1.0 … 0.0 0.0]\n",
       " [0.0 0.0 … 1.0 0.0; 0.0 0.0 … 0.0 1.0; … ; 0.0 1.0 … 0.0 1.0; 0.0 0.0 … 1.0 0.0]\n",
       " [\"unacc\", \"acc\", \"unacc\", \"unacc\", \"unacc\", \"acc\", \"acc\", \"unacc\", \"unacc\", \"acc\"  …  \"acc\", \"unacc\", \"unacc\", \"good\", \"unacc\", \"unacc\", \"acc\", \"unacc\", \"unacc\", \"unacc\"]\n",
       " [\"unacc\", \"acc\", \"unacc\", \"unacc\", \"acc\", \"unacc\", \"unacc\", \"unacc\", \"unacc\", \"unacc\"  …  \"good\", \"unacc\", \"unacc\", \"unacc\", \"acc\", \"unacc\", \"unacc\", \"unacc\", \"acc\", \"unacc\"]"
      ]
     },
     "execution_count": 9,
     "metadata": {},
     "output_type": "execute_result"
    }
   ],
   "source": [
    "# Separate the data into features and labels while converting them to arrays\n",
    "car_x = convert(Array,car[:,1:6])\n",
    "car_y = convert(Array,car[:,7])"
   ]
  },
  {
   "cell_type": "code",
   "execution_count": null,
   "metadata": {},
   "outputs": [],
   "source": [
    "# Encode the car data usinf OneHotEncoder because the data is relatively small\n",
    "encCar = OneHotEncoder()\n",
    "car_x_encoded = encCar.fit_transform(car_x).toarray()"
   ]
  },
  {
   "cell_type": "code",
   "execution_count": null,
   "metadata": {},
   "outputs": [],
   "source": [
    "# Partitioning the data between training and test, using 70% for training using the seed 100\n",
    "car_x_train, car_x_test, car_y_train, car_y_test = train_test_split(car_x_encoded,car_y,test_size=0.3, random_state=100)"
   ]
  },
  {
   "cell_type": "code",
   "execution_count": 10,
   "metadata": {},
   "outputs": [
    {
     "name": "stdout",
     "output_type": "stream",
     "text": [
      "Naive Bayes Classifier Model\n",
      "------------------------------\n",
      "Training Time:  0.036964 seconds (33.10 k allocations: 1.714 MiB)\n",
      "Prediction Time:  0.134726 seconds (226.36 k allocations: 11.516 MiB)\n",
      "Model Accuracy: 0.8574181117533719\n",
      "Model Size: 5.341 kB\n",
      "------------------------------\n"
     ]
    }
   ],
   "source": [
    "# Modeling Naive Bayes Classifier\n",
    "println(\"Naive Bayes Classifier Model\")\n",
    "Model(CategoricalNB(), car_x_train, car_y_train, car_x_test, car_y_test, \"classification\")"
   ]
  },
  {
   "cell_type": "code",
   "execution_count": 11,
   "metadata": {},
   "outputs": [
    {
     "name": "stdout",
     "output_type": "stream",
     "text": [
      "Decision Tree Classifier Model\n",
      "------------------------------\n",
      "Training Time:  0.003869 seconds (1.23 k allocations: 19.734 KiB)\n",
      "Prediction Time:  0.001298 seconds (3.16 k allocations: 98.812 KiB)\n",
      "Model Accuracy: 0.9691714836223507\n",
      "Model Size: 17.36 kB\n",
      "------------------------------\n"
     ]
    }
   ],
   "source": [
    "# Modeling Decision Tree Classifier\n",
    "println(\"Decision Tree Classifier Model\")\n",
    "Model(DecisionTreeClassifier(), car_x_train, car_y_train, car_x_test, car_y_test, \"classification\")"
   ]
  },
  {
   "cell_type": "code",
   "execution_count": 12,
   "metadata": {},
   "outputs": [
    {
     "name": "stdout",
     "output_type": "stream",
     "text": [
      "Suport Vector Machines Model\n",
      "------------------------------\n",
      "Training Time:  0.064502 seconds (1.23 k allocations: 19.734 KiB)\n",
      "Prediction Time:  0.040510 seconds (3.16 k allocations: 98.812 KiB)\n",
      "Model Accuracy: 0.9633911368015414\n",
      "Model Size: 130.856 kB\n",
      "------------------------------\n"
     ]
    }
   ],
   "source": [
    "# Modeling Suport Vector Machine\n",
    "println(\"Suport Vector Machines Model\")\n",
    "Model(SVC(), car_x_train, car_y_train, car_x_test, car_y_test, \"classification\")"
   ]
  },
  {
   "cell_type": "code",
   "execution_count": 13,
   "metadata": {},
   "outputs": [
    {
     "name": "stdout",
     "output_type": "stream",
     "text": [
      "Neural Networks Machine Model\n",
      "------------------------------\n",
      "Training Time:  3.093932 seconds (1.23 k allocations: 19.734 KiB)\n",
      "Prediction Time:  0.001774 seconds (3.16 k allocations: 98.812 KiB)\n",
      "Model Accuracy: 0.9942196531791907\n",
      "Model Size: 96.64 kB\n",
      "------------------------------\n"
     ]
    }
   ],
   "source": [
    "# Modeling Neural Networks\n",
    "println(\"Neural Networks Machine Model\")\n",
    "Model(MLPClassifier(max_iter = 1000), car_x_train, car_y_train, car_x_test, car_y_test, \"classification\")"
   ]
  },
  {
   "cell_type": "code",
   "execution_count": 14,
   "metadata": {},
   "outputs": [
    {
     "data": {
      "text/html": [
       "<table class=\"data-frame\"><thead><tr><th></th><th>sex</th><th>length</th><th>diameter</th><th>height</th><th>whole_weight</th><th>shucked_weight</th><th>viscera_weight</th></tr><tr><th></th><th>String</th><th>Float64</th><th>Float64</th><th>Float64</th><th>Float64</th><th>Float64</th><th>Float64</th></tr></thead><tbody><p>4,177 rows × 9 columns (omitted printing of 2 columns)</p><tr><th>1</th><td>M</td><td>0.455</td><td>0.365</td><td>0.095</td><td>0.514</td><td>0.2245</td><td>0.101</td></tr><tr><th>2</th><td>M</td><td>0.35</td><td>0.265</td><td>0.09</td><td>0.2255</td><td>0.0995</td><td>0.0485</td></tr><tr><th>3</th><td>F</td><td>0.53</td><td>0.42</td><td>0.135</td><td>0.677</td><td>0.2565</td><td>0.1415</td></tr><tr><th>4</th><td>M</td><td>0.44</td><td>0.365</td><td>0.125</td><td>0.516</td><td>0.2155</td><td>0.114</td></tr><tr><th>5</th><td>I</td><td>0.33</td><td>0.255</td><td>0.08</td><td>0.205</td><td>0.0895</td><td>0.0395</td></tr><tr><th>6</th><td>I</td><td>0.425</td><td>0.3</td><td>0.095</td><td>0.3515</td><td>0.141</td><td>0.0775</td></tr><tr><th>7</th><td>F</td><td>0.53</td><td>0.415</td><td>0.15</td><td>0.7775</td><td>0.237</td><td>0.1415</td></tr><tr><th>8</th><td>F</td><td>0.545</td><td>0.425</td><td>0.125</td><td>0.768</td><td>0.294</td><td>0.1495</td></tr><tr><th>9</th><td>M</td><td>0.475</td><td>0.37</td><td>0.125</td><td>0.5095</td><td>0.2165</td><td>0.1125</td></tr><tr><th>10</th><td>F</td><td>0.55</td><td>0.44</td><td>0.15</td><td>0.8945</td><td>0.3145</td><td>0.151</td></tr><tr><th>11</th><td>F</td><td>0.525</td><td>0.38</td><td>0.14</td><td>0.6065</td><td>0.194</td><td>0.1475</td></tr><tr><th>12</th><td>M</td><td>0.43</td><td>0.35</td><td>0.11</td><td>0.406</td><td>0.1675</td><td>0.081</td></tr><tr><th>13</th><td>M</td><td>0.49</td><td>0.38</td><td>0.135</td><td>0.5415</td><td>0.2175</td><td>0.095</td></tr><tr><th>14</th><td>F</td><td>0.535</td><td>0.405</td><td>0.145</td><td>0.6845</td><td>0.2725</td><td>0.171</td></tr><tr><th>15</th><td>F</td><td>0.47</td><td>0.355</td><td>0.1</td><td>0.4755</td><td>0.1675</td><td>0.0805</td></tr><tr><th>16</th><td>M</td><td>0.5</td><td>0.4</td><td>0.13</td><td>0.6645</td><td>0.258</td><td>0.133</td></tr><tr><th>17</th><td>I</td><td>0.355</td><td>0.28</td><td>0.085</td><td>0.2905</td><td>0.095</td><td>0.0395</td></tr><tr><th>18</th><td>F</td><td>0.44</td><td>0.34</td><td>0.1</td><td>0.451</td><td>0.188</td><td>0.087</td></tr><tr><th>19</th><td>M</td><td>0.365</td><td>0.295</td><td>0.08</td><td>0.2555</td><td>0.097</td><td>0.043</td></tr><tr><th>20</th><td>M</td><td>0.45</td><td>0.32</td><td>0.1</td><td>0.381</td><td>0.1705</td><td>0.075</td></tr><tr><th>21</th><td>M</td><td>0.355</td><td>0.28</td><td>0.095</td><td>0.2455</td><td>0.0955</td><td>0.062</td></tr><tr><th>22</th><td>I</td><td>0.38</td><td>0.275</td><td>0.1</td><td>0.2255</td><td>0.08</td><td>0.049</td></tr><tr><th>23</th><td>F</td><td>0.565</td><td>0.44</td><td>0.155</td><td>0.9395</td><td>0.4275</td><td>0.214</td></tr><tr><th>24</th><td>F</td><td>0.55</td><td>0.415</td><td>0.135</td><td>0.7635</td><td>0.318</td><td>0.21</td></tr><tr><th>25</th><td>F</td><td>0.615</td><td>0.48</td><td>0.165</td><td>1.1615</td><td>0.513</td><td>0.301</td></tr><tr><th>26</th><td>F</td><td>0.56</td><td>0.44</td><td>0.14</td><td>0.9285</td><td>0.3825</td><td>0.188</td></tr><tr><th>27</th><td>F</td><td>0.58</td><td>0.45</td><td>0.185</td><td>0.9955</td><td>0.3945</td><td>0.272</td></tr><tr><th>28</th><td>M</td><td>0.59</td><td>0.445</td><td>0.14</td><td>0.931</td><td>0.356</td><td>0.234</td></tr><tr><th>29</th><td>M</td><td>0.605</td><td>0.475</td><td>0.18</td><td>0.9365</td><td>0.394</td><td>0.219</td></tr><tr><th>30</th><td>M</td><td>0.575</td><td>0.425</td><td>0.14</td><td>0.8635</td><td>0.393</td><td>0.227</td></tr><tr><th>&vellip;</th><td>&vellip;</td><td>&vellip;</td><td>&vellip;</td><td>&vellip;</td><td>&vellip;</td><td>&vellip;</td><td>&vellip;</td></tr></tbody></table>"
      ],
      "text/latex": [
       "\\begin{tabular}{r|cccccccc}\n",
       "\t& sex & length & diameter & height & whole\\_weight & shucked\\_weight & viscera\\_weight & \\\\\n",
       "\t\\hline\n",
       "\t& String & Float64 & Float64 & Float64 & Float64 & Float64 & Float64 & \\\\\n",
       "\t\\hline\n",
       "\t1 & M & 0.455 & 0.365 & 0.095 & 0.514 & 0.2245 & 0.101 & $\\dots$ \\\\\n",
       "\t2 & M & 0.35 & 0.265 & 0.09 & 0.2255 & 0.0995 & 0.0485 & $\\dots$ \\\\\n",
       "\t3 & F & 0.53 & 0.42 & 0.135 & 0.677 & 0.2565 & 0.1415 & $\\dots$ \\\\\n",
       "\t4 & M & 0.44 & 0.365 & 0.125 & 0.516 & 0.2155 & 0.114 & $\\dots$ \\\\\n",
       "\t5 & I & 0.33 & 0.255 & 0.08 & 0.205 & 0.0895 & 0.0395 & $\\dots$ \\\\\n",
       "\t6 & I & 0.425 & 0.3 & 0.095 & 0.3515 & 0.141 & 0.0775 & $\\dots$ \\\\\n",
       "\t7 & F & 0.53 & 0.415 & 0.15 & 0.7775 & 0.237 & 0.1415 & $\\dots$ \\\\\n",
       "\t8 & F & 0.545 & 0.425 & 0.125 & 0.768 & 0.294 & 0.1495 & $\\dots$ \\\\\n",
       "\t9 & M & 0.475 & 0.37 & 0.125 & 0.5095 & 0.2165 & 0.1125 & $\\dots$ \\\\\n",
       "\t10 & F & 0.55 & 0.44 & 0.15 & 0.8945 & 0.3145 & 0.151 & $\\dots$ \\\\\n",
       "\t11 & F & 0.525 & 0.38 & 0.14 & 0.6065 & 0.194 & 0.1475 & $\\dots$ \\\\\n",
       "\t12 & M & 0.43 & 0.35 & 0.11 & 0.406 & 0.1675 & 0.081 & $\\dots$ \\\\\n",
       "\t13 & M & 0.49 & 0.38 & 0.135 & 0.5415 & 0.2175 & 0.095 & $\\dots$ \\\\\n",
       "\t14 & F & 0.535 & 0.405 & 0.145 & 0.6845 & 0.2725 & 0.171 & $\\dots$ \\\\\n",
       "\t15 & F & 0.47 & 0.355 & 0.1 & 0.4755 & 0.1675 & 0.0805 & $\\dots$ \\\\\n",
       "\t16 & M & 0.5 & 0.4 & 0.13 & 0.6645 & 0.258 & 0.133 & $\\dots$ \\\\\n",
       "\t17 & I & 0.355 & 0.28 & 0.085 & 0.2905 & 0.095 & 0.0395 & $\\dots$ \\\\\n",
       "\t18 & F & 0.44 & 0.34 & 0.1 & 0.451 & 0.188 & 0.087 & $\\dots$ \\\\\n",
       "\t19 & M & 0.365 & 0.295 & 0.08 & 0.2555 & 0.097 & 0.043 & $\\dots$ \\\\\n",
       "\t20 & M & 0.45 & 0.32 & 0.1 & 0.381 & 0.1705 & 0.075 & $\\dots$ \\\\\n",
       "\t21 & M & 0.355 & 0.28 & 0.095 & 0.2455 & 0.0955 & 0.062 & $\\dots$ \\\\\n",
       "\t22 & I & 0.38 & 0.275 & 0.1 & 0.2255 & 0.08 & 0.049 & $\\dots$ \\\\\n",
       "\t23 & F & 0.565 & 0.44 & 0.155 & 0.9395 & 0.4275 & 0.214 & $\\dots$ \\\\\n",
       "\t24 & F & 0.55 & 0.415 & 0.135 & 0.7635 & 0.318 & 0.21 & $\\dots$ \\\\\n",
       "\t25 & F & 0.615 & 0.48 & 0.165 & 1.1615 & 0.513 & 0.301 & $\\dots$ \\\\\n",
       "\t26 & F & 0.56 & 0.44 & 0.14 & 0.9285 & 0.3825 & 0.188 & $\\dots$ \\\\\n",
       "\t27 & F & 0.58 & 0.45 & 0.185 & 0.9955 & 0.3945 & 0.272 & $\\dots$ \\\\\n",
       "\t28 & M & 0.59 & 0.445 & 0.14 & 0.931 & 0.356 & 0.234 & $\\dots$ \\\\\n",
       "\t29 & M & 0.605 & 0.475 & 0.18 & 0.9365 & 0.394 & 0.219 & $\\dots$ \\\\\n",
       "\t30 & M & 0.575 & 0.425 & 0.14 & 0.8635 & 0.393 & 0.227 & $\\dots$ \\\\\n",
       "\t$\\dots$ & $\\dots$ & $\\dots$ & $\\dots$ & $\\dots$ & $\\dots$ & $\\dots$ & $\\dots$ &  \\\\\n",
       "\\end{tabular}\n"
      ],
      "text/plain": [
       "\u001b[1m4177×9 DataFrame\u001b[0m\n",
       "\u001b[1m  Row \u001b[0m│\u001b[1m sex    \u001b[0m\u001b[1m length  \u001b[0m\u001b[1m diameter \u001b[0m\u001b[1m height  \u001b[0m\u001b[1m whole_weight \u001b[0m\u001b[1m shucked_weight \u001b[0m\u001b[1m visc\u001b[0m ⋯\n",
       "\u001b[1m      \u001b[0m│\u001b[90m String \u001b[0m\u001b[90m Float64 \u001b[0m\u001b[90m Float64  \u001b[0m\u001b[90m Float64 \u001b[0m\u001b[90m Float64      \u001b[0m\u001b[90m Float64        \u001b[0m\u001b[90m Floa\u001b[0m ⋯\n",
       "──────┼─────────────────────────────────────────────────────────────────────────\n",
       "    1 │ M         0.455     0.365    0.095        0.514           0.2245       ⋯\n",
       "    2 │ M         0.35      0.265    0.09         0.2255          0.0995\n",
       "    3 │ F         0.53      0.42     0.135        0.677           0.2565\n",
       "    4 │ M         0.44      0.365    0.125        0.516           0.2155\n",
       "    5 │ I         0.33      0.255    0.08         0.205           0.0895       ⋯\n",
       "    6 │ I         0.425     0.3      0.095        0.3515          0.141\n",
       "    7 │ F         0.53      0.415    0.15         0.7775          0.237\n",
       "    8 │ F         0.545     0.425    0.125        0.768           0.294\n",
       "    9 │ M         0.475     0.37     0.125        0.5095          0.2165       ⋯\n",
       "   10 │ F         0.55      0.44     0.15         0.8945          0.3145\n",
       "   11 │ F         0.525     0.38     0.14         0.6065          0.194\n",
       "  ⋮   │   ⋮        ⋮        ⋮         ⋮          ⋮              ⋮              ⋱\n",
       " 4168 │ M         0.5       0.38     0.125        0.577           0.269\n",
       " 4169 │ F         0.515     0.4      0.125        0.615           0.2865       ⋯\n",
       " 4170 │ M         0.52      0.385    0.165        0.791           0.375\n",
       " 4171 │ M         0.55      0.43     0.13         0.8395          0.3155\n",
       " 4172 │ M         0.56      0.43     0.155        0.8675          0.4\n",
       " 4173 │ F         0.565     0.45     0.165        0.887           0.37         ⋯\n",
       " 4174 │ M         0.59      0.44     0.135        0.966           0.439\n",
       " 4175 │ M         0.6       0.475    0.205        1.176           0.5255\n",
       " 4176 │ F         0.625     0.485    0.15         1.0945          0.531\n",
       " 4177 │ M         0.71      0.555    0.195        1.9485          0.9455       ⋯\n",
       "\u001b[36m                                                 3 columns and 4156 rows omitted\u001b[0m"
      ]
     },
     "execution_count": 14,
     "metadata": {},
     "output_type": "execute_result"
    }
   ],
   "source": [
    "# Load Abalone data to a dataframe\n",
    "abalone = CSV.File(read(\"Datasets/Abalone/abalone.data\"); header=[\"sex\",\"length\",\"diameter\",\"height\",\"whole_weight\",\"shucked_weight\",\"viscera_weight\",\"shell_weight\",\"rings\"]) |> DataFrame"
   ]
  },
  {
   "cell_type": "code",
   "execution_count": 15,
   "metadata": {},
   "outputs": [
    {
     "data": {
      "text/plain": [
       "4177-element Array{Int64,1}:\n",
       " 15\n",
       "  7\n",
       "  9\n",
       " 10\n",
       "  7\n",
       "  8\n",
       " 20\n",
       " 16\n",
       "  9\n",
       " 19\n",
       " 14\n",
       " 10\n",
       " 11\n",
       "  ⋮\n",
       "  7\n",
       " 10\n",
       "  9\n",
       "  8\n",
       " 10\n",
       " 10\n",
       "  8\n",
       " 11\n",
       " 10\n",
       "  9\n",
       " 10\n",
       " 12"
      ]
     },
     "execution_count": 15,
     "metadata": {},
     "output_type": "execute_result"
    }
   ],
   "source": [
    "# Encoding the columns that are not 100% numbers and convert the dataframes to arrays\n",
    "encAb = LabelEncoder()\n",
    "abalone_x = convert(Array,abalone[:,1:8])\n",
    "abalone_x[:,1] .= encAb.fit_transform(abalone_x[:,1])\n",
    "abalone_y = convert(Array,abalone[:,9])"
   ]
  },
  {
   "cell_type": "code",
   "execution_count": 16,
   "metadata": {},
   "outputs": [
    {
     "data": {
      "text/plain": [
       "4177-element Array{Float64,1}:\n",
       " 16.5\n",
       "  8.5\n",
       " 10.5\n",
       " 11.5\n",
       "  8.5\n",
       "  9.5\n",
       " 21.5\n",
       " 17.5\n",
       " 10.5\n",
       " 20.5\n",
       " 15.5\n",
       " 11.5\n",
       " 12.5\n",
       "  ⋮\n",
       "  8.5\n",
       " 11.5\n",
       " 10.5\n",
       "  9.5\n",
       " 11.5\n",
       " 11.5\n",
       "  9.5\n",
       " 12.5\n",
       " 11.5\n",
       " 10.5\n",
       " 11.5\n",
       " 13.5"
      ]
     },
     "execution_count": 16,
     "metadata": {},
     "output_type": "execute_result"
    }
   ],
   "source": [
    "# Adding 1.5 to all the ring labels in order to convert them to years\n",
    "abalone_y = abalone_y .+ 1.5"
   ]
  },
  {
   "cell_type": "code",
   "execution_count": 17,
   "metadata": {},
   "outputs": [],
   "source": [
    "# Modifying the labels for better modeling\n",
    "for (cnt, value) in enumerate(abalone_y)\n",
    "    # if the age is between 1 and 9 make it a 1\n",
    "    if value > 1 && value < 9\n",
    "        abalone_y[cnt, :] .= 1\n",
    "    # if the age is between 9 and 10 make it a 2\n",
    "    elseif value < 10\n",
    "        abalone_y[cnt,:] .= 2\n",
    "    # if the age is greater then 10 it a 3\n",
    "    else\n",
    "        abalone_y[cnt,:] .= 3      \n",
    "    end\n",
    "end"
   ]
  },
  {
   "cell_type": "code",
   "execution_count": 18,
   "metadata": {},
   "outputs": [
    {
     "data": {
      "text/plain": [
       "4-element Array{Array,1}:\n",
       " Real[1 0.53 … 0.108 0.195; 2 0.56 … 0.1795 0.285; … ; 0 0.615 … 0.2355 0.345; 1 0.5 … 0.156 0.18]\n",
       " Real[1 0.615 … 0.195 0.345; 0 0.695 … 0.3005 0.44; … ; 2 0.555 … 0.1525 0.26; 2 0.395 … 0.066 0.09]\n",
       " [3.0, 3.0, 3.0, 1.0, 2.0, 3.0, 2.0, 3.0, 1.0, 3.0  …  3.0, 3.0, 3.0, 3.0, 3.0, 1.0, 3.0, 2.0, 3.0, 3.0]\n",
       " [3.0, 3.0, 3.0, 3.0, 1.0, 3.0, 3.0, 3.0, 2.0, 1.0  …  1.0, 3.0, 3.0, 1.0, 1.0, 3.0, 3.0, 3.0, 3.0, 3.0]"
      ]
     },
     "execution_count": 18,
     "metadata": {},
     "output_type": "execute_result"
    }
   ],
   "source": [
    "# Partitioning the data between training and test, using 70% for training using the seed 100\n",
    "abalone_x_train, abalone_x_test, abalone_y_train, abalone_y_test = train_test_split(abalone_x,abalone_y,test_size=0.3, random_state=100)"
   ]
  },
  {
   "cell_type": "code",
   "execution_count": 19,
   "metadata": {},
   "outputs": [
    {
     "name": "stdout",
     "output_type": "stream",
     "text": [
      "Naive Bayes Classifier Model\n",
      "------------------------------\n",
      "Training Time:  0.092860 seconds (210.07 k allocations: 8.957 MiB)\n",
      "Prediction Time:  0.025894 seconds (49.59 k allocations: 1.791 MiB)\n",
      "Model Accuracy: 0.7081339712918661\n",
      "Model Size: 1.067 kB\n",
      "------------------------------\n"
     ]
    }
   ],
   "source": [
    "# Modeling Naive Bayes Classifier\n",
    "println(\"Naive Bayes Classifier Model\")\n",
    "Model(GaussianNB(), abalone_x_train, abalone_y_train, abalone_x_test, abalone_y_test, \"classification\")"
   ]
  },
  {
   "cell_type": "code",
   "execution_count": 20,
   "metadata": {},
   "outputs": [
    {
     "name": "stdout",
     "output_type": "stream",
     "text": [
      "Decision Tree Classifier Model\n",
      "------------------------------\n",
      "Training Time:  0.029358 seconds (52.63 k allocations: 822.969 KiB)\n",
      "Prediction Time:  0.006642 seconds (22.61 k allocations: 364.047 KiB)\n",
      "Model Accuracy: 0.7256778309409888\n",
      "Model Size: 87.335 kB\n",
      "------------------------------\n"
     ]
    }
   ],
   "source": [
    "# Modeling Decision Tree Classifier\n",
    "println(\"Decision Tree Classifier Model\")\n",
    "Model(DecisionTreeClassifier(), abalone_x_train, abalone_y_train, abalone_x_test, abalone_y_test, \"classification\")"
   ]
  },
  {
   "cell_type": "code",
   "execution_count": 21,
   "metadata": {},
   "outputs": [
    {
     "name": "stdout",
     "output_type": "stream",
     "text": [
      "Suport Vector Machines Model\n",
      "------------------------------\n",
      "Training Time:  0.077978 seconds (52.63 k allocations: 822.969 KiB)\n",
      "Prediction Time:  0.008913 seconds (22.61 k allocations: 364.047 KiB)\n",
      "Model Accuracy: 0.7910685805422647\n",
      "Model Size: 0.927 kB\n",
      "------------------------------\n"
     ]
    }
   ],
   "source": [
    "# Modeling Suport Vector Machine\n",
    "println(\"Suport Vector Machines Model\")\n",
    "Model(LinearSVC(), abalone_x_train, abalone_y_train, abalone_x_test, abalone_y_test, \"classification\")"
   ]
  },
  {
   "cell_type": "code",
   "execution_count": 22,
   "metadata": {},
   "outputs": [
    {
     "name": "stdout",
     "output_type": "stream",
     "text": [
      "Neural Networks Model\n",
      "------------------------------\n",
      "Training Time:  2.405724 seconds (52.63 k allocations: 822.969 KiB)\n",
      "Prediction Time:  0.009349 seconds (22.61 k allocations: 364.047 KiB)\n",
      "Model Accuracy: 0.8022328548644339\n",
      "Model Size: 46.842 kB\n",
      "------------------------------\n"
     ]
    }
   ],
   "source": [
    "# Modeling Neural Networks\n",
    "println(\"Neural Networks Model\")\n",
    "Model(MLPClassifier(max_iter = 1000), abalone_x_train, abalone_y_train, abalone_x_test, abalone_y_test, \"classification\")"
   ]
  },
  {
   "cell_type": "code",
   "execution_count": 23,
   "metadata": {},
   "outputs": [
    {
     "data": {
      "text/html": [
       "<table class=\"data-frame\"><thead><tr><th></th><th>-1</th></tr><tr><th></th><th>Int64</th></tr></thead><tbody><p>599 rows × 1 columns</p><tr><th>1</th><td>-1</td></tr><tr><th>2</th><td>-1</td></tr><tr><th>3</th><td>1</td></tr><tr><th>4</th><td>-1</td></tr><tr><th>5</th><td>1</td></tr><tr><th>6</th><td>-1</td></tr><tr><th>7</th><td>-1</td></tr><tr><th>8</th><td>-1</td></tr><tr><th>9</th><td>1</td></tr><tr><th>10</th><td>1</td></tr><tr><th>11</th><td>1</td></tr><tr><th>12</th><td>-1</td></tr><tr><th>13</th><td>1</td></tr><tr><th>14</th><td>1</td></tr><tr><th>15</th><td>-1</td></tr><tr><th>16</th><td>-1</td></tr><tr><th>17</th><td>1</td></tr><tr><th>18</th><td>-1</td></tr><tr><th>19</th><td>-1</td></tr><tr><th>20</th><td>-1</td></tr><tr><th>21</th><td>-1</td></tr><tr><th>22</th><td>-1</td></tr><tr><th>23</th><td>1</td></tr><tr><th>24</th><td>1</td></tr><tr><th>25</th><td>1</td></tr><tr><th>26</th><td>1</td></tr><tr><th>27</th><td>-1</td></tr><tr><th>28</th><td>-1</td></tr><tr><th>29</th><td>-1</td></tr><tr><th>30</th><td>-1</td></tr><tr><th>&vellip;</th><td>&vellip;</td></tr></tbody></table>"
      ],
      "text/latex": [
       "\\begin{tabular}{r|c}\n",
       "\t& -1\\\\\n",
       "\t\\hline\n",
       "\t& Int64\\\\\n",
       "\t\\hline\n",
       "\t1 & -1 \\\\\n",
       "\t2 & -1 \\\\\n",
       "\t3 & 1 \\\\\n",
       "\t4 & -1 \\\\\n",
       "\t5 & 1 \\\\\n",
       "\t6 & -1 \\\\\n",
       "\t7 & -1 \\\\\n",
       "\t8 & -1 \\\\\n",
       "\t9 & 1 \\\\\n",
       "\t10 & 1 \\\\\n",
       "\t11 & 1 \\\\\n",
       "\t12 & -1 \\\\\n",
       "\t13 & 1 \\\\\n",
       "\t14 & 1 \\\\\n",
       "\t15 & -1 \\\\\n",
       "\t16 & -1 \\\\\n",
       "\t17 & 1 \\\\\n",
       "\t18 & -1 \\\\\n",
       "\t19 & -1 \\\\\n",
       "\t20 & -1 \\\\\n",
       "\t21 & -1 \\\\\n",
       "\t22 & -1 \\\\\n",
       "\t23 & 1 \\\\\n",
       "\t24 & 1 \\\\\n",
       "\t25 & 1 \\\\\n",
       "\t26 & 1 \\\\\n",
       "\t27 & -1 \\\\\n",
       "\t28 & -1 \\\\\n",
       "\t29 & -1 \\\\\n",
       "\t30 & -1 \\\\\n",
       "\t$\\dots$ & $\\dots$ \\\\\n",
       "\\end{tabular}\n"
      ],
      "text/plain": [
       "\u001b[1m599×1 DataFrame\u001b[0m\n",
       "\u001b[1m Row \u001b[0m│\u001b[1m -1    \u001b[0m\n",
       "\u001b[1m     \u001b[0m│\u001b[90m Int64 \u001b[0m\n",
       "─────┼───────\n",
       "   1 │    -1\n",
       "   2 │    -1\n",
       "   3 │     1\n",
       "   4 │    -1\n",
       "   5 │     1\n",
       "   6 │    -1\n",
       "   7 │    -1\n",
       "   8 │    -1\n",
       "   9 │     1\n",
       "  10 │     1\n",
       "  11 │     1\n",
       "  ⋮  │   ⋮\n",
       " 590 │    -1\n",
       " 591 │     1\n",
       " 592 │    -1\n",
       " 593 │    -1\n",
       " 594 │     1\n",
       " 595 │     1\n",
       " 596 │     1\n",
       " 597 │     1\n",
       " 598 │     1\n",
       " 599 │    -1\n",
       "\u001b[36m578 rows omitted\u001b[0m"
      ]
     },
     "execution_count": 23,
     "metadata": {},
     "output_type": "execute_result"
    }
   ],
   "source": [
    "# Load the madelon train, test and valid data into dataframes\n",
    "madelon_test = CSV.File(read(\"Datasets/Madelon/madelon_test.data\"); header=false) |> DataFrame\n",
    "madelon_train_x = CSV.File(read(\"Datasets/Madelon/madelon_train.data\"); header=false) |> DataFrame\n",
    "madelon_train_y = CSV.File(read(\"Datasets/Madelon/madelon_train.labels\"); header=false) |> DataFrame\n",
    "madelon_valid_x = CSV.File(read(\"Datasets/Madelon/madelon_valid.data\"); header=[false]) |> DataFrame\n",
    "madelon_valid_y = CSV.File(read(\"Datasets/Madelon/madelon_valid.labels\"); header=[false]) |> DataFrame"
   ]
  },
  {
   "cell_type": "code",
   "execution_count": 24,
   "metadata": {},
   "outputs": [
    {
     "data": {
      "text/plain": [
       "2000×1 Array{Int64,2}:\n",
       " -1\n",
       " -1\n",
       " -1\n",
       "  1\n",
       "  1\n",
       "  1\n",
       "  1\n",
       " -1\n",
       "  1\n",
       " -1\n",
       " -1\n",
       " -1\n",
       "  1\n",
       "  ⋮\n",
       " -1\n",
       "  1\n",
       " -1\n",
       " -1\n",
       " -1\n",
       " -1\n",
       "  1\n",
       "  1\n",
       " -1\n",
       " -1\n",
       "  1\n",
       "  1"
      ]
     },
     "execution_count": 24,
     "metadata": {},
     "output_type": "execute_result"
    }
   ],
   "source": [
    "# Convert the dataframes to Array\n",
    "# Erase 1 columns from the features because its a placeholder\n",
    "madelon_test = convert(Array,madelon_test[:,1:size(madelon_test)[2]-1])\n",
    "madelon_train_x = convert(Array,madelon_train_x[:,1:size(madelon_train_x)[2]-1])\n",
    "madelon_valid_x = convert(Array,madelon_valid_x[:,1:size(madelon_valid_x)[2]-1])\n",
    "madelon_valid_y = convert(Array,madelon_valid_y)\n",
    "madelon_train_y = convert(Array,madelon_train_y)"
   ]
  },
  {
   "cell_type": "code",
   "execution_count": 25,
   "metadata": {},
   "outputs": [
    {
     "name": "stdout",
     "output_type": "stream",
     "text": [
      "Naive Bayes Classifier Model\n",
      "------------------------------\n",
      "Training Time:  0.169461 seconds (330.01 k allocations: 16.220 MiB)\n",
      "Prediction Time:  0.024442 seconds (25.36 k allocations: 1.372 MiB)\n",
      "Model Accuracy: 0.5926544240400667\n",
      "Model Size: 16.696 kB\n",
      "------------------------------\n"
     ]
    }
   ],
   "source": [
    "# Modeling Naive Bayes Classifier\n",
    "println(\"Naive Bayes Classifier Model\")\n",
    "Model(GaussianNB(), madelon_train_x, vec(madelon_train_y), madelon_valid_x, vec(madelon_valid_y), \"classification\")"
   ]
  },
  {
   "cell_type": "code",
   "execution_count": 26,
   "metadata": {},
   "outputs": [
    {
     "name": "stdout",
     "output_type": "stream",
     "text": [
      "Decision Tree Classifier Model\n",
      "------------------------------\n",
      "Training Time:  0.556864 seconds (22 allocations: 1.125 KiB)\n",
      "Prediction Time:  0.003155 seconds (55 allocations: 7.656 KiB)\n",
      "Model Accuracy: 0.7495826377295493\n",
      "Model Size: 22.987 kB\n",
      "------------------------------\n"
     ]
    }
   ],
   "source": [
    "# Modeling Decision Tree Classifier\n",
    "println(\"Decision Tree Classifier Model\")\n",
    "Model(DecisionTreeClassifier(), madelon_train_x, vec(madelon_train_y), madelon_valid_x, vec(madelon_valid_y), \"classification\")"
   ]
  },
  {
   "cell_type": "code",
   "execution_count": 27,
   "metadata": {},
   "outputs": [
    {
     "name": "stdout",
     "output_type": "stream",
     "text": [
      "Suport Vector Machines Model\n",
      "------------------------------\n",
      "Training Time:  1.371578 seconds (22 allocations: 1.125 KiB)\n",
      "Prediction Time:  0.490231 seconds (55 allocations: 7.656 KiB)\n",
      "Model Accuracy: 0.6861435726210351\n",
      "Model Size: 7301.657 kB\n",
      "------------------------------\n"
     ]
    }
   ],
   "source": [
    "# Modeling Suport Vector Machine\n",
    "println(\"Suport Vector Machines Model\")\n",
    "Model(SVC(), madelon_train_x, vec(madelon_train_y), madelon_valid_x, vec(madelon_valid_y), \"classification\")"
   ]
  },
  {
   "cell_type": "code",
   "execution_count": 28,
   "metadata": {},
   "outputs": [
    {
     "name": "stdout",
     "output_type": "stream",
     "text": [
      "Neural Networks Model\n",
      "------------------------------\n",
      "Training Time:  1.067421 seconds (22 allocations: 1.125 KiB)\n",
      "Prediction Time:  0.004232 seconds (55 allocations: 7.656 KiB)\n",
      "Model Accuracy: 0.5041736227045075\n",
      "Model Size: 1611.807 kB\n",
      "------------------------------\n"
     ]
    }
   ],
   "source": [
    "# Modeling Neural Networks\n",
    "println(\"Neural Networks Model\")\n",
    "Model(MLPClassifier(max_iter = 1000), madelon_train_x, vec(madelon_train_y), madelon_valid_x, vec(madelon_valid_y), \"classification\")"
   ]
  },
  {
   "cell_type": "code",
   "execution_count": 29,
   "metadata": {
    "scrolled": true
   },
   "outputs": [
    {
     "data": {
      "text/html": [
       "<table class=\"data-frame\"><thead><tr><th></th><th>Column1</th><th>Column2</th><th>Column3</th><th>Column4</th><th>Column5</th><th>Column6</th><th>Column7</th><th>Column8</th><th>Column9</th></tr><tr><th></th><th>Int64</th><th>String</th><th>String</th><th>String</th><th>Int64</th><th>Int64</th><th>Int64</th><th>Int64</th><th>Int64</th></tr></thead><tbody><p>494,021 rows × 42 columns (omitted printing of 33 columns)</p><tr><th>1</th><td>0</td><td>tcp</td><td>http</td><td>SF</td><td>181</td><td>5450</td><td>0</td><td>0</td><td>0</td></tr><tr><th>2</th><td>0</td><td>tcp</td><td>http</td><td>SF</td><td>239</td><td>486</td><td>0</td><td>0</td><td>0</td></tr><tr><th>3</th><td>0</td><td>tcp</td><td>http</td><td>SF</td><td>235</td><td>1337</td><td>0</td><td>0</td><td>0</td></tr><tr><th>4</th><td>0</td><td>tcp</td><td>http</td><td>SF</td><td>219</td><td>1337</td><td>0</td><td>0</td><td>0</td></tr><tr><th>5</th><td>0</td><td>tcp</td><td>http</td><td>SF</td><td>217</td><td>2032</td><td>0</td><td>0</td><td>0</td></tr><tr><th>6</th><td>0</td><td>tcp</td><td>http</td><td>SF</td><td>217</td><td>2032</td><td>0</td><td>0</td><td>0</td></tr><tr><th>7</th><td>0</td><td>tcp</td><td>http</td><td>SF</td><td>212</td><td>1940</td><td>0</td><td>0</td><td>0</td></tr><tr><th>8</th><td>0</td><td>tcp</td><td>http</td><td>SF</td><td>159</td><td>4087</td><td>0</td><td>0</td><td>0</td></tr><tr><th>9</th><td>0</td><td>tcp</td><td>http</td><td>SF</td><td>210</td><td>151</td><td>0</td><td>0</td><td>0</td></tr><tr><th>10</th><td>0</td><td>tcp</td><td>http</td><td>SF</td><td>212</td><td>786</td><td>0</td><td>0</td><td>0</td></tr><tr><th>11</th><td>0</td><td>tcp</td><td>http</td><td>SF</td><td>210</td><td>624</td><td>0</td><td>0</td><td>0</td></tr><tr><th>12</th><td>0</td><td>tcp</td><td>http</td><td>SF</td><td>177</td><td>1985</td><td>0</td><td>0</td><td>0</td></tr><tr><th>13</th><td>0</td><td>tcp</td><td>http</td><td>SF</td><td>222</td><td>773</td><td>0</td><td>0</td><td>0</td></tr><tr><th>14</th><td>0</td><td>tcp</td><td>http</td><td>SF</td><td>256</td><td>1169</td><td>0</td><td>0</td><td>0</td></tr><tr><th>15</th><td>0</td><td>tcp</td><td>http</td><td>SF</td><td>241</td><td>259</td><td>0</td><td>0</td><td>0</td></tr><tr><th>16</th><td>0</td><td>tcp</td><td>http</td><td>SF</td><td>260</td><td>1837</td><td>0</td><td>0</td><td>0</td></tr><tr><th>17</th><td>0</td><td>tcp</td><td>http</td><td>SF</td><td>241</td><td>261</td><td>0</td><td>0</td><td>0</td></tr><tr><th>18</th><td>0</td><td>tcp</td><td>http</td><td>SF</td><td>257</td><td>818</td><td>0</td><td>0</td><td>0</td></tr><tr><th>19</th><td>0</td><td>tcp</td><td>http</td><td>SF</td><td>233</td><td>255</td><td>0</td><td>0</td><td>0</td></tr><tr><th>20</th><td>0</td><td>tcp</td><td>http</td><td>SF</td><td>233</td><td>504</td><td>0</td><td>0</td><td>0</td></tr><tr><th>21</th><td>0</td><td>tcp</td><td>http</td><td>SF</td><td>256</td><td>1273</td><td>0</td><td>0</td><td>0</td></tr><tr><th>22</th><td>0</td><td>tcp</td><td>http</td><td>SF</td><td>234</td><td>255</td><td>0</td><td>0</td><td>0</td></tr><tr><th>23</th><td>0</td><td>tcp</td><td>http</td><td>SF</td><td>241</td><td>259</td><td>0</td><td>0</td><td>0</td></tr><tr><th>24</th><td>0</td><td>tcp</td><td>http</td><td>SF</td><td>239</td><td>968</td><td>0</td><td>0</td><td>0</td></tr><tr><th>25</th><td>0</td><td>tcp</td><td>http</td><td>SF</td><td>245</td><td>1919</td><td>0</td><td>0</td><td>0</td></tr><tr><th>26</th><td>0</td><td>tcp</td><td>http</td><td>SF</td><td>248</td><td>2129</td><td>0</td><td>0</td><td>0</td></tr><tr><th>27</th><td>0</td><td>tcp</td><td>http</td><td>SF</td><td>354</td><td>1752</td><td>0</td><td>0</td><td>0</td></tr><tr><th>28</th><td>0</td><td>tcp</td><td>http</td><td>SF</td><td>193</td><td>3991</td><td>0</td><td>0</td><td>0</td></tr><tr><th>29</th><td>0</td><td>tcp</td><td>http</td><td>SF</td><td>214</td><td>14959</td><td>0</td><td>0</td><td>0</td></tr><tr><th>30</th><td>0</td><td>tcp</td><td>http</td><td>SF</td><td>212</td><td>1309</td><td>0</td><td>0</td><td>0</td></tr><tr><th>&vellip;</th><td>&vellip;</td><td>&vellip;</td><td>&vellip;</td><td>&vellip;</td><td>&vellip;</td><td>&vellip;</td><td>&vellip;</td><td>&vellip;</td><td>&vellip;</td></tr></tbody></table>"
      ],
      "text/latex": [
       "\\begin{tabular}{r|cccccccccc}\n",
       "\t& Column1 & Column2 & Column3 & Column4 & Column5 & Column6 & Column7 & Column8 & Column9 & \\\\\n",
       "\t\\hline\n",
       "\t& Int64 & String & String & String & Int64 & Int64 & Int64 & Int64 & Int64 & \\\\\n",
       "\t\\hline\n",
       "\t1 & 0 & tcp & http & SF & 181 & 5450 & 0 & 0 & 0 & $\\dots$ \\\\\n",
       "\t2 & 0 & tcp & http & SF & 239 & 486 & 0 & 0 & 0 & $\\dots$ \\\\\n",
       "\t3 & 0 & tcp & http & SF & 235 & 1337 & 0 & 0 & 0 & $\\dots$ \\\\\n",
       "\t4 & 0 & tcp & http & SF & 219 & 1337 & 0 & 0 & 0 & $\\dots$ \\\\\n",
       "\t5 & 0 & tcp & http & SF & 217 & 2032 & 0 & 0 & 0 & $\\dots$ \\\\\n",
       "\t6 & 0 & tcp & http & SF & 217 & 2032 & 0 & 0 & 0 & $\\dots$ \\\\\n",
       "\t7 & 0 & tcp & http & SF & 212 & 1940 & 0 & 0 & 0 & $\\dots$ \\\\\n",
       "\t8 & 0 & tcp & http & SF & 159 & 4087 & 0 & 0 & 0 & $\\dots$ \\\\\n",
       "\t9 & 0 & tcp & http & SF & 210 & 151 & 0 & 0 & 0 & $\\dots$ \\\\\n",
       "\t10 & 0 & tcp & http & SF & 212 & 786 & 0 & 0 & 0 & $\\dots$ \\\\\n",
       "\t11 & 0 & tcp & http & SF & 210 & 624 & 0 & 0 & 0 & $\\dots$ \\\\\n",
       "\t12 & 0 & tcp & http & SF & 177 & 1985 & 0 & 0 & 0 & $\\dots$ \\\\\n",
       "\t13 & 0 & tcp & http & SF & 222 & 773 & 0 & 0 & 0 & $\\dots$ \\\\\n",
       "\t14 & 0 & tcp & http & SF & 256 & 1169 & 0 & 0 & 0 & $\\dots$ \\\\\n",
       "\t15 & 0 & tcp & http & SF & 241 & 259 & 0 & 0 & 0 & $\\dots$ \\\\\n",
       "\t16 & 0 & tcp & http & SF & 260 & 1837 & 0 & 0 & 0 & $\\dots$ \\\\\n",
       "\t17 & 0 & tcp & http & SF & 241 & 261 & 0 & 0 & 0 & $\\dots$ \\\\\n",
       "\t18 & 0 & tcp & http & SF & 257 & 818 & 0 & 0 & 0 & $\\dots$ \\\\\n",
       "\t19 & 0 & tcp & http & SF & 233 & 255 & 0 & 0 & 0 & $\\dots$ \\\\\n",
       "\t20 & 0 & tcp & http & SF & 233 & 504 & 0 & 0 & 0 & $\\dots$ \\\\\n",
       "\t21 & 0 & tcp & http & SF & 256 & 1273 & 0 & 0 & 0 & $\\dots$ \\\\\n",
       "\t22 & 0 & tcp & http & SF & 234 & 255 & 0 & 0 & 0 & $\\dots$ \\\\\n",
       "\t23 & 0 & tcp & http & SF & 241 & 259 & 0 & 0 & 0 & $\\dots$ \\\\\n",
       "\t24 & 0 & tcp & http & SF & 239 & 968 & 0 & 0 & 0 & $\\dots$ \\\\\n",
       "\t25 & 0 & tcp & http & SF & 245 & 1919 & 0 & 0 & 0 & $\\dots$ \\\\\n",
       "\t26 & 0 & tcp & http & SF & 248 & 2129 & 0 & 0 & 0 & $\\dots$ \\\\\n",
       "\t27 & 0 & tcp & http & SF & 354 & 1752 & 0 & 0 & 0 & $\\dots$ \\\\\n",
       "\t28 & 0 & tcp & http & SF & 193 & 3991 & 0 & 0 & 0 & $\\dots$ \\\\\n",
       "\t29 & 0 & tcp & http & SF & 214 & 14959 & 0 & 0 & 0 & $\\dots$ \\\\\n",
       "\t30 & 0 & tcp & http & SF & 212 & 1309 & 0 & 0 & 0 & $\\dots$ \\\\\n",
       "\t$\\dots$ & $\\dots$ & $\\dots$ & $\\dots$ & $\\dots$ & $\\dots$ & $\\dots$ & $\\dots$ & $\\dots$ & $\\dots$ &  \\\\\n",
       "\\end{tabular}\n"
      ],
      "text/plain": [
       "\u001b[1m494021×42 DataFrame\u001b[0m\n",
       "\u001b[1m    Row \u001b[0m│\u001b[1m Column1 \u001b[0m\u001b[1m Column2 \u001b[0m\u001b[1m Column3 \u001b[0m\u001b[1m Column4 \u001b[0m\u001b[1m Column5 \u001b[0m\u001b[1m Column6 \u001b[0m\u001b[1m Column7 \u001b[0m\u001b[1m Colum\u001b[0m ⋯\n",
       "\u001b[1m        \u001b[0m│\u001b[90m Int64   \u001b[0m\u001b[90m String  \u001b[0m\u001b[90m String  \u001b[0m\u001b[90m String  \u001b[0m\u001b[90m Int64   \u001b[0m\u001b[90m Int64   \u001b[0m\u001b[90m Int64   \u001b[0m\u001b[90m Int64\u001b[0m ⋯\n",
       "────────┼───────────────────────────────────────────────────────────────────────\n",
       "      1 │       0  tcp      http     SF           181     5450        0        ⋯\n",
       "      2 │       0  tcp      http     SF           239      486        0\n",
       "      3 │       0  tcp      http     SF           235     1337        0\n",
       "      4 │       0  tcp      http     SF           219     1337        0\n",
       "      5 │       0  tcp      http     SF           217     2032        0        ⋯\n",
       "      6 │       0  tcp      http     SF           217     2032        0\n",
       "      7 │       0  tcp      http     SF           212     1940        0\n",
       "      8 │       0  tcp      http     SF           159     4087        0\n",
       "      9 │       0  tcp      http     SF           210      151        0        ⋯\n",
       "     10 │       0  tcp      http     SF           212      786        0\n",
       "     11 │       0  tcp      http     SF           210      624        0\n",
       "   ⋮    │    ⋮        ⋮        ⋮        ⋮        ⋮        ⋮        ⋮        ⋮  ⋱\n",
       " 494012 │       0  tcp      http     SF           308      662        0\n",
       " 494013 │       0  tcp      http     SF           291     1862        0        ⋯\n",
       " 494014 │       0  tcp      http     SF           289      244        0\n",
       " 494015 │       0  tcp      http     SF           306      662        0\n",
       " 494016 │       0  tcp      http     SF           289     1862        0\n",
       " 494017 │       0  tcp      http     SF           310     1881        0        ⋯\n",
       " 494018 │       0  tcp      http     SF           282     2286        0\n",
       " 494019 │       0  tcp      http     SF           203     1200        0\n",
       " 494020 │       0  tcp      http     SF           291     1200        0\n",
       " 494021 │       0  tcp      http     SF           219     1234        0        ⋯\n",
       "\u001b[36m                                              35 columns and 494000 rows omitted\u001b[0m"
      ]
     },
     "execution_count": 29,
     "metadata": {},
     "output_type": "execute_result"
    }
   ],
   "source": [
    "# Load the data to a dataframe\n",
    "kddcup_10 = CSV.File(read(\"Datasets/Kddcup/kddcup.data_10_percent_corrected\"); header=false) |> DataFrame"
   ]
  },
  {
   "cell_type": "code",
   "execution_count": 30,
   "metadata": {},
   "outputs": [
    {
     "data": {
      "text/plain": [
       "494021-element Array{String,1}:\n",
       " \"normal.\"\n",
       " \"normal.\"\n",
       " \"normal.\"\n",
       " \"normal.\"\n",
       " \"normal.\"\n",
       " \"normal.\"\n",
       " \"normal.\"\n",
       " \"normal.\"\n",
       " \"normal.\"\n",
       " \"normal.\"\n",
       " \"normal.\"\n",
       " \"normal.\"\n",
       " \"normal.\"\n",
       " ⋮\n",
       " \"normal.\"\n",
       " \"normal.\"\n",
       " \"normal.\"\n",
       " \"normal.\"\n",
       " \"normal.\"\n",
       " \"normal.\"\n",
       " \"normal.\"\n",
       " \"normal.\"\n",
       " \"normal.\"\n",
       " \"normal.\"\n",
       " \"normal.\"\n",
       " \"normal.\""
      ]
     },
     "execution_count": 30,
     "metadata": {},
     "output_type": "execute_result"
    }
   ],
   "source": [
    "# Separate the data into features and labels while converting them to arrays\n",
    "kddcup_10_x = convert(Array, kddcup_10[!,1:41])\n",
    "kddcup_10_y = convert(Array, kddcup_10[!,42])"
   ]
  },
  {
   "cell_type": "code",
   "execution_count": 31,
   "metadata": {},
   "outputs": [
    {
     "data": {
      "text/plain": [
       "494021-element view(::Array{Any,2}, :, 4) with eltype Any:\n",
       " 9\n",
       " 9\n",
       " 9\n",
       " 9\n",
       " 9\n",
       " 9\n",
       " 9\n",
       " 9\n",
       " 9\n",
       " 9\n",
       " 9\n",
       " 9\n",
       " 9\n",
       " ⋮\n",
       " 9\n",
       " 9\n",
       " 9\n",
       " 9\n",
       " 9\n",
       " 9\n",
       " 9\n",
       " 9\n",
       " 9\n",
       " 9\n",
       " 9\n",
       " 9"
      ]
     },
     "execution_count": 31,
     "metadata": {},
     "output_type": "execute_result"
    }
   ],
   "source": [
    "# Encoding the columns that are not 100% numbers\n",
    "encKd_10 = LabelEncoder()\n",
    "kddcup_10_x[:,2] .= encKd_10.fit_transform(kddcup_10_x[:,2])\n",
    "kddcup_10_x[:,3] .= encKd_10.fit_transform(kddcup_10_x[:,3])\n",
    "kddcup_10_x[:,4] .= encKd_10.fit_transform(kddcup_10_x[:,4])"
   ]
  },
  {
   "cell_type": "code",
   "execution_count": 32,
   "metadata": {},
   "outputs": [],
   "source": [
    "# Modifying the labels for better modeling\n",
    "for (cnt, value) in enumerate(kddcup_10_y)\n",
    "    # If it is \"normal.\" make it a \"1\"\n",
    "    if value == \"normal.\"\n",
    "        kddcup_10_y[cnt, :] .= \"1\"\n",
    "    # If it is something else make it a \"2\"\n",
    "    else\n",
    "        kddcup_10_y[cnt,:] .= \"2\"      \n",
    "    end\n",
    "end"
   ]
  },
  {
   "cell_type": "code",
   "execution_count": 33,
   "metadata": {},
   "outputs": [
    {
     "data": {
      "text/plain": [
       "4-element Array{Array,1}:\n",
       " Real[0 0 … 0.0 0.0; 0 0 … 0.0 0.0; … ; 0 1 … 0.0 0.0; 0 0 … 0.0 0.0]\n",
       " Real[0 0 … 0.0 0.0; 0 0 … 0.0 0.0; … ; 0 0 … 0.0 0.0; 0 1 … 0.0 0.0]\n",
       " [\"2\", \"2\", \"1\", \"2\", \"2\", \"2\", \"2\", \"2\", \"1\", \"1\"  …  \"2\", \"1\", \"2\", \"2\", \"2\", \"2\", \"2\", \"2\", \"2\", \"2\"]\n",
       " [\"2\", \"2\", \"1\", \"1\", \"2\", \"2\", \"2\", \"2\", \"2\", \"2\"  …  \"2\", \"2\", \"2\", \"1\", \"2\", \"2\", \"2\", \"2\", \"2\", \"1\"]"
      ]
     },
     "execution_count": 33,
     "metadata": {},
     "output_type": "execute_result"
    }
   ],
   "source": [
    "# Partitioning the data between training and test, using 70% for training using the seed 100\n",
    "kdd10_x_train, kdd10_x_test, kdd10_y_train, kdd10_y_test = train_test_split(kddcup_10_x,kddcup_10_y,test_size=0.3, random_state=100)"
   ]
  },
  {
   "cell_type": "code",
   "execution_count": 34,
   "metadata": {},
   "outputs": [
    {
     "name": "stdout",
     "output_type": "stream",
     "text": [
      "Naive Bayes Classifier Model\n",
      "------------------------------\n",
      "Training Time: 13.127009 seconds (29.42 M allocations: 449.967 MiB)\n",
      "Prediction Time:  6.002948 seconds (13.34 M allocations: 215.579 MiB)\n",
      "Model Accuracy: 0.9217513342824563\n",
      "Model Size: 1.991 kB\n",
      "------------------------------\n"
     ]
    }
   ],
   "source": [
    "# Modeling Naive Bayes Classifier\n",
    "println(\"Naive Bayes Classifier Model\")\n",
    "Model(GaussianNB(), kdd10_x_train, vec(kdd10_y_train), kdd10_x_test, vec(kdd10_y_test), \"classification\")"
   ]
  },
  {
   "cell_type": "code",
   "execution_count": 35,
   "metadata": {},
   "outputs": [
    {
     "name": "stdout",
     "output_type": "stream",
     "text": [
      "Decision Tree Classifier Model\n",
      "------------------------------\n",
      "Training Time: 20.498642 seconds (29.39 M allocations: 448.520 MiB, 13.28% gc time)\n",
      "Prediction Time:  5.277085 seconds (13.34 M allocations: 215.579 MiB)\n",
      "Model Accuracy: 0.9997031179363998\n",
      "Model Size: 21.419 kB\n",
      "------------------------------\n"
     ]
    }
   ],
   "source": [
    "# Modeling Decision Tree Classifier\n",
    "println(\"Decision Tree Classifier Model\")\n",
    "Model(DecisionTreeClassifier(), kdd10_x_train, kdd10_y_train, kdd10_x_test, kdd10_y_test, \"classification\")"
   ]
  },
  {
   "cell_type": "code",
   "execution_count": 36,
   "metadata": {},
   "outputs": [
    {
     "name": "stdout",
     "output_type": "stream",
     "text": [
      "Suport Vector Machines Model\n",
      "------------------------------\n",
      "Training Time: 17.945133 seconds (29.39 M allocations: 448.520 MiB, 9.17% gc time)\n",
      "Prediction Time:  8.751269 seconds (13.34 M allocations: 215.579 MiB, 17.65% gc time)\n",
      "Model Accuracy: 0.9844001970217331\n",
      "Model Size: 1.057 kB\n",
      "------------------------------\n"
     ]
    }
   ],
   "source": [
    "# Modeling Suport Vector Machines\n",
    "println(\"Suport Vector Machines Model\")\n",
    "Model(LinearSVC(dual=false), kdd10_x_train, kdd10_y_train, kdd10_x_test, kdd10_y_test, \"classification\")"
   ]
  },
  {
   "cell_type": "code",
   "execution_count": 37,
   "metadata": {},
   "outputs": [
    {
     "name": "stdout",
     "output_type": "stream",
     "text": [
      "Neural Networks Model\n",
      "------------------------------\n",
      "Training Time: 61.681551 seconds (29.39 M allocations: 448.520 MiB)\n",
      "Prediction Time:  9.716917 seconds (13.34 M allocations: 215.579 MiB, 13.00% gc time)\n",
      "Model Accuracy: 0.9964239205975426\n",
      "Model Size: 142.868 kB\n",
      "------------------------------\n"
     ]
    }
   ],
   "source": [
    "# Modeling Neural Networks\n",
    "println(\"Neural Networks Model\")\n",
    "Model(MLPClassifier(max_iter = 1000), kdd10_x_train, kdd10_y_train, kdd10_x_test, kdd10_y_test, \"classification\")"
   ]
  },
  {
   "cell_type": "code",
   "execution_count": 39,
   "metadata": {},
   "outputs": [
    {
     "name": "stdout",
     "output_type": "stream",
     "text": [
      "Naive Bayes Classifier Model\n",
      "------------------------------\n",
      "Training Time:175.422732 seconds (291.49 M allocations: 4.345 GiB, 12.28% gc time)\n",
      "Prediction Time: 71.944270 seconds (132.28 M allocations: 2.076 GiB, 6.41% gc time)\n",
      "Model Accuracy: 0.9423012407376785\n",
      "Model Size: 1.991 kB\n",
      "------------------------------\n",
      "Decision Tree Classifier Model\n",
      "------------------------------\n",
      "Training Time:232.248612 seconds (294.91 M allocations: 4.396 GiB, 7.11% gc time)\n",
      "Prediction Time: 67.061262 seconds (132.26 M allocations: 2.075 GiB, 6.52% gc time)\n",
      "Model Accuracy: 0.9999407973575207\n",
      "Model Size: 45.899 kB\n",
      "------------------------------\n"
     ]
    }
   ],
   "source": [
    "# Kddcup Full Data set modeling, takes a lot of time to run, only run if you have extra time \n",
    "# Neccesary Package: MLJ\n",
    "#using MLJ: partition\n",
    "#KddFullModel()"
   ]
  },
  {
   "cell_type": "code",
   "execution_count": null,
   "metadata": {},
   "outputs": [],
   "source": []
  }
 ],
 "metadata": {
  "kernelspec": {
   "display_name": "Julia 1.5.3",
   "language": "julia",
   "name": "julia-1.5"
  },
  "language_info": {
   "file_extension": ".jl",
   "mimetype": "application/julia",
   "name": "julia",
   "version": "1.5.3"
  }
 },
 "nbformat": 4,
 "nbformat_minor": 4
}
