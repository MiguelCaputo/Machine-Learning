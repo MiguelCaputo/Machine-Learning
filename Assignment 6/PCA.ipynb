{
 "cells": [
  {
   "cell_type": "code",
   "execution_count": 1,
   "metadata": {},
   "outputs": [],
   "source": [
    "# If any of the Packages is missing, download them here\n",
    "# using Pkg\n",
    "# Pkg.add(\"CSV\")\n",
    "# Pkg.add(\"DataFrames\")\n",
    "# Pkg.add(\"MultivariateStats\")\n",
    "# Pkg.add(\"Plots\")\n",
    "# Pkg.add(\"ScikitLearn\")"
   ]
  },
  {
   "cell_type": "code",
   "execution_count": 2,
   "metadata": {},
   "outputs": [],
   "source": [
    "using CSV, DataFrames, MultivariateStats, Plots\n",
    "using ScikitLearn: fit!, predict, @sk_import, CrossValidation"
   ]
  },
  {
   "cell_type": "code",
   "execution_count": 3,
   "metadata": {},
   "outputs": [
    {
     "data": {
      "text/plain": [
       "PyObject <function accuracy_score at 0x00000000665358B0>"
      ]
     },
     "execution_count": 3,
     "metadata": {},
     "output_type": "execute_result"
    }
   ],
   "source": [
    "@sk_import naive_bayes : GaussianNB\n",
    "@sk_import preprocessing : LabelEncoder\n",
    "@sk_import metrics : accuracy_score"
   ]
  },
  {
   "cell_type": "code",
   "execution_count": 4,
   "metadata": {},
   "outputs": [
    {
     "data": {
      "text/plain": [
       "PyObject LabelEncoder()"
      ]
     },
     "execution_count": 4,
     "metadata": {},
     "output_type": "execute_result"
    }
   ],
   "source": [
    "# Preparing the Encoder\n",
    "enc = LabelEncoder()"
   ]
  },
  {
   "cell_type": "code",
   "execution_count": 5,
   "metadata": {},
   "outputs": [
    {
     "data": {
      "text/plain": [
       "do_pca (generic function with 1 method)"
      ]
     },
     "execution_count": 5,
     "metadata": {},
     "output_type": "execute_result"
    }
   ],
   "source": [
    "# Function to perform the pca and modeling\n",
    "function do_pca(data_x_float, data_x_cat, data_y, max_dim, model)\n",
    "    #Fit the data into the PCA model with the given dimensions\n",
    "    pca = fit(PCA, data_x_float'; maxoutdim=max_dim, pratio = 1.0)    \n",
    "    \n",
    "    # Transform the floating x data with the PCA model\n",
    "    data_x = MultivariateStats.transform(pca, data_x_float')'\n",
    "    \n",
    "    # Combine the transformed floating data with the categorical data\n",
    "    data_x = [data_x_cat data_x]\n",
    "    \n",
    "    # Separate the data into train and test using 70% for train and 30% for test\n",
    "    train_x, test_x, train_y, test_y = CrossValidation.train_test_split(data_x,data_y,test_size=0.3) \n",
    "    \n",
    "    # Fitting the model\n",
    "    fit!(model, train_x, train_y)\n",
    "    \n",
    "    # Predicting the model\n",
    "    prediction = predict(model, test_x)\n",
    "    \n",
    "    # Returning and printing results\n",
    "    #println(\"Model Accuracy using \", max_dim, \" features: \", accuracy_score(test_y,prediction))\n",
    "    return accuracy_score(test_y,prediction)\n",
    "end"
   ]
  },
  {
   "cell_type": "code",
   "execution_count": 6,
   "metadata": {},
   "outputs": [
    {
     "data": {
      "text/html": [
       "<table class=\"data-frame\"><thead><tr><th></th><th>tumorsize</th><th>co2</th><th>pain</th><th>wound</th><th>mobility</th><th>ntumors</th><th>nmorphine</th><th>remission</th><th>lungcapacity</th></tr><tr><th></th><th>Float64</th><th>Float64</th><th>Int64</th><th>Int64</th><th>Int64</th><th>Int64</th><th>Int64</th><th>Int64</th><th>Float64</th></tr></thead><tbody><p>8,525 rows × 27 columns (omitted printing of 18 columns)</p><tr><th>1</th><td>67.9812</td><td>1.53433</td><td>4</td><td>4</td><td>2</td><td>0</td><td>0</td><td>0</td><td>0.801088</td></tr><tr><th>2</th><td>64.7025</td><td>1.67613</td><td>2</td><td>3</td><td>2</td><td>0</td><td>0</td><td>0</td><td>0.326444</td></tr><tr><th>3</th><td>51.567</td><td>1.53345</td><td>6</td><td>3</td><td>2</td><td>0</td><td>0</td><td>0</td><td>0.565031</td></tr><tr><th>4</th><td>86.438</td><td>1.4533</td><td>3</td><td>3</td><td>2</td><td>0</td><td>0</td><td>0</td><td>0.848411</td></tr><tr><th>5</th><td>53.4002</td><td>1.56635</td><td>3</td><td>4</td><td>2</td><td>0</td><td>0</td><td>0</td><td>0.886491</td></tr><tr><th>6</th><td>51.6573</td><td>1.41787</td><td>4</td><td>5</td><td>2</td><td>0</td><td>0</td><td>0</td><td>0.701031</td></tr><tr><th>7</th><td>78.9171</td><td>1.70663</td><td>3</td><td>4</td><td>2</td><td>0</td><td>0</td><td>0</td><td>0.890854</td></tr><tr><th>8</th><td>69.8332</td><td>1.52873</td><td>3</td><td>3</td><td>3</td><td>0</td><td>0</td><td>0</td><td>0.66088</td></tr><tr><th>9</th><td>62.8526</td><td>1.54296</td><td>4</td><td>4</td><td>3</td><td>2</td><td>0</td><td>0</td><td>0.908871</td></tr><tr><th>10</th><td>71.7779</td><td>1.59306</td><td>5</td><td>4</td><td>3</td><td>0</td><td>0</td><td>0</td><td>0.959327</td></tr><tr><th>11</th><td>66.0256</td><td>1.60936</td><td>4</td><td>3</td><td>3</td><td>0</td><td>0</td><td>0</td><td>0.768215</td></tr><tr><th>12</th><td>57.5208</td><td>1.6344</td><td>4</td><td>3</td><td>3</td><td>0</td><td>0</td><td>0</td><td>0.488333</td></tr><tr><th>13</th><td>48.8394</td><td>1.53568</td><td>5</td><td>3</td><td>3</td><td>0</td><td>0</td><td>0</td><td>0.873921</td></tr><tr><th>14</th><td>67.2588</td><td>1.4896</td><td>3</td><td>3</td><td>2</td><td>0</td><td>0</td><td>0</td><td>0.707038</td></tr><tr><th>15</th><td>66.8071</td><td>1.52414</td><td>4</td><td>3</td><td>1</td><td>6</td><td>4</td><td>0</td><td>0.891166</td></tr><tr><th>16</th><td>73.8678</td><td>1.62979</td><td>3</td><td>4</td><td>1</td><td>0</td><td>0</td><td>0</td><td>0.604558</td></tr><tr><th>17</th><td>74.4426</td><td>1.74089</td><td>2</td><td>3</td><td>2</td><td>5</td><td>0</td><td>0</td><td>0.979005</td></tr><tr><th>18</th><td>79.7899</td><td>1.68875</td><td>6</td><td>4</td><td>2</td><td>0</td><td>0</td><td>0</td><td>0.58833</td></tr><tr><th>19</th><td>93.6763</td><td>1.71278</td><td>5</td><td>4</td><td>3</td><td>2</td><td>1</td><td>0</td><td>0.800185</td></tr><tr><th>20</th><td>58.2765</td><td>1.46615</td><td>7</td><td>3</td><td>2</td><td>0</td><td>0</td><td>0</td><td>0.900713</td></tr><tr><th>21</th><td>63.1962</td><td>1.51348</td><td>6</td><td>3</td><td>3</td><td>0</td><td>0</td><td>0</td><td>0.477993</td></tr><tr><th>22</th><td>57.5758</td><td>1.58642</td><td>3</td><td>3</td><td>1</td><td>2</td><td>0</td><td>0</td><td>0.616175</td></tr><tr><th>23</th><td>51.7235</td><td>1.49534</td><td>5</td><td>4</td><td>2</td><td>0</td><td>0</td><td>0</td><td>0.71411</td></tr><tr><th>24</th><td>63.6105</td><td>1.63116</td><td>1</td><td>3</td><td>2</td><td>0</td><td>0</td><td>0</td><td>0.667079</td></tr><tr><th>25</th><td>70.3155</td><td>1.59554</td><td>5</td><td>3</td><td>3</td><td>3</td><td>0</td><td>0</td><td>0.900029</td></tr><tr><th>26</th><td>78.9307</td><td>1.79946</td><td>3</td><td>4</td><td>2</td><td>2</td><td>0</td><td>0</td><td>0.670813</td></tr><tr><th>27</th><td>58.7022</td><td>1.53565</td><td>4</td><td>5</td><td>3</td><td>0</td><td>0</td><td>0</td><td>0.935679</td></tr><tr><th>28</th><td>66.4073</td><td>1.54085</td><td>4</td><td>3</td><td>3</td><td>0</td><td>0</td><td>0</td><td>0.298891</td></tr><tr><th>29</th><td>72.5715</td><td>1.59799</td><td>6</td><td>8</td><td>6</td><td>0</td><td>9</td><td>0</td><td>0.648699</td></tr><tr><th>30</th><td>52.9476</td><td>1.48219</td><td>5</td><td>7</td><td>5</td><td>1</td><td>3</td><td>0</td><td>0.70754</td></tr><tr><th>&vellip;</th><td>&vellip;</td><td>&vellip;</td><td>&vellip;</td><td>&vellip;</td><td>&vellip;</td><td>&vellip;</td><td>&vellip;</td><td>&vellip;</td><td>&vellip;</td></tr></tbody></table>"
      ],
      "text/latex": [
       "\\begin{tabular}{r|cccccccccc}\n",
       "\t& tumorsize & co2 & pain & wound & mobility & ntumors & nmorphine & remission & lungcapacity & \\\\\n",
       "\t\\hline\n",
       "\t& Float64 & Float64 & Int64 & Int64 & Int64 & Int64 & Int64 & Int64 & Float64 & \\\\\n",
       "\t\\hline\n",
       "\t1 & 67.9812 & 1.53433 & 4 & 4 & 2 & 0 & 0 & 0 & 0.801088 & $\\dots$ \\\\\n",
       "\t2 & 64.7025 & 1.67613 & 2 & 3 & 2 & 0 & 0 & 0 & 0.326444 & $\\dots$ \\\\\n",
       "\t3 & 51.567 & 1.53345 & 6 & 3 & 2 & 0 & 0 & 0 & 0.565031 & $\\dots$ \\\\\n",
       "\t4 & 86.438 & 1.4533 & 3 & 3 & 2 & 0 & 0 & 0 & 0.848411 & $\\dots$ \\\\\n",
       "\t5 & 53.4002 & 1.56635 & 3 & 4 & 2 & 0 & 0 & 0 & 0.886491 & $\\dots$ \\\\\n",
       "\t6 & 51.6573 & 1.41787 & 4 & 5 & 2 & 0 & 0 & 0 & 0.701031 & $\\dots$ \\\\\n",
       "\t7 & 78.9171 & 1.70663 & 3 & 4 & 2 & 0 & 0 & 0 & 0.890854 & $\\dots$ \\\\\n",
       "\t8 & 69.8332 & 1.52873 & 3 & 3 & 3 & 0 & 0 & 0 & 0.66088 & $\\dots$ \\\\\n",
       "\t9 & 62.8526 & 1.54296 & 4 & 4 & 3 & 2 & 0 & 0 & 0.908871 & $\\dots$ \\\\\n",
       "\t10 & 71.7779 & 1.59306 & 5 & 4 & 3 & 0 & 0 & 0 & 0.959327 & $\\dots$ \\\\\n",
       "\t11 & 66.0256 & 1.60936 & 4 & 3 & 3 & 0 & 0 & 0 & 0.768215 & $\\dots$ \\\\\n",
       "\t12 & 57.5208 & 1.6344 & 4 & 3 & 3 & 0 & 0 & 0 & 0.488333 & $\\dots$ \\\\\n",
       "\t13 & 48.8394 & 1.53568 & 5 & 3 & 3 & 0 & 0 & 0 & 0.873921 & $\\dots$ \\\\\n",
       "\t14 & 67.2588 & 1.4896 & 3 & 3 & 2 & 0 & 0 & 0 & 0.707038 & $\\dots$ \\\\\n",
       "\t15 & 66.8071 & 1.52414 & 4 & 3 & 1 & 6 & 4 & 0 & 0.891166 & $\\dots$ \\\\\n",
       "\t16 & 73.8678 & 1.62979 & 3 & 4 & 1 & 0 & 0 & 0 & 0.604558 & $\\dots$ \\\\\n",
       "\t17 & 74.4426 & 1.74089 & 2 & 3 & 2 & 5 & 0 & 0 & 0.979005 & $\\dots$ \\\\\n",
       "\t18 & 79.7899 & 1.68875 & 6 & 4 & 2 & 0 & 0 & 0 & 0.58833 & $\\dots$ \\\\\n",
       "\t19 & 93.6763 & 1.71278 & 5 & 4 & 3 & 2 & 1 & 0 & 0.800185 & $\\dots$ \\\\\n",
       "\t20 & 58.2765 & 1.46615 & 7 & 3 & 2 & 0 & 0 & 0 & 0.900713 & $\\dots$ \\\\\n",
       "\t21 & 63.1962 & 1.51348 & 6 & 3 & 3 & 0 & 0 & 0 & 0.477993 & $\\dots$ \\\\\n",
       "\t22 & 57.5758 & 1.58642 & 3 & 3 & 1 & 2 & 0 & 0 & 0.616175 & $\\dots$ \\\\\n",
       "\t23 & 51.7235 & 1.49534 & 5 & 4 & 2 & 0 & 0 & 0 & 0.71411 & $\\dots$ \\\\\n",
       "\t24 & 63.6105 & 1.63116 & 1 & 3 & 2 & 0 & 0 & 0 & 0.667079 & $\\dots$ \\\\\n",
       "\t25 & 70.3155 & 1.59554 & 5 & 3 & 3 & 3 & 0 & 0 & 0.900029 & $\\dots$ \\\\\n",
       "\t26 & 78.9307 & 1.79946 & 3 & 4 & 2 & 2 & 0 & 0 & 0.670813 & $\\dots$ \\\\\n",
       "\t27 & 58.7022 & 1.53565 & 4 & 5 & 3 & 0 & 0 & 0 & 0.935679 & $\\dots$ \\\\\n",
       "\t28 & 66.4073 & 1.54085 & 4 & 3 & 3 & 0 & 0 & 0 & 0.298891 & $\\dots$ \\\\\n",
       "\t29 & 72.5715 & 1.59799 & 6 & 8 & 6 & 0 & 9 & 0 & 0.648699 & $\\dots$ \\\\\n",
       "\t30 & 52.9476 & 1.48219 & 5 & 7 & 5 & 1 & 3 & 0 & 0.70754 & $\\dots$ \\\\\n",
       "\t$\\dots$ & $\\dots$ & $\\dots$ & $\\dots$ & $\\dots$ & $\\dots$ & $\\dots$ & $\\dots$ & $\\dots$ & $\\dots$ &  \\\\\n",
       "\\end{tabular}\n"
      ],
      "text/plain": [
       "\u001b[1m8525×27 DataFrame\u001b[0m\n",
       "\u001b[1m  Row \u001b[0m│\u001b[1m tumorsize \u001b[0m\u001b[1m co2     \u001b[0m\u001b[1m pain  \u001b[0m\u001b[1m wound \u001b[0m\u001b[1m mobility \u001b[0m\u001b[1m ntumors \u001b[0m\u001b[1m nmorphine \u001b[0m\u001b[1m remiss\u001b[0m ⋯\n",
       "\u001b[1m      \u001b[0m│\u001b[90m Float64   \u001b[0m\u001b[90m Float64 \u001b[0m\u001b[90m Int64 \u001b[0m\u001b[90m Int64 \u001b[0m\u001b[90m Int64    \u001b[0m\u001b[90m Int64   \u001b[0m\u001b[90m Int64     \u001b[0m\u001b[90m Int64 \u001b[0m ⋯\n",
       "──────┼─────────────────────────────────────────────────────────────────────────\n",
       "    1 │   67.9812  1.53433      4      4         2        0          0         ⋯\n",
       "    2 │   64.7025  1.67613      2      3         2        0          0\n",
       "    3 │   51.567   1.53345      6      3         2        0          0\n",
       "    4 │   86.438   1.4533       3      3         2        0          0\n",
       "    5 │   53.4002  1.56635      3      4         2        0          0         ⋯\n",
       "    6 │   51.6573  1.41787      4      5         2        0          0\n",
       "    7 │   78.9171  1.70663      3      4         2        0          0\n",
       "    8 │   69.8332  1.52873      3      3         3        0          0\n",
       "    9 │   62.8526  1.54296      4      4         3        2          0         ⋯\n",
       "   10 │   71.7779  1.59306      5      4         3        0          0\n",
       "   11 │   66.0256  1.60936      4      3         3        0          0\n",
       "  ⋮   │     ⋮         ⋮       ⋮      ⋮       ⋮         ⋮         ⋮          ⋮  ⋱\n",
       " 8516 │   72.1299  1.54957      6      6         3        0          1\n",
       " 8517 │   80.6805  1.76155      5      6         3        0          1         ⋯\n",
       " 8518 │   74.1363  1.59926      5      6         3        7          5\n",
       " 8519 │   70.073   1.47649      6      5         3        4          2\n",
       " 8520 │   82.6019  1.77649      7      6         1        1          2\n",
       " 8521 │   71.2625  1.44567      4      7         4        4          0         ⋯\n",
       " 8522 │   79.9304  1.84224      4      6         2        2          5\n",
       " 8523 │   67.098   1.51245      5      6         4        0          4\n",
       " 8524 │   66.3834  1.61859      7      5         3        3          2\n",
       " 8525 │   65.9232  1.58751      4      5         3        1          2         ⋯\n",
       "\u001b[36m                                                20 columns and 8504 rows omitted\u001b[0m"
      ]
     },
     "execution_count": 6,
     "metadata": {},
     "output_type": "execute_result"
    }
   ],
   "source": [
    "# Load the DataSet\n",
    "file = CSV.File(\"01_hdp.csv\") |> DataFrame"
   ]
  },
  {
   "cell_type": "code",
   "execution_count": 7,
   "metadata": {},
   "outputs": [
    {
     "data": {
      "text/plain": [
       "8525-element Array{Int64,1}:\n",
       " 0\n",
       " 0\n",
       " 0\n",
       " 0\n",
       " 0\n",
       " 0\n",
       " 0\n",
       " 0\n",
       " 0\n",
       " 0\n",
       " 0\n",
       " 0\n",
       " 0\n",
       " ⋮\n",
       " 0\n",
       " 0\n",
       " 0\n",
       " 0\n",
       " 0\n",
       " 0\n",
       " 0\n",
       " 0\n",
       " 0\n",
       " 0\n",
       " 0\n",
       " 0"
      ]
     },
     "execution_count": 7,
     "metadata": {},
     "output_type": "execute_result"
    }
   ],
   "source": [
    "# Encoding all categorical columns\n",
    "file[!,\"FamilyHx\"] .= enc.fit_transform(file[!,\"FamilyHx\"])\n",
    "file[!,\"SmokingHx\"] .= enc.fit_transform(file[!,\"SmokingHx\"])\n",
    "file[!,\"Sex\"] .= enc.fit_transform(file[!,\"Sex\"])\n",
    "file[!,\"School\"] .= enc.fit_transform(file[!,\"School\"])"
   ]
  },
  {
   "cell_type": "code",
   "execution_count": 8,
   "metadata": {},
   "outputs": [
    {
     "data": {
      "text/plain": [
       "8525-element PooledArrays.PooledArray{String,UInt32,1,Array{UInt32,1}}:\n",
       " \"II\"\n",
       " \"II\"\n",
       " \"II\"\n",
       " \"I\"\n",
       " \"II\"\n",
       " \"I\"\n",
       " \"II\"\n",
       " \"II\"\n",
       " \"II\"\n",
       " \"II\"\n",
       " \"I\"\n",
       " \"II\"\n",
       " \"II\"\n",
       " ⋮\n",
       " \"III\"\n",
       " \"I\"\n",
       " \"II\"\n",
       " \"I\"\n",
       " \"IV\"\n",
       " \"IV\"\n",
       " \"I\"\n",
       " \"IV\"\n",
       " \"I\"\n",
       " \"II\"\n",
       " \"IV\"\n",
       " \"II\""
      ]
     },
     "execution_count": 8,
     "metadata": {},
     "output_type": "execute_result"
    }
   ],
   "source": [
    "# Getting the y data\n",
    "data_y = file[!,15] "
   ]
  },
  {
   "cell_type": "code",
   "execution_count": 9,
   "metadata": {},
   "outputs": [
    {
     "data": {
      "text/html": [
       "<table class=\"data-frame\"><thead><tr><th></th><th>tumorsize</th><th>co2</th><th>pain</th><th>wound</th><th>mobility</th><th>ntumors</th><th>nmorphine</th><th>remission</th><th>lungcapacity</th></tr><tr><th></th><th>Float64</th><th>Float64</th><th>Int64</th><th>Int64</th><th>Int64</th><th>Int64</th><th>Int64</th><th>Int64</th><th>Float64</th></tr></thead><tbody><p>8,525 rows × 26 columns (omitted printing of 17 columns)</p><tr><th>1</th><td>67.9812</td><td>1.53433</td><td>4</td><td>4</td><td>2</td><td>0</td><td>0</td><td>0</td><td>0.801088</td></tr><tr><th>2</th><td>64.7025</td><td>1.67613</td><td>2</td><td>3</td><td>2</td><td>0</td><td>0</td><td>0</td><td>0.326444</td></tr><tr><th>3</th><td>51.567</td><td>1.53345</td><td>6</td><td>3</td><td>2</td><td>0</td><td>0</td><td>0</td><td>0.565031</td></tr><tr><th>4</th><td>86.438</td><td>1.4533</td><td>3</td><td>3</td><td>2</td><td>0</td><td>0</td><td>0</td><td>0.848411</td></tr><tr><th>5</th><td>53.4002</td><td>1.56635</td><td>3</td><td>4</td><td>2</td><td>0</td><td>0</td><td>0</td><td>0.886491</td></tr><tr><th>6</th><td>51.6573</td><td>1.41787</td><td>4</td><td>5</td><td>2</td><td>0</td><td>0</td><td>0</td><td>0.701031</td></tr><tr><th>7</th><td>78.9171</td><td>1.70663</td><td>3</td><td>4</td><td>2</td><td>0</td><td>0</td><td>0</td><td>0.890854</td></tr><tr><th>8</th><td>69.8332</td><td>1.52873</td><td>3</td><td>3</td><td>3</td><td>0</td><td>0</td><td>0</td><td>0.66088</td></tr><tr><th>9</th><td>62.8526</td><td>1.54296</td><td>4</td><td>4</td><td>3</td><td>2</td><td>0</td><td>0</td><td>0.908871</td></tr><tr><th>10</th><td>71.7779</td><td>1.59306</td><td>5</td><td>4</td><td>3</td><td>0</td><td>0</td><td>0</td><td>0.959327</td></tr><tr><th>11</th><td>66.0256</td><td>1.60936</td><td>4</td><td>3</td><td>3</td><td>0</td><td>0</td><td>0</td><td>0.768215</td></tr><tr><th>12</th><td>57.5208</td><td>1.6344</td><td>4</td><td>3</td><td>3</td><td>0</td><td>0</td><td>0</td><td>0.488333</td></tr><tr><th>13</th><td>48.8394</td><td>1.53568</td><td>5</td><td>3</td><td>3</td><td>0</td><td>0</td><td>0</td><td>0.873921</td></tr><tr><th>14</th><td>67.2588</td><td>1.4896</td><td>3</td><td>3</td><td>2</td><td>0</td><td>0</td><td>0</td><td>0.707038</td></tr><tr><th>15</th><td>66.8071</td><td>1.52414</td><td>4</td><td>3</td><td>1</td><td>6</td><td>4</td><td>0</td><td>0.891166</td></tr><tr><th>16</th><td>73.8678</td><td>1.62979</td><td>3</td><td>4</td><td>1</td><td>0</td><td>0</td><td>0</td><td>0.604558</td></tr><tr><th>17</th><td>74.4426</td><td>1.74089</td><td>2</td><td>3</td><td>2</td><td>5</td><td>0</td><td>0</td><td>0.979005</td></tr><tr><th>18</th><td>79.7899</td><td>1.68875</td><td>6</td><td>4</td><td>2</td><td>0</td><td>0</td><td>0</td><td>0.58833</td></tr><tr><th>19</th><td>93.6763</td><td>1.71278</td><td>5</td><td>4</td><td>3</td><td>2</td><td>1</td><td>0</td><td>0.800185</td></tr><tr><th>20</th><td>58.2765</td><td>1.46615</td><td>7</td><td>3</td><td>2</td><td>0</td><td>0</td><td>0</td><td>0.900713</td></tr><tr><th>21</th><td>63.1962</td><td>1.51348</td><td>6</td><td>3</td><td>3</td><td>0</td><td>0</td><td>0</td><td>0.477993</td></tr><tr><th>22</th><td>57.5758</td><td>1.58642</td><td>3</td><td>3</td><td>1</td><td>2</td><td>0</td><td>0</td><td>0.616175</td></tr><tr><th>23</th><td>51.7235</td><td>1.49534</td><td>5</td><td>4</td><td>2</td><td>0</td><td>0</td><td>0</td><td>0.71411</td></tr><tr><th>24</th><td>63.6105</td><td>1.63116</td><td>1</td><td>3</td><td>2</td><td>0</td><td>0</td><td>0</td><td>0.667079</td></tr><tr><th>25</th><td>70.3155</td><td>1.59554</td><td>5</td><td>3</td><td>3</td><td>3</td><td>0</td><td>0</td><td>0.900029</td></tr><tr><th>26</th><td>78.9307</td><td>1.79946</td><td>3</td><td>4</td><td>2</td><td>2</td><td>0</td><td>0</td><td>0.670813</td></tr><tr><th>27</th><td>58.7022</td><td>1.53565</td><td>4</td><td>5</td><td>3</td><td>0</td><td>0</td><td>0</td><td>0.935679</td></tr><tr><th>28</th><td>66.4073</td><td>1.54085</td><td>4</td><td>3</td><td>3</td><td>0</td><td>0</td><td>0</td><td>0.298891</td></tr><tr><th>29</th><td>72.5715</td><td>1.59799</td><td>6</td><td>8</td><td>6</td><td>0</td><td>9</td><td>0</td><td>0.648699</td></tr><tr><th>30</th><td>52.9476</td><td>1.48219</td><td>5</td><td>7</td><td>5</td><td>1</td><td>3</td><td>0</td><td>0.70754</td></tr><tr><th>&vellip;</th><td>&vellip;</td><td>&vellip;</td><td>&vellip;</td><td>&vellip;</td><td>&vellip;</td><td>&vellip;</td><td>&vellip;</td><td>&vellip;</td><td>&vellip;</td></tr></tbody></table>"
      ],
      "text/latex": [
       "\\begin{tabular}{r|cccccccccc}\n",
       "\t& tumorsize & co2 & pain & wound & mobility & ntumors & nmorphine & remission & lungcapacity & \\\\\n",
       "\t\\hline\n",
       "\t& Float64 & Float64 & Int64 & Int64 & Int64 & Int64 & Int64 & Int64 & Float64 & \\\\\n",
       "\t\\hline\n",
       "\t1 & 67.9812 & 1.53433 & 4 & 4 & 2 & 0 & 0 & 0 & 0.801088 & $\\dots$ \\\\\n",
       "\t2 & 64.7025 & 1.67613 & 2 & 3 & 2 & 0 & 0 & 0 & 0.326444 & $\\dots$ \\\\\n",
       "\t3 & 51.567 & 1.53345 & 6 & 3 & 2 & 0 & 0 & 0 & 0.565031 & $\\dots$ \\\\\n",
       "\t4 & 86.438 & 1.4533 & 3 & 3 & 2 & 0 & 0 & 0 & 0.848411 & $\\dots$ \\\\\n",
       "\t5 & 53.4002 & 1.56635 & 3 & 4 & 2 & 0 & 0 & 0 & 0.886491 & $\\dots$ \\\\\n",
       "\t6 & 51.6573 & 1.41787 & 4 & 5 & 2 & 0 & 0 & 0 & 0.701031 & $\\dots$ \\\\\n",
       "\t7 & 78.9171 & 1.70663 & 3 & 4 & 2 & 0 & 0 & 0 & 0.890854 & $\\dots$ \\\\\n",
       "\t8 & 69.8332 & 1.52873 & 3 & 3 & 3 & 0 & 0 & 0 & 0.66088 & $\\dots$ \\\\\n",
       "\t9 & 62.8526 & 1.54296 & 4 & 4 & 3 & 2 & 0 & 0 & 0.908871 & $\\dots$ \\\\\n",
       "\t10 & 71.7779 & 1.59306 & 5 & 4 & 3 & 0 & 0 & 0 & 0.959327 & $\\dots$ \\\\\n",
       "\t11 & 66.0256 & 1.60936 & 4 & 3 & 3 & 0 & 0 & 0 & 0.768215 & $\\dots$ \\\\\n",
       "\t12 & 57.5208 & 1.6344 & 4 & 3 & 3 & 0 & 0 & 0 & 0.488333 & $\\dots$ \\\\\n",
       "\t13 & 48.8394 & 1.53568 & 5 & 3 & 3 & 0 & 0 & 0 & 0.873921 & $\\dots$ \\\\\n",
       "\t14 & 67.2588 & 1.4896 & 3 & 3 & 2 & 0 & 0 & 0 & 0.707038 & $\\dots$ \\\\\n",
       "\t15 & 66.8071 & 1.52414 & 4 & 3 & 1 & 6 & 4 & 0 & 0.891166 & $\\dots$ \\\\\n",
       "\t16 & 73.8678 & 1.62979 & 3 & 4 & 1 & 0 & 0 & 0 & 0.604558 & $\\dots$ \\\\\n",
       "\t17 & 74.4426 & 1.74089 & 2 & 3 & 2 & 5 & 0 & 0 & 0.979005 & $\\dots$ \\\\\n",
       "\t18 & 79.7899 & 1.68875 & 6 & 4 & 2 & 0 & 0 & 0 & 0.58833 & $\\dots$ \\\\\n",
       "\t19 & 93.6763 & 1.71278 & 5 & 4 & 3 & 2 & 1 & 0 & 0.800185 & $\\dots$ \\\\\n",
       "\t20 & 58.2765 & 1.46615 & 7 & 3 & 2 & 0 & 0 & 0 & 0.900713 & $\\dots$ \\\\\n",
       "\t21 & 63.1962 & 1.51348 & 6 & 3 & 3 & 0 & 0 & 0 & 0.477993 & $\\dots$ \\\\\n",
       "\t22 & 57.5758 & 1.58642 & 3 & 3 & 1 & 2 & 0 & 0 & 0.616175 & $\\dots$ \\\\\n",
       "\t23 & 51.7235 & 1.49534 & 5 & 4 & 2 & 0 & 0 & 0 & 0.71411 & $\\dots$ \\\\\n",
       "\t24 & 63.6105 & 1.63116 & 1 & 3 & 2 & 0 & 0 & 0 & 0.667079 & $\\dots$ \\\\\n",
       "\t25 & 70.3155 & 1.59554 & 5 & 3 & 3 & 3 & 0 & 0 & 0.900029 & $\\dots$ \\\\\n",
       "\t26 & 78.9307 & 1.79946 & 3 & 4 & 2 & 2 & 0 & 0 & 0.670813 & $\\dots$ \\\\\n",
       "\t27 & 58.7022 & 1.53565 & 4 & 5 & 3 & 0 & 0 & 0 & 0.935679 & $\\dots$ \\\\\n",
       "\t28 & 66.4073 & 1.54085 & 4 & 3 & 3 & 0 & 0 & 0 & 0.298891 & $\\dots$ \\\\\n",
       "\t29 & 72.5715 & 1.59799 & 6 & 8 & 6 & 0 & 9 & 0 & 0.648699 & $\\dots$ \\\\\n",
       "\t30 & 52.9476 & 1.48219 & 5 & 7 & 5 & 1 & 3 & 0 & 0.70754 & $\\dots$ \\\\\n",
       "\t$\\dots$ & $\\dots$ & $\\dots$ & $\\dots$ & $\\dots$ & $\\dots$ & $\\dots$ & $\\dots$ & $\\dots$ & $\\dots$ &  \\\\\n",
       "\\end{tabular}\n"
      ],
      "text/plain": [
       "\u001b[1m8525×26 DataFrame\u001b[0m\n",
       "\u001b[1m  Row \u001b[0m│\u001b[1m tumorsize \u001b[0m\u001b[1m co2     \u001b[0m\u001b[1m pain  \u001b[0m\u001b[1m wound \u001b[0m\u001b[1m mobility \u001b[0m\u001b[1m ntumors \u001b[0m\u001b[1m nmorphine \u001b[0m\u001b[1m remiss\u001b[0m ⋯\n",
       "\u001b[1m      \u001b[0m│\u001b[90m Float64   \u001b[0m\u001b[90m Float64 \u001b[0m\u001b[90m Int64 \u001b[0m\u001b[90m Int64 \u001b[0m\u001b[90m Int64    \u001b[0m\u001b[90m Int64   \u001b[0m\u001b[90m Int64     \u001b[0m\u001b[90m Int64 \u001b[0m ⋯\n",
       "──────┼─────────────────────────────────────────────────────────────────────────\n",
       "    1 │   67.9812  1.53433      4      4         2        0          0         ⋯\n",
       "    2 │   64.7025  1.67613      2      3         2        0          0\n",
       "    3 │   51.567   1.53345      6      3         2        0          0\n",
       "    4 │   86.438   1.4533       3      3         2        0          0\n",
       "    5 │   53.4002  1.56635      3      4         2        0          0         ⋯\n",
       "    6 │   51.6573  1.41787      4      5         2        0          0\n",
       "    7 │   78.9171  1.70663      3      4         2        0          0\n",
       "    8 │   69.8332  1.52873      3      3         3        0          0\n",
       "    9 │   62.8526  1.54296      4      4         3        2          0         ⋯\n",
       "   10 │   71.7779  1.59306      5      4         3        0          0\n",
       "   11 │   66.0256  1.60936      4      3         3        0          0\n",
       "  ⋮   │     ⋮         ⋮       ⋮      ⋮       ⋮         ⋮         ⋮          ⋮  ⋱\n",
       " 8516 │   72.1299  1.54957      6      6         3        0          1\n",
       " 8517 │   80.6805  1.76155      5      6         3        0          1         ⋯\n",
       " 8518 │   74.1363  1.59926      5      6         3        7          5\n",
       " 8519 │   70.073   1.47649      6      5         3        4          2\n",
       " 8520 │   82.6019  1.77649      7      6         1        1          2\n",
       " 8521 │   71.2625  1.44567      4      7         4        4          0         ⋯\n",
       " 8522 │   79.9304  1.84224      4      6         2        2          5\n",
       " 8523 │   67.098   1.51245      5      6         4        0          4\n",
       " 8524 │   66.3834  1.61859      7      5         3        3          2\n",
       " 8525 │   65.9232  1.58751      4      5         3        1          2         ⋯\n",
       "\u001b[36m                                                19 columns and 8504 rows omitted\u001b[0m"
      ]
     },
     "execution_count": 9,
     "metadata": {},
     "output_type": "execute_result"
    }
   ],
   "source": [
    "# Separating the x data from the whole dataframe\n",
    "data_x = file[:,1:end .!= 15]"
   ]
  },
  {
   "cell_type": "code",
   "execution_count": 10,
   "metadata": {},
   "outputs": [
    {
     "data": {
      "text/html": [
       "<table class=\"data-frame\"><thead><tr><th></th><th>tumorsize</th><th>co2</th><th>lungcapacity</th><th>Age</th><th>WBC</th><th>RBC</th><th>BMI</th><th>IL6</th></tr><tr><th></th><th>Float64</th><th>Float64</th><th>Float64</th><th>Float64</th><th>Float64</th><th>Float64</th><th>Float64</th><th>Float64</th></tr></thead><tbody><p>8,525 rows × 10 columns (omitted printing of 2 columns)</p><tr><th>1</th><td>67.9812</td><td>1.53433</td><td>0.801088</td><td>64.9682</td><td>6087.65</td><td>4.86842</td><td>24.1442</td><td>3.69898</td></tr><tr><th>2</th><td>64.7025</td><td>1.67613</td><td>0.326444</td><td>53.9171</td><td>6700.31</td><td>4.67905</td><td>29.4052</td><td>2.62748</td></tr><tr><th>3</th><td>51.567</td><td>1.53345</td><td>0.565031</td><td>53.3473</td><td>6042.81</td><td>5.00586</td><td>29.4826</td><td>13.8962</td></tr><tr><th>4</th><td>86.438</td><td>1.4533</td><td>0.848411</td><td>41.368</td><td>7162.7</td><td>5.26506</td><td>21.5573</td><td>3.00803</td></tr><tr><th>5</th><td>53.4002</td><td>1.56635</td><td>0.886491</td><td>46.8004</td><td>6443.44</td><td>4.98426</td><td>29.8152</td><td>3.8907</td></tr><tr><th>6</th><td>51.6573</td><td>1.41787</td><td>0.701031</td><td>51.9294</td><td>6800.55</td><td>5.19971</td><td>27.1025</td><td>1.41822</td></tr><tr><th>7</th><td>78.9171</td><td>1.70663</td><td>0.890854</td><td>53.8293</td><td>6236.45</td><td>4.8699</td><td>21.1191</td><td>2.29322</td></tr><tr><th>8</th><td>69.8332</td><td>1.52873</td><td>0.66088</td><td>46.5622</td><td>3997.7</td><td>4.64792</td><td>42.4754</td><td>4.57562</td></tr><tr><th>9</th><td>62.8526</td><td>1.54296</td><td>0.908871</td><td>54.3894</td><td>6652.8</td><td>4.82706</td><td>18.6851</td><td>8.0302</td></tr><tr><th>10</th><td>71.7779</td><td>1.59306</td><td>0.959327</td><td>50.5446</td><td>5778.09</td><td>4.85051</td><td>39.4424</td><td>5.85566</td></tr><tr><th>11</th><td>66.0256</td><td>1.60936</td><td>0.768215</td><td>42.9193</td><td>6182.05</td><td>5.19967</td><td>29.2478</td><td>4.89269</td></tr><tr><th>12</th><td>57.5208</td><td>1.6344</td><td>0.488333</td><td>46.2975</td><td>5007.58</td><td>5.09869</td><td>35.1963</td><td>2.44687</td></tr><tr><th>13</th><td>48.8394</td><td>1.53568</td><td>0.873921</td><td>53.6765</td><td>6456.86</td><td>5.16413</td><td>33.3749</td><td>2.14036</td></tr><tr><th>14</th><td>67.2588</td><td>1.4896</td><td>0.707038</td><td>43.551</td><td>5268.61</td><td>5.33858</td><td>25.6181</td><td>3.15416</td></tr><tr><th>15</th><td>66.8071</td><td>1.52414</td><td>0.891166</td><td>51.3641</td><td>5903.56</td><td>4.90417</td><td>36.2201</td><td>2.39574</td></tr><tr><th>16</th><td>73.8678</td><td>1.62979</td><td>0.604558</td><td>42.8009</td><td>5582.08</td><td>5.21306</td><td>23.7127</td><td>1.79154</td></tr><tr><th>17</th><td>74.4426</td><td>1.74089</td><td>0.979005</td><td>56.3839</td><td>5431.33</td><td>5.27419</td><td>40.0507</td><td>3.37529</td></tr><tr><th>18</th><td>79.7899</td><td>1.68875</td><td>0.58833</td><td>46.8706</td><td>4245.59</td><td>5.24687</td><td>28.1647</td><td>5.41735</td></tr><tr><th>19</th><td>93.6763</td><td>1.71278</td><td>0.800185</td><td>53.801</td><td>7590.17</td><td>4.57135</td><td>28.1547</td><td>3.56619</td></tr><tr><th>20</th><td>58.2765</td><td>1.46615</td><td>0.900713</td><td>48.1401</td><td>7099.82</td><td>4.83295</td><td>27.743</td><td>2.45964</td></tr><tr><th>21</th><td>63.1962</td><td>1.51348</td><td>0.477993</td><td>46.2176</td><td>6752.25</td><td>4.50318</td><td>37.9228</td><td>5.49448</td></tr><tr><th>22</th><td>57.5758</td><td>1.58642</td><td>0.616175</td><td>53.5869</td><td>6574.25</td><td>5.17061</td><td>23.8068</td><td>0.544137</td></tr><tr><th>23</th><td>51.7235</td><td>1.49534</td><td>0.71411</td><td>50.3</td><td>5914.65</td><td>5.10929</td><td>31.5515</td><td>3.55323</td></tr><tr><th>24</th><td>63.6105</td><td>1.63116</td><td>0.667079</td><td>41.493</td><td>7907.5</td><td>4.72401</td><td>29.2132</td><td>0.823426</td></tr><tr><th>25</th><td>70.3155</td><td>1.59554</td><td>0.900029</td><td>51.9869</td><td>4094.93</td><td>4.44283</td><td>26.316</td><td>3.92286</td></tr><tr><th>26</th><td>78.9307</td><td>1.79946</td><td>0.670813</td><td>50.1704</td><td>7180.09</td><td>5.03376</td><td>30.5357</td><td>8.38901</td></tr><tr><th>27</th><td>58.7022</td><td>1.53565</td><td>0.935679</td><td>50.2301</td><td>7100.35</td><td>5.00096</td><td>39.4688</td><td>2.31555</td></tr><tr><th>28</th><td>66.4073</td><td>1.54085</td><td>0.298891</td><td>48.4307</td><td>4976.0</td><td>4.9371</td><td>36.5353</td><td>10.0637</td></tr><tr><th>29</th><td>72.5715</td><td>1.59799</td><td>0.648699</td><td>53.096</td><td>5623.23</td><td>5.22218</td><td>56.19</td><td>7.04278</td></tr><tr><th>30</th><td>52.9476</td><td>1.48219</td><td>0.70754</td><td>56.2427</td><td>6628.93</td><td>4.46669</td><td>19.702</td><td>2.17385</td></tr><tr><th>&vellip;</th><td>&vellip;</td><td>&vellip;</td><td>&vellip;</td><td>&vellip;</td><td>&vellip;</td><td>&vellip;</td><td>&vellip;</td><td>&vellip;</td></tr></tbody></table>"
      ],
      "text/latex": [
       "\\begin{tabular}{r|ccccccccc}\n",
       "\t& tumorsize & co2 & lungcapacity & Age & WBC & RBC & BMI & IL6 & \\\\\n",
       "\t\\hline\n",
       "\t& Float64 & Float64 & Float64 & Float64 & Float64 & Float64 & Float64 & Float64 & \\\\\n",
       "\t\\hline\n",
       "\t1 & 67.9812 & 1.53433 & 0.801088 & 64.9682 & 6087.65 & 4.86842 & 24.1442 & 3.69898 & $\\dots$ \\\\\n",
       "\t2 & 64.7025 & 1.67613 & 0.326444 & 53.9171 & 6700.31 & 4.67905 & 29.4052 & 2.62748 & $\\dots$ \\\\\n",
       "\t3 & 51.567 & 1.53345 & 0.565031 & 53.3473 & 6042.81 & 5.00586 & 29.4826 & 13.8962 & $\\dots$ \\\\\n",
       "\t4 & 86.438 & 1.4533 & 0.848411 & 41.368 & 7162.7 & 5.26506 & 21.5573 & 3.00803 & $\\dots$ \\\\\n",
       "\t5 & 53.4002 & 1.56635 & 0.886491 & 46.8004 & 6443.44 & 4.98426 & 29.8152 & 3.8907 & $\\dots$ \\\\\n",
       "\t6 & 51.6573 & 1.41787 & 0.701031 & 51.9294 & 6800.55 & 5.19971 & 27.1025 & 1.41822 & $\\dots$ \\\\\n",
       "\t7 & 78.9171 & 1.70663 & 0.890854 & 53.8293 & 6236.45 & 4.8699 & 21.1191 & 2.29322 & $\\dots$ \\\\\n",
       "\t8 & 69.8332 & 1.52873 & 0.66088 & 46.5622 & 3997.7 & 4.64792 & 42.4754 & 4.57562 & $\\dots$ \\\\\n",
       "\t9 & 62.8526 & 1.54296 & 0.908871 & 54.3894 & 6652.8 & 4.82706 & 18.6851 & 8.0302 & $\\dots$ \\\\\n",
       "\t10 & 71.7779 & 1.59306 & 0.959327 & 50.5446 & 5778.09 & 4.85051 & 39.4424 & 5.85566 & $\\dots$ \\\\\n",
       "\t11 & 66.0256 & 1.60936 & 0.768215 & 42.9193 & 6182.05 & 5.19967 & 29.2478 & 4.89269 & $\\dots$ \\\\\n",
       "\t12 & 57.5208 & 1.6344 & 0.488333 & 46.2975 & 5007.58 & 5.09869 & 35.1963 & 2.44687 & $\\dots$ \\\\\n",
       "\t13 & 48.8394 & 1.53568 & 0.873921 & 53.6765 & 6456.86 & 5.16413 & 33.3749 & 2.14036 & $\\dots$ \\\\\n",
       "\t14 & 67.2588 & 1.4896 & 0.707038 & 43.551 & 5268.61 & 5.33858 & 25.6181 & 3.15416 & $\\dots$ \\\\\n",
       "\t15 & 66.8071 & 1.52414 & 0.891166 & 51.3641 & 5903.56 & 4.90417 & 36.2201 & 2.39574 & $\\dots$ \\\\\n",
       "\t16 & 73.8678 & 1.62979 & 0.604558 & 42.8009 & 5582.08 & 5.21306 & 23.7127 & 1.79154 & $\\dots$ \\\\\n",
       "\t17 & 74.4426 & 1.74089 & 0.979005 & 56.3839 & 5431.33 & 5.27419 & 40.0507 & 3.37529 & $\\dots$ \\\\\n",
       "\t18 & 79.7899 & 1.68875 & 0.58833 & 46.8706 & 4245.59 & 5.24687 & 28.1647 & 5.41735 & $\\dots$ \\\\\n",
       "\t19 & 93.6763 & 1.71278 & 0.800185 & 53.801 & 7590.17 & 4.57135 & 28.1547 & 3.56619 & $\\dots$ \\\\\n",
       "\t20 & 58.2765 & 1.46615 & 0.900713 & 48.1401 & 7099.82 & 4.83295 & 27.743 & 2.45964 & $\\dots$ \\\\\n",
       "\t21 & 63.1962 & 1.51348 & 0.477993 & 46.2176 & 6752.25 & 4.50318 & 37.9228 & 5.49448 & $\\dots$ \\\\\n",
       "\t22 & 57.5758 & 1.58642 & 0.616175 & 53.5869 & 6574.25 & 5.17061 & 23.8068 & 0.544137 & $\\dots$ \\\\\n",
       "\t23 & 51.7235 & 1.49534 & 0.71411 & 50.3 & 5914.65 & 5.10929 & 31.5515 & 3.55323 & $\\dots$ \\\\\n",
       "\t24 & 63.6105 & 1.63116 & 0.667079 & 41.493 & 7907.5 & 4.72401 & 29.2132 & 0.823426 & $\\dots$ \\\\\n",
       "\t25 & 70.3155 & 1.59554 & 0.900029 & 51.9869 & 4094.93 & 4.44283 & 26.316 & 3.92286 & $\\dots$ \\\\\n",
       "\t26 & 78.9307 & 1.79946 & 0.670813 & 50.1704 & 7180.09 & 5.03376 & 30.5357 & 8.38901 & $\\dots$ \\\\\n",
       "\t27 & 58.7022 & 1.53565 & 0.935679 & 50.2301 & 7100.35 & 5.00096 & 39.4688 & 2.31555 & $\\dots$ \\\\\n",
       "\t28 & 66.4073 & 1.54085 & 0.298891 & 48.4307 & 4976.0 & 4.9371 & 36.5353 & 10.0637 & $\\dots$ \\\\\n",
       "\t29 & 72.5715 & 1.59799 & 0.648699 & 53.096 & 5623.23 & 5.22218 & 56.19 & 7.04278 & $\\dots$ \\\\\n",
       "\t30 & 52.9476 & 1.48219 & 0.70754 & 56.2427 & 6628.93 & 4.46669 & 19.702 & 2.17385 & $\\dots$ \\\\\n",
       "\t$\\dots$ & $\\dots$ & $\\dots$ & $\\dots$ & $\\dots$ & $\\dots$ & $\\dots$ & $\\dots$ & $\\dots$ &  \\\\\n",
       "\\end{tabular}\n"
      ],
      "text/plain": [
       "\u001b[1m8525×10 DataFrame\u001b[0m\n",
       "\u001b[1m  Row \u001b[0m│\u001b[1m tumorsize \u001b[0m\u001b[1m co2     \u001b[0m\u001b[1m lungcapacity \u001b[0m\u001b[1m Age     \u001b[0m\u001b[1m WBC     \u001b[0m\u001b[1m RBC     \u001b[0m\u001b[1m BMI     \u001b[0m\u001b[1m \u001b[0m ⋯\n",
       "\u001b[1m      \u001b[0m│\u001b[90m Float64   \u001b[0m\u001b[90m Float64 \u001b[0m\u001b[90m Float64      \u001b[0m\u001b[90m Float64 \u001b[0m\u001b[90m Float64 \u001b[0m\u001b[90m Float64 \u001b[0m\u001b[90m Float64 \u001b[0m\u001b[90m \u001b[0m ⋯\n",
       "──────┼─────────────────────────────────────────────────────────────────────────\n",
       "    1 │   67.9812  1.53433      0.801088  64.9682  6087.65  4.86842  24.1442   ⋯\n",
       "    2 │   64.7025  1.67613      0.326444  53.9171  6700.31  4.67905  29.4052\n",
       "    3 │   51.567   1.53345      0.565031  53.3473  6042.81  5.00586  29.4826\n",
       "    4 │   86.438   1.4533       0.848411  41.368   7162.7   5.26506  21.5573\n",
       "    5 │   53.4002  1.56635      0.886491  46.8004  6443.44  4.98426  29.8152   ⋯\n",
       "    6 │   51.6573  1.41787      0.701031  51.9294  6800.55  5.19971  27.1025\n",
       "    7 │   78.9171  1.70663      0.890854  53.8293  6236.45  4.8699   21.1191\n",
       "    8 │   69.8332  1.52873      0.66088   46.5622  3997.7   4.64792  42.4754\n",
       "    9 │   62.8526  1.54296      0.908871  54.3894  6652.8   4.82706  18.6851   ⋯\n",
       "   10 │   71.7779  1.59306      0.959327  50.5446  5778.09  4.85051  39.4424\n",
       "   11 │   66.0256  1.60936      0.768215  42.9193  6182.05  5.19967  29.2478\n",
       "  ⋮   │     ⋮         ⋮          ⋮           ⋮        ⋮        ⋮        ⋮      ⋱\n",
       " 8516 │   72.1299  1.54957      0.81772   48.6778  5970.95  5.17228  26.0899\n",
       " 8517 │   80.6805  1.76155      0.665874  48.119   6144.3   4.80481  41.2517   ⋯\n",
       " 8518 │   74.1363  1.59926      0.859104  64.1803  6953.91  5.09539  36.4225\n",
       " 8519 │   70.073   1.47649      0.958656  54.6413  4348.73  4.66121  28.06\n",
       " 8520 │   82.6019  1.77649      0.932638  44.9408  6952.75  4.82134  26.4427\n",
       " 8521 │   71.2625  1.44567      0.839827  64.6356  5747.44  5.02613  29.1006   ⋯\n",
       " 8522 │   79.9304  1.84224      0.659009  45.0693  4720.5   5.09406  20.5618\n",
       " 8523 │   67.098   1.51245      0.797167  50.3167  6327.59  5.19512  32.3221\n",
       " 8524 │   66.3834  1.61859      0.969633  57.1199  3939.91  4.72485  24.3799\n",
       " 8525 │   65.9232  1.58751      0.911669  56.0659  6430.03  4.73406  21.6008   ⋯\n",
       "\u001b[36m                                                 3 columns and 8504 rows omitted\u001b[0m"
      ]
     },
     "execution_count": 10,
     "metadata": {},
     "output_type": "execute_result"
    }
   ],
   "source": [
    "# Getting all columns that are of type float on the data\n",
    "data_x_float = select(data_x, Between(:tumorsize,:co2), Between(:lungcapacity, :Age), Between(:WBC,:CRP), :Medicaid)"
   ]
  },
  {
   "cell_type": "code",
   "execution_count": 11,
   "metadata": {},
   "outputs": [
    {
     "data": {
      "text/html": [
       "<table class=\"data-frame\"><thead><tr><th></th><th>pain</th><th>wound</th><th>mobility</th><th>ntumors</th><th>nmorphine</th><th>remission</th><th>Married</th><th>FamilyHx</th><th>SmokingHx</th></tr><tr><th></th><th>Int64</th><th>Int64</th><th>Int64</th><th>Int64</th><th>Int64</th><th>Int64</th><th>Int64</th><th>Int64</th><th>Int64</th></tr></thead><tbody><p>8,525 rows × 16 columns (omitted printing of 7 columns)</p><tr><th>1</th><td>4</td><td>4</td><td>2</td><td>0</td><td>0</td><td>0</td><td>0</td><td>0</td><td>1</td></tr><tr><th>2</th><td>2</td><td>3</td><td>2</td><td>0</td><td>0</td><td>0</td><td>0</td><td>0</td><td>1</td></tr><tr><th>3</th><td>6</td><td>3</td><td>2</td><td>0</td><td>0</td><td>0</td><td>1</td><td>0</td><td>2</td></tr><tr><th>4</th><td>3</td><td>3</td><td>2</td><td>0</td><td>0</td><td>0</td><td>0</td><td>0</td><td>1</td></tr><tr><th>5</th><td>3</td><td>4</td><td>2</td><td>0</td><td>0</td><td>0</td><td>0</td><td>0</td><td>2</td></tr><tr><th>6</th><td>4</td><td>5</td><td>2</td><td>0</td><td>0</td><td>0</td><td>1</td><td>0</td><td>2</td></tr><tr><th>7</th><td>3</td><td>4</td><td>2</td><td>0</td><td>0</td><td>0</td><td>1</td><td>0</td><td>0</td></tr><tr><th>8</th><td>3</td><td>3</td><td>3</td><td>0</td><td>0</td><td>0</td><td>0</td><td>0</td><td>1</td></tr><tr><th>9</th><td>4</td><td>4</td><td>3</td><td>2</td><td>0</td><td>0</td><td>1</td><td>1</td><td>1</td></tr><tr><th>10</th><td>5</td><td>4</td><td>3</td><td>0</td><td>0</td><td>0</td><td>0</td><td>0</td><td>2</td></tr><tr><th>11</th><td>4</td><td>3</td><td>3</td><td>0</td><td>0</td><td>0</td><td>0</td><td>0</td><td>0</td></tr><tr><th>12</th><td>4</td><td>3</td><td>3</td><td>0</td><td>0</td><td>0</td><td>0</td><td>0</td><td>1</td></tr><tr><th>13</th><td>5</td><td>3</td><td>3</td><td>0</td><td>0</td><td>0</td><td>1</td><td>0</td><td>2</td></tr><tr><th>14</th><td>3</td><td>3</td><td>2</td><td>0</td><td>0</td><td>0</td><td>0</td><td>0</td><td>1</td></tr><tr><th>15</th><td>4</td><td>3</td><td>1</td><td>6</td><td>4</td><td>0</td><td>1</td><td>1</td><td>2</td></tr><tr><th>16</th><td>3</td><td>4</td><td>1</td><td>0</td><td>0</td><td>0</td><td>1</td><td>0</td><td>1</td></tr><tr><th>17</th><td>2</td><td>3</td><td>2</td><td>5</td><td>0</td><td>0</td><td>1</td><td>1</td><td>0</td></tr><tr><th>18</th><td>6</td><td>4</td><td>2</td><td>0</td><td>0</td><td>0</td><td>0</td><td>0</td><td>0</td></tr><tr><th>19</th><td>5</td><td>4</td><td>3</td><td>2</td><td>1</td><td>0</td><td>0</td><td>1</td><td>0</td></tr><tr><th>20</th><td>7</td><td>3</td><td>2</td><td>0</td><td>0</td><td>0</td><td>1</td><td>0</td><td>2</td></tr><tr><th>21</th><td>6</td><td>3</td><td>3</td><td>0</td><td>0</td><td>0</td><td>1</td><td>0</td><td>1</td></tr><tr><th>22</th><td>3</td><td>3</td><td>1</td><td>2</td><td>0</td><td>0</td><td>0</td><td>1</td><td>2</td></tr><tr><th>23</th><td>5</td><td>4</td><td>2</td><td>0</td><td>0</td><td>0</td><td>1</td><td>0</td><td>2</td></tr><tr><th>24</th><td>1</td><td>3</td><td>2</td><td>0</td><td>0</td><td>0</td><td>1</td><td>0</td><td>0</td></tr><tr><th>25</th><td>5</td><td>3</td><td>3</td><td>3</td><td>0</td><td>0</td><td>1</td><td>1</td><td>0</td></tr><tr><th>26</th><td>3</td><td>4</td><td>2</td><td>2</td><td>0</td><td>0</td><td>0</td><td>1</td><td>0</td></tr><tr><th>27</th><td>4</td><td>5</td><td>3</td><td>0</td><td>0</td><td>0</td><td>1</td><td>0</td><td>2</td></tr><tr><th>28</th><td>4</td><td>3</td><td>3</td><td>0</td><td>0</td><td>0</td><td>1</td><td>0</td><td>1</td></tr><tr><th>29</th><td>6</td><td>8</td><td>6</td><td>0</td><td>9</td><td>0</td><td>1</td><td>0</td><td>0</td></tr><tr><th>30</th><td>5</td><td>7</td><td>5</td><td>1</td><td>3</td><td>0</td><td>1</td><td>0</td><td>2</td></tr><tr><th>&vellip;</th><td>&vellip;</td><td>&vellip;</td><td>&vellip;</td><td>&vellip;</td><td>&vellip;</td><td>&vellip;</td><td>&vellip;</td><td>&vellip;</td><td>&vellip;</td></tr></tbody></table>"
      ],
      "text/latex": [
       "\\begin{tabular}{r|cccccccccc}\n",
       "\t& pain & wound & mobility & ntumors & nmorphine & remission & Married & FamilyHx & SmokingHx & \\\\\n",
       "\t\\hline\n",
       "\t& Int64 & Int64 & Int64 & Int64 & Int64 & Int64 & Int64 & Int64 & Int64 & \\\\\n",
       "\t\\hline\n",
       "\t1 & 4 & 4 & 2 & 0 & 0 & 0 & 0 & 0 & 1 & $\\dots$ \\\\\n",
       "\t2 & 2 & 3 & 2 & 0 & 0 & 0 & 0 & 0 & 1 & $\\dots$ \\\\\n",
       "\t3 & 6 & 3 & 2 & 0 & 0 & 0 & 1 & 0 & 2 & $\\dots$ \\\\\n",
       "\t4 & 3 & 3 & 2 & 0 & 0 & 0 & 0 & 0 & 1 & $\\dots$ \\\\\n",
       "\t5 & 3 & 4 & 2 & 0 & 0 & 0 & 0 & 0 & 2 & $\\dots$ \\\\\n",
       "\t6 & 4 & 5 & 2 & 0 & 0 & 0 & 1 & 0 & 2 & $\\dots$ \\\\\n",
       "\t7 & 3 & 4 & 2 & 0 & 0 & 0 & 1 & 0 & 0 & $\\dots$ \\\\\n",
       "\t8 & 3 & 3 & 3 & 0 & 0 & 0 & 0 & 0 & 1 & $\\dots$ \\\\\n",
       "\t9 & 4 & 4 & 3 & 2 & 0 & 0 & 1 & 1 & 1 & $\\dots$ \\\\\n",
       "\t10 & 5 & 4 & 3 & 0 & 0 & 0 & 0 & 0 & 2 & $\\dots$ \\\\\n",
       "\t11 & 4 & 3 & 3 & 0 & 0 & 0 & 0 & 0 & 0 & $\\dots$ \\\\\n",
       "\t12 & 4 & 3 & 3 & 0 & 0 & 0 & 0 & 0 & 1 & $\\dots$ \\\\\n",
       "\t13 & 5 & 3 & 3 & 0 & 0 & 0 & 1 & 0 & 2 & $\\dots$ \\\\\n",
       "\t14 & 3 & 3 & 2 & 0 & 0 & 0 & 0 & 0 & 1 & $\\dots$ \\\\\n",
       "\t15 & 4 & 3 & 1 & 6 & 4 & 0 & 1 & 1 & 2 & $\\dots$ \\\\\n",
       "\t16 & 3 & 4 & 1 & 0 & 0 & 0 & 1 & 0 & 1 & $\\dots$ \\\\\n",
       "\t17 & 2 & 3 & 2 & 5 & 0 & 0 & 1 & 1 & 0 & $\\dots$ \\\\\n",
       "\t18 & 6 & 4 & 2 & 0 & 0 & 0 & 0 & 0 & 0 & $\\dots$ \\\\\n",
       "\t19 & 5 & 4 & 3 & 2 & 1 & 0 & 0 & 1 & 0 & $\\dots$ \\\\\n",
       "\t20 & 7 & 3 & 2 & 0 & 0 & 0 & 1 & 0 & 2 & $\\dots$ \\\\\n",
       "\t21 & 6 & 3 & 3 & 0 & 0 & 0 & 1 & 0 & 1 & $\\dots$ \\\\\n",
       "\t22 & 3 & 3 & 1 & 2 & 0 & 0 & 0 & 1 & 2 & $\\dots$ \\\\\n",
       "\t23 & 5 & 4 & 2 & 0 & 0 & 0 & 1 & 0 & 2 & $\\dots$ \\\\\n",
       "\t24 & 1 & 3 & 2 & 0 & 0 & 0 & 1 & 0 & 0 & $\\dots$ \\\\\n",
       "\t25 & 5 & 3 & 3 & 3 & 0 & 0 & 1 & 1 & 0 & $\\dots$ \\\\\n",
       "\t26 & 3 & 4 & 2 & 2 & 0 & 0 & 0 & 1 & 0 & $\\dots$ \\\\\n",
       "\t27 & 4 & 5 & 3 & 0 & 0 & 0 & 1 & 0 & 2 & $\\dots$ \\\\\n",
       "\t28 & 4 & 3 & 3 & 0 & 0 & 0 & 1 & 0 & 1 & $\\dots$ \\\\\n",
       "\t29 & 6 & 8 & 6 & 0 & 9 & 0 & 1 & 0 & 0 & $\\dots$ \\\\\n",
       "\t30 & 5 & 7 & 5 & 1 & 3 & 0 & 1 & 0 & 2 & $\\dots$ \\\\\n",
       "\t$\\dots$ & $\\dots$ & $\\dots$ & $\\dots$ & $\\dots$ & $\\dots$ & $\\dots$ & $\\dots$ & $\\dots$ & $\\dots$ &  \\\\\n",
       "\\end{tabular}\n"
      ],
      "text/plain": [
       "\u001b[1m8525×16 DataFrame\u001b[0m\n",
       "\u001b[1m  Row \u001b[0m│\u001b[1m pain  \u001b[0m\u001b[1m wound \u001b[0m\u001b[1m mobility \u001b[0m\u001b[1m ntumors \u001b[0m\u001b[1m nmorphine \u001b[0m\u001b[1m remission \u001b[0m\u001b[1m Married \u001b[0m\u001b[1m Family\u001b[0m ⋯\n",
       "\u001b[1m      \u001b[0m│\u001b[90m Int64 \u001b[0m\u001b[90m Int64 \u001b[0m\u001b[90m Int64    \u001b[0m\u001b[90m Int64   \u001b[0m\u001b[90m Int64     \u001b[0m\u001b[90m Int64     \u001b[0m\u001b[90m Int64   \u001b[0m\u001b[90m Int64 \u001b[0m ⋯\n",
       "──────┼─────────────────────────────────────────────────────────────────────────\n",
       "    1 │     4      4         2        0          0          0        0         ⋯\n",
       "    2 │     2      3         2        0          0          0        0\n",
       "    3 │     6      3         2        0          0          0        1\n",
       "    4 │     3      3         2        0          0          0        0\n",
       "    5 │     3      4         2        0          0          0        0         ⋯\n",
       "    6 │     4      5         2        0          0          0        1\n",
       "    7 │     3      4         2        0          0          0        1\n",
       "    8 │     3      3         3        0          0          0        0\n",
       "    9 │     4      4         3        2          0          0        1         ⋯\n",
       "   10 │     5      4         3        0          0          0        0\n",
       "   11 │     4      3         3        0          0          0        0\n",
       "  ⋮   │   ⋮      ⋮       ⋮         ⋮         ⋮          ⋮         ⋮        ⋮   ⋱\n",
       " 8516 │     6      6         3        0          1          1        1\n",
       " 8517 │     5      6         3        0          1          1        1         ⋯\n",
       " 8518 │     5      6         3        7          5          0        1\n",
       " 8519 │     6      5         3        4          2          0        0\n",
       " 8520 │     7      6         1        1          2          1        1\n",
       " 8521 │     4      7         4        4          0          1        1         ⋯\n",
       " 8522 │     4      6         2        2          5          1        1\n",
       " 8523 │     5      6         4        0          4          1        0\n",
       " 8524 │     7      5         3        3          2          1        0\n",
       " 8525 │     4      5         3        1          2          1        0         ⋯\n",
       "\u001b[36m                                                 9 columns and 8504 rows omitted\u001b[0m"
      ]
     },
     "execution_count": 11,
     "metadata": {},
     "output_type": "execute_result"
    }
   ],
   "source": [
    "# Getting all categorical columns from the data\n",
    "data_x_cat = data_x[!, Not([:tumorsize,:co2, :lungcapacity, :Age, :WBC,:RBC,:BMI,:IL6,:CRP, :Medicaid])]"
   ]
  },
  {
   "cell_type": "code",
   "execution_count": 12,
   "metadata": {},
   "outputs": [],
   "source": [
    "# Normalizing the columns, dividing all the rows by its maximun value\n",
    "for i=1:size(data_x_float)[2]\n",
    "    data_x_float[!,i] = data_x_float[!,i] ./ findmax(data_x_float[!,i])[1]\n",
    "end"
   ]
  },
  {
   "cell_type": "code",
   "execution_count": 13,
   "metadata": {},
   "outputs": [
    {
     "data": {
      "text/plain": [
       "8525-element Array{String,1}:\n",
       " \"II\"\n",
       " \"II\"\n",
       " \"II\"\n",
       " \"I\"\n",
       " \"II\"\n",
       " \"I\"\n",
       " \"II\"\n",
       " \"II\"\n",
       " \"II\"\n",
       " \"II\"\n",
       " \"I\"\n",
       " \"II\"\n",
       " \"II\"\n",
       " ⋮\n",
       " \"III\"\n",
       " \"I\"\n",
       " \"II\"\n",
       " \"I\"\n",
       " \"IV\"\n",
       " \"IV\"\n",
       " \"I\"\n",
       " \"IV\"\n",
       " \"I\"\n",
       " \"II\"\n",
       " \"IV\"\n",
       " \"II\""
      ]
     },
     "execution_count": 13,
     "metadata": {},
     "output_type": "execute_result"
    }
   ],
   "source": [
    "# Converting the dataframes to arrays\n",
    "data_x_cat = convert(Array, data_x_cat)\n",
    "data_x_float = convert(Array, data_x_float)\n",
    "data_y = convert(Array, data_y)"
   ]
  },
  {
   "cell_type": "code",
   "execution_count": 14,
   "metadata": {},
   "outputs": [
    {
     "data": {
      "text/plain": [
       "10×3 Array{Float64,2}:\n",
       " 0.0  0.0  0.0\n",
       " 0.0  0.0  0.0\n",
       " 0.0  0.0  0.0\n",
       " 0.0  0.0  0.0\n",
       " 0.0  0.0  0.0\n",
       " 0.0  0.0  0.0\n",
       " 0.0  0.0  0.0\n",
       " 0.0  0.0  0.0\n",
       " 0.0  0.0  0.0\n",
       " 0.0  0.0  0.0"
      ]
     },
     "execution_count": 14,
     "metadata": {},
     "output_type": "execute_result"
    }
   ],
   "source": [
    "# Initializing the array that would contain the results\n",
    "value = zeros(10,3)"
   ]
  },
  {
   "cell_type": "code",
   "execution_count": 15,
   "metadata": {},
   "outputs": [],
   "source": [
    "# Loading the function so it doesnt affect our results\n",
    "do_pca(data_x_float,data_x_cat, data_y , 1 ,GaussianNB())\n",
    "\n",
    "# Testing the model for 1-10 max columns on the PCA model\n",
    "for i=1:10\n",
    "    \n",
    "    # Timing and saving the results\n",
    "    time =  @elapsed acc = do_pca(data_x_float,data_x_cat, data_y , i ,GaussianNB())\n",
    "    value[i,:] = [i, time, acc]\n",
    "    \n",
    "end"
   ]
  },
  {
   "cell_type": "code",
   "execution_count": 16,
   "metadata": {},
   "outputs": [
    {
     "data": {
      "image/svg+xml": [
       "<?xml version=\"1.0\" encoding=\"utf-8\"?>\n",
       "<svg xmlns=\"http://www.w3.org/2000/svg\" xmlns:xlink=\"http://www.w3.org/1999/xlink\" width=\"600\" height=\"400\" viewBox=\"0 0 2400 1600\">\n",
       "<defs>\n",
       "  <clipPath id=\"clip510\">\n",
       "    <rect x=\"0\" y=\"0\" width=\"2400\" height=\"1600\"/>\n",
       "  </clipPath>\n",
       "</defs>\n",
       "<path clip-path=\"url(#clip510)\" d=\"\n",
       "M0 1600 L2400 1600 L2400 0 L0 0  Z\n",
       "  \" fill=\"#ffffff\" fill-rule=\"evenodd\" fill-opacity=\"1\"/>\n",
       "<defs>\n",
       "  <clipPath id=\"clip511\">\n",
       "    <rect x=\"480\" y=\"0\" width=\"1681\" height=\"1600\"/>\n",
       "  </clipPath>\n",
       "</defs>\n",
       "<path clip-path=\"url(#clip510)\" d=\"\n",
       "M250.028 1423.18 L2352.76 1423.18 L2352.76 123.472 L250.028 123.472  Z\n",
       "  \" fill=\"#ffffff\" fill-rule=\"evenodd\" fill-opacity=\"1\"/>\n",
       "<defs>\n",
       "  <clipPath id=\"clip512\">\n",
       "    <rect x=\"250\" y=\"123\" width=\"2104\" height=\"1301\"/>\n",
       "  </clipPath>\n",
       "</defs>\n",
       "<polyline clip-path=\"url(#clip512)\" style=\"stroke:#000000; stroke-width:2; stroke-opacity:0.1; fill:none\" points=\"\n",
       "  309.539,1423.18 309.539,123.472 \n",
       "  \"/>\n",
       "<polyline clip-path=\"url(#clip512)\" style=\"stroke:#000000; stroke-width:2; stroke-opacity:0.1; fill:none\" points=\"\n",
       "  529.951,1423.18 529.951,123.472 \n",
       "  \"/>\n",
       "<polyline clip-path=\"url(#clip512)\" style=\"stroke:#000000; stroke-width:2; stroke-opacity:0.1; fill:none\" points=\"\n",
       "  750.363,1423.18 750.363,123.472 \n",
       "  \"/>\n",
       "<polyline clip-path=\"url(#clip512)\" style=\"stroke:#000000; stroke-width:2; stroke-opacity:0.1; fill:none\" points=\"\n",
       "  970.774,1423.18 970.774,123.472 \n",
       "  \"/>\n",
       "<polyline clip-path=\"url(#clip512)\" style=\"stroke:#000000; stroke-width:2; stroke-opacity:0.1; fill:none\" points=\"\n",
       "  1191.19,1423.18 1191.19,123.472 \n",
       "  \"/>\n",
       "<polyline clip-path=\"url(#clip512)\" style=\"stroke:#000000; stroke-width:2; stroke-opacity:0.1; fill:none\" points=\"\n",
       "  1411.6,1423.18 1411.6,123.472 \n",
       "  \"/>\n",
       "<polyline clip-path=\"url(#clip512)\" style=\"stroke:#000000; stroke-width:2; stroke-opacity:0.1; fill:none\" points=\"\n",
       "  1632.01,1423.18 1632.01,123.472 \n",
       "  \"/>\n",
       "<polyline clip-path=\"url(#clip512)\" style=\"stroke:#000000; stroke-width:2; stroke-opacity:0.1; fill:none\" points=\"\n",
       "  1852.42,1423.18 1852.42,123.472 \n",
       "  \"/>\n",
       "<polyline clip-path=\"url(#clip512)\" style=\"stroke:#000000; stroke-width:2; stroke-opacity:0.1; fill:none\" points=\"\n",
       "  2072.83,1423.18 2072.83,123.472 \n",
       "  \"/>\n",
       "<polyline clip-path=\"url(#clip512)\" style=\"stroke:#000000; stroke-width:2; stroke-opacity:0.1; fill:none\" points=\"\n",
       "  2293.24,1423.18 2293.24,123.472 \n",
       "  \"/>\n",
       "<polyline clip-path=\"url(#clip510)\" style=\"stroke:#000000; stroke-width:4; stroke-opacity:1; fill:none\" points=\"\n",
       "  250.028,1423.18 2352.76,1423.18 \n",
       "  \"/>\n",
       "<polyline clip-path=\"url(#clip510)\" style=\"stroke:#000000; stroke-width:4; stroke-opacity:1; fill:none\" points=\"\n",
       "  309.539,1423.18 309.539,1407.58 \n",
       "  \"/>\n",
       "<polyline clip-path=\"url(#clip510)\" style=\"stroke:#000000; stroke-width:4; stroke-opacity:1; fill:none\" points=\"\n",
       "  529.951,1423.18 529.951,1407.58 \n",
       "  \"/>\n",
       "<polyline clip-path=\"url(#clip510)\" style=\"stroke:#000000; stroke-width:4; stroke-opacity:1; fill:none\" points=\"\n",
       "  750.363,1423.18 750.363,1407.58 \n",
       "  \"/>\n",
       "<polyline clip-path=\"url(#clip510)\" style=\"stroke:#000000; stroke-width:4; stroke-opacity:1; fill:none\" points=\"\n",
       "  970.774,1423.18 970.774,1407.58 \n",
       "  \"/>\n",
       "<polyline clip-path=\"url(#clip510)\" style=\"stroke:#000000; stroke-width:4; stroke-opacity:1; fill:none\" points=\"\n",
       "  1191.19,1423.18 1191.19,1407.58 \n",
       "  \"/>\n",
       "<polyline clip-path=\"url(#clip510)\" style=\"stroke:#000000; stroke-width:4; stroke-opacity:1; fill:none\" points=\"\n",
       "  1411.6,1423.18 1411.6,1407.58 \n",
       "  \"/>\n",
       "<polyline clip-path=\"url(#clip510)\" style=\"stroke:#000000; stroke-width:4; stroke-opacity:1; fill:none\" points=\"\n",
       "  1632.01,1423.18 1632.01,1407.58 \n",
       "  \"/>\n",
       "<polyline clip-path=\"url(#clip510)\" style=\"stroke:#000000; stroke-width:4; stroke-opacity:1; fill:none\" points=\"\n",
       "  1852.42,1423.18 1852.42,1407.58 \n",
       "  \"/>\n",
       "<polyline clip-path=\"url(#clip510)\" style=\"stroke:#000000; stroke-width:4; stroke-opacity:1; fill:none\" points=\"\n",
       "  2072.83,1423.18 2072.83,1407.58 \n",
       "  \"/>\n",
       "<polyline clip-path=\"url(#clip510)\" style=\"stroke:#000000; stroke-width:4; stroke-opacity:1; fill:none\" points=\"\n",
       "  2293.24,1423.18 2293.24,1407.58 \n",
       "  \"/>\n",
       "<path clip-path=\"url(#clip510)\" d=\"M 0 0 M299.921 1479.92 L307.56 1479.92 L307.56 1453.55 L299.25 1455.22 L299.25 1450.96 L307.514 1449.29 L312.19 1449.29 L312.19 1479.92 L319.829 1479.92 L319.829 1483.85 L299.921 1483.85 L299.921 1479.92 Z\" fill=\"#000000\" fill-rule=\"evenodd\" fill-opacity=\"1\" /><path clip-path=\"url(#clip510)\" d=\"M 0 0 M524.604 1479.92 L540.923 1479.92 L540.923 1483.85 L518.979 1483.85 L518.979 1479.92 Q521.641 1477.16 526.224 1472.53 Q530.831 1467.88 532.011 1466.54 Q534.257 1464.01 535.136 1462.28 Q536.039 1460.52 536.039 1458.83 Q536.039 1456.07 534.095 1454.34 Q532.173 1452.6 529.071 1452.6 Q526.872 1452.6 524.419 1453.37 Q521.988 1454.13 519.21 1455.68 L519.21 1450.96 Q522.034 1449.82 524.488 1449.25 Q526.942 1448.67 528.979 1448.67 Q534.349 1448.67 537.544 1451.35 Q540.738 1454.04 540.738 1458.53 Q540.738 1460.66 539.928 1462.58 Q539.141 1464.48 537.034 1467.07 Q536.456 1467.74 533.354 1470.96 Q530.252 1474.15 524.604 1479.92 Z\" fill=\"#000000\" fill-rule=\"evenodd\" fill-opacity=\"1\" /><path clip-path=\"url(#clip510)\" d=\"M 0 0 M754.61 1465.22 Q757.967 1465.94 759.842 1468.2 Q761.74 1470.47 761.74 1473.81 Q761.74 1478.92 758.221 1481.72 Q754.703 1484.52 748.222 1484.52 Q746.046 1484.52 743.731 1484.08 Q741.439 1483.67 738.985 1482.81 L738.985 1478.3 Q740.93 1479.43 743.245 1480.01 Q745.56 1480.59 748.083 1480.59 Q752.481 1480.59 754.772 1478.85 Q757.087 1477.12 757.087 1473.81 Q757.087 1470.75 754.934 1469.04 Q752.805 1467.3 748.985 1467.3 L744.958 1467.3 L744.958 1463.46 L749.171 1463.46 Q752.62 1463.46 754.448 1462.09 Q756.277 1460.7 756.277 1458.11 Q756.277 1455.45 754.379 1454.04 Q752.504 1452.6 748.985 1452.6 Q747.064 1452.6 744.865 1453.02 Q742.666 1453.44 740.027 1454.31 L740.027 1450.15 Q742.689 1449.41 745.004 1449.04 Q747.342 1448.67 749.402 1448.67 Q754.726 1448.67 757.828 1451.1 Q760.93 1453.5 760.93 1457.63 Q760.93 1460.5 759.286 1462.49 Q757.643 1464.45 754.61 1465.22 Z\" fill=\"#000000\" fill-rule=\"evenodd\" fill-opacity=\"1\" /><path clip-path=\"url(#clip510)\" d=\"M 0 0 M973.784 1453.37 L961.978 1471.81 L973.784 1471.81 L973.784 1453.37 M972.557 1449.29 L978.436 1449.29 L978.436 1471.81 L983.367 1471.81 L983.367 1475.7 L978.436 1475.7 L978.436 1483.85 L973.784 1483.85 L973.784 1475.7 L958.182 1475.7 L958.182 1471.19 L972.557 1449.29 Z\" fill=\"#000000\" fill-rule=\"evenodd\" fill-opacity=\"1\" /><path clip-path=\"url(#clip510)\" d=\"M 0 0 M1181.46 1449.29 L1199.82 1449.29 L1199.82 1453.23 L1185.75 1453.23 L1185.75 1461.7 Q1186.76 1461.35 1187.78 1461.19 Q1188.8 1461 1189.82 1461 Q1195.61 1461 1198.99 1464.18 Q1202.37 1467.35 1202.37 1472.76 Q1202.37 1478.34 1198.89 1481.44 Q1195.42 1484.52 1189.1 1484.52 Q1186.93 1484.52 1184.66 1484.15 Q1182.41 1483.78 1180.01 1483.04 L1180.01 1478.34 Q1182.09 1479.48 1184.31 1480.03 Q1186.53 1480.59 1189.01 1480.59 Q1193.01 1480.59 1195.35 1478.48 Q1197.69 1476.38 1197.69 1472.76 Q1197.69 1469.15 1195.35 1467.05 Q1193.01 1464.94 1189.01 1464.94 Q1187.14 1464.94 1185.26 1465.36 Q1183.41 1465.77 1181.46 1466.65 L1181.46 1449.29 Z\" fill=\"#000000\" fill-rule=\"evenodd\" fill-opacity=\"1\" /><path clip-path=\"url(#clip510)\" d=\"M 0 0 M1412 1464.71 Q1408.85 1464.71 1407 1466.86 Q1405.17 1469.01 1405.17 1472.76 Q1405.17 1476.49 1407 1478.67 Q1408.85 1480.82 1412 1480.82 Q1415.15 1480.82 1416.98 1478.67 Q1418.83 1476.49 1418.83 1472.76 Q1418.83 1469.01 1416.98 1466.86 Q1415.15 1464.71 1412 1464.71 M1421.29 1450.06 L1421.29 1454.31 Q1419.53 1453.48 1417.72 1453.04 Q1415.94 1452.6 1414.18 1452.6 Q1409.55 1452.6 1407.1 1455.73 Q1404.67 1458.85 1404.32 1465.17 Q1405.68 1463.16 1407.74 1462.09 Q1409.8 1461 1412.28 1461 Q1417.49 1461 1420.5 1464.18 Q1423.53 1467.32 1423.53 1472.76 Q1423.53 1478.09 1420.38 1481.31 Q1417.23 1484.52 1412 1484.52 Q1406.01 1484.52 1402.84 1479.94 Q1399.67 1475.33 1399.67 1466.61 Q1399.67 1458.41 1403.55 1453.55 Q1407.44 1448.67 1413.99 1448.67 Q1415.75 1448.67 1417.54 1449.01 Q1419.34 1449.36 1421.29 1450.06 Z\" fill=\"#000000\" fill-rule=\"evenodd\" fill-opacity=\"1\" /><path clip-path=\"url(#clip510)\" d=\"M 0 0 M1620.9 1449.29 L1643.12 1449.29 L1643.12 1451.28 L1630.57 1483.85 L1625.69 1483.85 L1637.5 1453.23 L1620.9 1453.23 L1620.9 1449.29 Z\" fill=\"#000000\" fill-rule=\"evenodd\" fill-opacity=\"1\" /><path clip-path=\"url(#clip510)\" d=\"M 0 0 M1852.42 1467.44 Q1849.09 1467.44 1847.17 1469.22 Q1845.27 1471 1845.27 1474.13 Q1845.27 1477.25 1847.17 1479.04 Q1849.09 1480.82 1852.42 1480.82 Q1855.75 1480.82 1857.68 1479.04 Q1859.6 1477.23 1859.6 1474.13 Q1859.6 1471 1857.68 1469.22 Q1855.78 1467.44 1852.42 1467.44 M1847.75 1465.45 Q1844.74 1464.71 1843.05 1462.65 Q1841.38 1460.59 1841.38 1457.63 Q1841.38 1453.48 1844.32 1451.07 Q1847.28 1448.67 1852.42 1448.67 Q1857.58 1448.67 1860.52 1451.07 Q1863.46 1453.48 1863.46 1457.63 Q1863.46 1460.59 1861.77 1462.65 Q1860.11 1464.71 1857.12 1465.45 Q1860.5 1466.24 1862.37 1468.53 Q1864.27 1470.82 1864.27 1474.13 Q1864.27 1479.15 1861.19 1481.84 Q1858.14 1484.52 1852.42 1484.52 Q1846.7 1484.52 1843.63 1481.84 Q1840.57 1479.15 1840.57 1474.13 Q1840.57 1470.82 1842.47 1468.53 Q1844.37 1466.24 1847.75 1465.45 M1846.03 1458.06 Q1846.03 1460.75 1847.7 1462.25 Q1849.39 1463.76 1852.42 1463.76 Q1855.43 1463.76 1857.12 1462.25 Q1858.83 1460.75 1858.83 1458.06 Q1858.83 1455.38 1857.12 1453.88 Q1855.43 1452.37 1852.42 1452.37 Q1849.39 1452.37 1847.7 1453.88 Q1846.03 1455.38 1846.03 1458.06 Z\" fill=\"#000000\" fill-rule=\"evenodd\" fill-opacity=\"1\" /><path clip-path=\"url(#clip510)\" d=\"M 0 0 M2063.13 1483.13 L2063.13 1478.88 Q2064.89 1479.71 2066.7 1480.15 Q2068.5 1480.59 2070.24 1480.59 Q2074.87 1480.59 2077.3 1477.49 Q2079.75 1474.36 2080.1 1468.02 Q2078.76 1470.01 2076.7 1471.07 Q2074.64 1472.14 2072.14 1472.14 Q2066.95 1472.14 2063.92 1469.01 Q2060.91 1465.87 2060.91 1460.43 Q2060.91 1455.1 2064.06 1451.88 Q2067.21 1448.67 2072.44 1448.67 Q2078.43 1448.67 2081.58 1453.27 Q2084.75 1457.86 2084.75 1466.61 Q2084.75 1474.78 2080.87 1479.66 Q2077 1484.52 2070.45 1484.52 Q2068.69 1484.52 2066.88 1484.18 Q2065.08 1483.83 2063.13 1483.13 M2072.44 1468.48 Q2075.59 1468.48 2077.42 1466.33 Q2079.27 1464.18 2079.27 1460.43 Q2079.27 1456.7 2077.42 1454.55 Q2075.59 1452.37 2072.44 1452.37 Q2069.29 1452.37 2067.44 1454.55 Q2065.61 1456.7 2065.61 1460.43 Q2065.61 1464.18 2067.44 1466.33 Q2069.29 1468.48 2072.44 1468.48 Z\" fill=\"#000000\" fill-rule=\"evenodd\" fill-opacity=\"1\" /><path clip-path=\"url(#clip510)\" d=\"M 0 0 M2267.93 1479.92 L2275.57 1479.92 L2275.57 1453.55 L2267.26 1455.22 L2267.26 1450.96 L2275.52 1449.29 L2280.2 1449.29 L2280.2 1479.92 L2287.84 1479.92 L2287.84 1483.85 L2267.93 1483.85 L2267.93 1479.92 Z\" fill=\"#000000\" fill-rule=\"evenodd\" fill-opacity=\"1\" /><path clip-path=\"url(#clip510)\" d=\"M 0 0 M2307.28 1452.37 Q2303.67 1452.37 2301.84 1455.94 Q2300.04 1459.48 2300.04 1466.61 Q2300.04 1473.71 2301.84 1477.28 Q2303.67 1480.82 2307.28 1480.82 Q2310.92 1480.82 2312.72 1477.28 Q2314.55 1473.71 2314.55 1466.61 Q2314.55 1459.48 2312.72 1455.94 Q2310.92 1452.37 2307.28 1452.37 M2307.28 1448.67 Q2313.09 1448.67 2316.15 1453.27 Q2319.23 1457.86 2319.23 1466.61 Q2319.23 1475.33 2316.15 1479.94 Q2313.09 1484.52 2307.28 1484.52 Q2301.47 1484.52 2298.4 1479.94 Q2295.34 1475.33 2295.34 1466.61 Q2295.34 1457.86 2298.4 1453.27 Q2301.47 1448.67 2307.28 1448.67 Z\" fill=\"#000000\" fill-rule=\"evenodd\" fill-opacity=\"1\" /><path clip-path=\"url(#clip510)\" d=\"M 0 0 M1037.12 1520.52 L1045.78 1520.52 L1066.85 1560.28 L1066.85 1520.52 L1073.09 1520.52 L1073.09 1568.04 L1064.43 1568.04 L1043.36 1528.29 L1043.36 1568.04 L1037.12 1568.04 L1037.12 1520.52 Z\" fill=\"#000000\" fill-rule=\"evenodd\" fill-opacity=\"1\" /><path clip-path=\"url(#clip510)\" d=\"M 0 0 M1085.02 1553.98 L1085.02 1532.4 L1090.88 1532.4 L1090.88 1553.75 Q1090.88 1558.81 1092.85 1561.36 Q1094.82 1563.87 1098.77 1563.87 Q1103.51 1563.87 1106.25 1560.85 Q1109.02 1557.83 1109.02 1552.61 L1109.02 1532.4 L1114.88 1532.4 L1114.88 1568.04 L1109.02 1568.04 L1109.02 1562.57 Q1106.89 1565.82 1104.06 1567.41 Q1101.25 1568.97 1097.53 1568.97 Q1091.39 1568.97 1088.2 1565.15 Q1085.02 1561.33 1085.02 1553.98 M1099.76 1531.54 L1099.76 1531.54 Z\" fill=\"#000000\" fill-rule=\"evenodd\" fill-opacity=\"1\" /><path clip-path=\"url(#clip510)\" d=\"M 0 0 M1154.69 1539.24 Q1156.89 1535.29 1159.95 1533.41 Q1163 1531.54 1167.14 1531.54 Q1172.71 1531.54 1175.73 1535.45 Q1178.76 1539.33 1178.76 1546.53 L1178.76 1568.04 L1172.87 1568.04 L1172.87 1546.72 Q1172.87 1541.59 1171.05 1539.11 Q1169.24 1536.63 1165.52 1536.63 Q1160.96 1536.63 1158.32 1539.65 Q1155.68 1542.68 1155.68 1547.9 L1155.68 1568.04 L1149.79 1568.04 L1149.79 1546.72 Q1149.79 1541.56 1147.98 1539.11 Q1146.16 1536.63 1142.38 1536.63 Q1137.89 1536.63 1135.25 1539.68 Q1132.61 1542.71 1132.61 1547.9 L1132.61 1568.04 L1126.72 1568.04 L1126.72 1532.4 L1132.61 1532.4 L1132.61 1537.93 Q1134.61 1534.66 1137.41 1533.1 Q1140.21 1531.54 1144.06 1531.54 Q1147.95 1531.54 1150.65 1533.51 Q1153.39 1535.48 1154.69 1539.24 Z\" fill=\"#000000\" fill-rule=\"evenodd\" fill-opacity=\"1\" /><path clip-path=\"url(#clip510)\" d=\"M 0 0 M1224.97 1536.5 Q1220.26 1536.5 1217.52 1540.19 Q1214.79 1543.85 1214.79 1550.25 Q1214.79 1556.65 1217.49 1560.34 Q1220.23 1564 1224.97 1564 Q1229.65 1564 1232.39 1560.31 Q1235.13 1556.62 1235.13 1550.25 Q1235.13 1543.92 1232.39 1540.23 Q1229.65 1536.5 1224.97 1536.5 M1224.97 1531.54 Q1232.61 1531.54 1236.97 1536.5 Q1241.33 1541.47 1241.33 1550.25 Q1241.33 1559 1236.97 1564 Q1232.61 1568.97 1224.97 1568.97 Q1217.3 1568.97 1212.94 1564 Q1208.61 1559 1208.61 1550.25 Q1208.61 1541.47 1212.94 1536.5 Q1217.3 1531.54 1224.97 1531.54 Z\" fill=\"#000000\" fill-rule=\"evenodd\" fill-opacity=\"1\" /><path clip-path=\"url(#clip510)\" d=\"M 0 0 M1269.09 1518.52 L1269.09 1523.39 L1263.48 1523.39 Q1260.33 1523.39 1259.09 1524.66 Q1257.88 1525.93 1257.88 1529.24 L1257.88 1532.4 L1267.53 1532.4 L1267.53 1536.95 L1257.88 1536.95 L1257.88 1568.04 L1251.99 1568.04 L1251.99 1536.95 L1246.39 1536.95 L1246.39 1532.4 L1251.99 1532.4 L1251.99 1529.91 Q1251.99 1523.96 1254.76 1521.26 Q1257.53 1518.52 1263.55 1518.52 L1269.09 1518.52 Z\" fill=\"#000000\" fill-rule=\"evenodd\" fill-opacity=\"1\" /><path clip-path=\"url(#clip510)\" d=\"M 0 0 M1294.96 1520.52 L1322.27 1520.52 L1322.27 1525.93 L1301.39 1525.93 L1301.39 1539.94 L1320.23 1539.94 L1320.23 1545.35 L1301.39 1545.35 L1301.39 1568.04 L1294.96 1568.04 L1294.96 1520.52 Z\" fill=\"#000000\" fill-rule=\"evenodd\" fill-opacity=\"1\" /><path clip-path=\"url(#clip510)\" d=\"M 0 0 M1359.13 1548.76 L1359.13 1551.62 L1332.2 1551.62 Q1332.58 1557.67 1335.83 1560.85 Q1339.11 1564 1344.93 1564 Q1348.31 1564 1351.46 1563.17 Q1354.64 1562.35 1357.76 1560.69 L1357.76 1566.23 Q1354.61 1567.57 1351.3 1568.27 Q1347.99 1568.97 1344.58 1568.97 Q1336.05 1568.97 1331.06 1564 Q1326.09 1559.04 1326.09 1550.57 Q1326.09 1541.82 1330.8 1536.69 Q1335.54 1531.54 1343.56 1531.54 Q1350.76 1531.54 1354.93 1536.18 Q1359.13 1540.8 1359.13 1548.76 M1353.27 1547.04 Q1353.21 1542.23 1350.57 1539.37 Q1347.96 1536.5 1343.63 1536.5 Q1338.73 1536.5 1335.77 1539.27 Q1332.84 1542.04 1332.39 1547.07 L1353.27 1547.04 Z\" fill=\"#000000\" fill-rule=\"evenodd\" fill-opacity=\"1\" /><path clip-path=\"url(#clip510)\" d=\"M 0 0 M1384.94 1550.12 Q1377.84 1550.12 1375.11 1551.75 Q1372.37 1553.37 1372.37 1557.29 Q1372.37 1560.4 1374.41 1562.25 Q1376.48 1564.07 1380.01 1564.07 Q1384.88 1564.07 1387.81 1560.63 Q1390.77 1557.16 1390.77 1551.43 L1390.77 1550.12 L1384.94 1550.12 M1396.62 1547.71 L1396.62 1568.04 L1390.77 1568.04 L1390.77 1562.63 Q1388.76 1565.88 1385.77 1567.44 Q1382.78 1568.97 1378.45 1568.97 Q1372.97 1568.97 1369.73 1565.91 Q1366.51 1562.82 1366.51 1557.67 Q1366.51 1551.65 1370.52 1548.6 Q1374.57 1545.54 1382.55 1545.54 L1390.77 1545.54 L1390.77 1544.97 Q1390.77 1540.93 1388.09 1538.73 Q1385.45 1536.5 1380.65 1536.5 Q1377.59 1536.5 1374.69 1537.23 Q1371.8 1537.97 1369.12 1539.43 L1369.12 1534.02 Q1372.34 1532.78 1375.36 1532.17 Q1378.39 1531.54 1381.25 1531.54 Q1388.98 1531.54 1392.8 1535.55 Q1396.62 1539.56 1396.62 1547.71 Z\" fill=\"#000000\" fill-rule=\"evenodd\" fill-opacity=\"1\" /><path clip-path=\"url(#clip510)\" d=\"M 0 0 M1414.48 1522.27 L1414.48 1532.4 L1426.54 1532.4 L1426.54 1536.95 L1414.48 1536.95 L1414.48 1556.3 Q1414.48 1560.66 1415.66 1561.9 Q1416.87 1563.14 1420.53 1563.14 L1426.54 1563.14 L1426.54 1568.04 L1420.53 1568.04 Q1413.75 1568.04 1411.17 1565.53 Q1408.59 1562.98 1408.59 1556.3 L1408.59 1536.95 L1404.29 1536.95 L1404.29 1532.4 L1408.59 1532.4 L1408.59 1522.27 L1414.48 1522.27 Z\" fill=\"#000000\" fill-rule=\"evenodd\" fill-opacity=\"1\" /><path clip-path=\"url(#clip510)\" d=\"M 0 0 M1433.64 1553.98 L1433.64 1532.4 L1439.5 1532.4 L1439.5 1553.75 Q1439.5 1558.81 1441.47 1561.36 Q1443.44 1563.87 1447.39 1563.87 Q1452.13 1563.87 1454.87 1560.85 Q1457.64 1557.83 1457.64 1552.61 L1457.64 1532.4 L1463.49 1532.4 L1463.49 1568.04 L1457.64 1568.04 L1457.64 1562.57 Q1455.51 1565.82 1452.67 1567.41 Q1449.87 1568.97 1446.15 1568.97 Q1440.01 1568.97 1436.82 1565.15 Q1433.64 1561.33 1433.64 1553.98 M1448.38 1531.54 L1448.38 1531.54 Z\" fill=\"#000000\" fill-rule=\"evenodd\" fill-opacity=\"1\" /><path clip-path=\"url(#clip510)\" d=\"M 0 0 M1496.21 1537.87 Q1495.23 1537.3 1494.05 1537.04 Q1492.9 1536.76 1491.5 1536.76 Q1486.54 1536.76 1483.87 1540 Q1481.22 1543.22 1481.22 1549.27 L1481.22 1568.04 L1475.33 1568.04 L1475.33 1532.4 L1481.22 1532.4 L1481.22 1537.93 Q1483.07 1534.69 1486.03 1533.13 Q1488.99 1531.54 1493.22 1531.54 Q1493.83 1531.54 1494.56 1531.63 Q1495.29 1531.7 1496.18 1531.85 L1496.21 1537.87 Z\" fill=\"#000000\" fill-rule=\"evenodd\" fill-opacity=\"1\" /><path clip-path=\"url(#clip510)\" d=\"M 0 0 M1531.42 1548.76 L1531.42 1551.62 L1504.49 1551.62 Q1504.87 1557.67 1508.12 1560.85 Q1511.4 1564 1517.22 1564 Q1520.6 1564 1523.75 1563.17 Q1526.93 1562.35 1530.05 1560.69 L1530.05 1566.23 Q1526.9 1567.57 1523.59 1568.27 Q1520.28 1568.97 1516.87 1568.97 Q1508.34 1568.97 1503.34 1564 Q1498.38 1559.04 1498.38 1550.57 Q1498.38 1541.82 1503.09 1536.69 Q1507.83 1531.54 1515.85 1531.54 Q1523.05 1531.54 1527.22 1536.18 Q1531.42 1540.8 1531.42 1548.76 M1525.56 1547.04 Q1525.5 1542.23 1522.85 1539.37 Q1520.25 1536.5 1515.92 1536.5 Q1511.01 1536.5 1508.05 1539.27 Q1505.13 1542.04 1504.68 1547.07 L1525.56 1547.04 Z\" fill=\"#000000\" fill-rule=\"evenodd\" fill-opacity=\"1\" /><path clip-path=\"url(#clip510)\" d=\"M 0 0 M1563.75 1533.45 L1563.75 1538.98 Q1561.27 1537.71 1558.6 1537.07 Q1555.92 1536.44 1553.06 1536.44 Q1548.7 1536.44 1546.5 1537.77 Q1544.34 1539.11 1544.34 1541.79 Q1544.34 1543.82 1545.9 1545 Q1547.46 1546.15 1552.17 1547.2 L1554.17 1547.64 Q1560.41 1548.98 1563.02 1551.43 Q1565.66 1553.85 1565.66 1558.21 Q1565.66 1563.17 1561.72 1566.07 Q1557.8 1568.97 1550.93 1568.97 Q1548.06 1568.97 1544.94 1568.39 Q1541.86 1567.85 1538.42 1566.74 L1538.42 1560.69 Q1541.67 1562.38 1544.82 1563.24 Q1547.97 1564.07 1551.06 1564.07 Q1555.19 1564.07 1557.42 1562.66 Q1559.65 1561.23 1559.65 1558.65 Q1559.65 1556.27 1558.03 1554.99 Q1556.43 1553.72 1550.99 1552.54 L1548.95 1552.07 Q1543.51 1550.92 1541.09 1548.56 Q1538.67 1546.18 1538.67 1542.04 Q1538.67 1537.01 1542.24 1534.27 Q1545.8 1531.54 1552.36 1531.54 Q1555.61 1531.54 1558.47 1532.01 Q1561.34 1532.49 1563.75 1533.45 Z\" fill=\"#000000\" fill-rule=\"evenodd\" fill-opacity=\"1\" /><polyline clip-path=\"url(#clip512)\" style=\"stroke:#000000; stroke-width:2; stroke-opacity:0.1; fill:none\" points=\"\n",
       "  250.028,1366.23 2352.76,1366.23 \n",
       "  \"/>\n",
       "<polyline clip-path=\"url(#clip512)\" style=\"stroke:#000000; stroke-width:2; stroke-opacity:0.1; fill:none\" points=\"\n",
       "  250.028,1176.81 2352.76,1176.81 \n",
       "  \"/>\n",
       "<polyline clip-path=\"url(#clip512)\" style=\"stroke:#000000; stroke-width:2; stroke-opacity:0.1; fill:none\" points=\"\n",
       "  250.028,987.387 2352.76,987.387 \n",
       "  \"/>\n",
       "<polyline clip-path=\"url(#clip512)\" style=\"stroke:#000000; stroke-width:2; stroke-opacity:0.1; fill:none\" points=\"\n",
       "  250.028,797.968 2352.76,797.968 \n",
       "  \"/>\n",
       "<polyline clip-path=\"url(#clip512)\" style=\"stroke:#000000; stroke-width:2; stroke-opacity:0.1; fill:none\" points=\"\n",
       "  250.028,608.548 2352.76,608.548 \n",
       "  \"/>\n",
       "<polyline clip-path=\"url(#clip512)\" style=\"stroke:#000000; stroke-width:2; stroke-opacity:0.1; fill:none\" points=\"\n",
       "  250.028,419.128 2352.76,419.128 \n",
       "  \"/>\n",
       "<polyline clip-path=\"url(#clip512)\" style=\"stroke:#000000; stroke-width:2; stroke-opacity:0.1; fill:none\" points=\"\n",
       "  250.028,229.709 2352.76,229.709 \n",
       "  \"/>\n",
       "<polyline clip-path=\"url(#clip510)\" style=\"stroke:#000000; stroke-width:4; stroke-opacity:1; fill:none\" points=\"\n",
       "  250.028,1423.18 250.028,123.472 \n",
       "  \"/>\n",
       "<polyline clip-path=\"url(#clip510)\" style=\"stroke:#000000; stroke-width:4; stroke-opacity:1; fill:none\" points=\"\n",
       "  250.028,1366.23 275.261,1366.23 \n",
       "  \"/>\n",
       "<polyline clip-path=\"url(#clip510)\" style=\"stroke:#000000; stroke-width:4; stroke-opacity:1; fill:none\" points=\"\n",
       "  250.028,1176.81 275.261,1176.81 \n",
       "  \"/>\n",
       "<polyline clip-path=\"url(#clip510)\" style=\"stroke:#000000; stroke-width:4; stroke-opacity:1; fill:none\" points=\"\n",
       "  250.028,987.387 275.261,987.387 \n",
       "  \"/>\n",
       "<polyline clip-path=\"url(#clip510)\" style=\"stroke:#000000; stroke-width:4; stroke-opacity:1; fill:none\" points=\"\n",
       "  250.028,797.968 275.261,797.968 \n",
       "  \"/>\n",
       "<polyline clip-path=\"url(#clip510)\" style=\"stroke:#000000; stroke-width:4; stroke-opacity:1; fill:none\" points=\"\n",
       "  250.028,608.548 275.261,608.548 \n",
       "  \"/>\n",
       "<polyline clip-path=\"url(#clip510)\" style=\"stroke:#000000; stroke-width:4; stroke-opacity:1; fill:none\" points=\"\n",
       "  250.028,419.128 275.261,419.128 \n",
       "  \"/>\n",
       "<polyline clip-path=\"url(#clip510)\" style=\"stroke:#000000; stroke-width:4; stroke-opacity:1; fill:none\" points=\"\n",
       "  250.028,229.709 275.261,229.709 \n",
       "  \"/>\n",
       "<path clip-path=\"url(#clip510)\" d=\"M 0 0 M127.339 1352.02 Q123.728 1352.02 121.899 1355.59 Q120.093 1359.13 120.093 1366.26 Q120.093 1373.37 121.899 1376.93 Q123.728 1380.47 127.339 1380.47 Q130.973 1380.47 132.779 1376.93 Q134.607 1373.37 134.607 1366.26 Q134.607 1359.13 132.779 1355.59 Q130.973 1352.02 127.339 1352.02 M127.339 1348.32 Q133.149 1348.32 136.204 1352.93 Q139.283 1357.51 139.283 1366.26 Q139.283 1374.99 136.204 1379.59 Q133.149 1384.18 127.339 1384.18 Q121.529 1384.18 118.45 1379.59 Q115.394 1374.99 115.394 1366.26 Q115.394 1357.51 118.45 1352.93 Q121.529 1348.32 127.339 1348.32 Z\" fill=\"#000000\" fill-rule=\"evenodd\" fill-opacity=\"1\" /><path clip-path=\"url(#clip510)\" d=\"M 0 0 M147.501 1377.63 L152.385 1377.63 L152.385 1383.51 L147.501 1383.51 L147.501 1377.63 Z\" fill=\"#000000\" fill-rule=\"evenodd\" fill-opacity=\"1\" /><path clip-path=\"url(#clip510)\" d=\"M 0 0 M172.57 1352.02 Q168.959 1352.02 167.13 1355.59 Q165.325 1359.13 165.325 1366.26 Q165.325 1373.37 167.13 1376.93 Q168.959 1380.47 172.57 1380.47 Q176.204 1380.47 178.01 1376.93 Q179.839 1373.37 179.839 1366.26 Q179.839 1359.13 178.01 1355.59 Q176.204 1352.02 172.57 1352.02 M172.57 1348.32 Q178.38 1348.32 181.436 1352.93 Q184.514 1357.51 184.514 1366.26 Q184.514 1374.99 181.436 1379.59 Q178.38 1384.18 172.57 1384.18 Q166.76 1384.18 163.681 1379.59 Q160.626 1374.99 160.626 1366.26 Q160.626 1357.51 163.681 1352.93 Q166.76 1348.32 172.57 1348.32 Z\" fill=\"#000000\" fill-rule=\"evenodd\" fill-opacity=\"1\" /><path clip-path=\"url(#clip510)\" d=\"M 0 0 M206.899 1364.87 Q210.255 1365.59 212.13 1367.86 Q214.028 1370.13 214.028 1373.46 Q214.028 1378.58 210.51 1381.38 Q206.991 1384.18 200.51 1384.18 Q198.334 1384.18 196.019 1383.74 Q193.727 1383.32 191.274 1382.46 L191.274 1377.95 Q193.218 1379.09 195.533 1379.66 Q197.848 1380.24 200.371 1380.24 Q204.769 1380.24 207.061 1378.51 Q209.375 1376.77 209.375 1373.46 Q209.375 1370.4 207.223 1368.69 Q205.093 1366.96 201.274 1366.96 L197.246 1366.96 L197.246 1363.11 L201.459 1363.11 Q204.908 1363.11 206.737 1361.75 Q208.565 1360.36 208.565 1357.77 Q208.565 1355.1 206.667 1353.69 Q204.792 1352.26 201.274 1352.26 Q199.352 1352.26 197.153 1352.67 Q194.954 1353.09 192.315 1353.97 L192.315 1349.8 Q194.977 1349.06 197.292 1348.69 Q199.63 1348.32 201.69 1348.32 Q207.014 1348.32 210.116 1350.75 Q213.218 1353.16 213.218 1357.28 Q213.218 1360.15 211.574 1362.14 Q209.931 1364.11 206.899 1364.87 Z\" fill=\"#000000\" fill-rule=\"evenodd\" fill-opacity=\"1\" /><path clip-path=\"url(#clip510)\" d=\"M 0 0 M126.205 1162.61 Q122.593 1162.61 120.765 1166.17 Q118.959 1169.71 118.959 1176.84 Q118.959 1183.95 120.765 1187.51 Q122.593 1191.05 126.205 1191.05 Q129.839 1191.05 131.644 1187.51 Q133.473 1183.95 133.473 1176.84 Q133.473 1169.71 131.644 1166.17 Q129.839 1162.61 126.205 1162.61 M126.205 1158.9 Q132.015 1158.9 135.07 1163.51 Q138.149 1168.09 138.149 1176.84 Q138.149 1185.57 135.07 1190.17 Q132.015 1194.76 126.205 1194.76 Q120.394 1194.76 117.316 1190.17 Q114.26 1185.57 114.26 1176.84 Q114.26 1168.09 117.316 1163.51 Q120.394 1158.9 126.205 1158.9 Z\" fill=\"#000000\" fill-rule=\"evenodd\" fill-opacity=\"1\" /><path clip-path=\"url(#clip510)\" d=\"M 0 0 M146.366 1188.21 L151.251 1188.21 L151.251 1194.09 L146.366 1194.09 L146.366 1188.21 Z\" fill=\"#000000\" fill-rule=\"evenodd\" fill-opacity=\"1\" /><path clip-path=\"url(#clip510)\" d=\"M 0 0 M171.436 1162.61 Q167.825 1162.61 165.996 1166.17 Q164.19 1169.71 164.19 1176.84 Q164.19 1183.95 165.996 1187.51 Q167.825 1191.05 171.436 1191.05 Q175.07 1191.05 176.876 1187.51 Q178.704 1183.95 178.704 1176.84 Q178.704 1169.71 176.876 1166.17 Q175.07 1162.61 171.436 1162.61 M171.436 1158.9 Q177.246 1158.9 180.301 1163.51 Q183.38 1168.09 183.38 1176.84 Q183.38 1185.57 180.301 1190.17 Q177.246 1194.76 171.436 1194.76 Q165.626 1194.76 162.547 1190.17 Q159.491 1185.57 159.491 1176.84 Q159.491 1168.09 162.547 1163.51 Q165.626 1158.9 171.436 1158.9 Z\" fill=\"#000000\" fill-rule=\"evenodd\" fill-opacity=\"1\" /><path clip-path=\"url(#clip510)\" d=\"M 0 0 M204.445 1163.6 L192.639 1182.05 L204.445 1182.05 L204.445 1163.6 M203.218 1159.53 L209.098 1159.53 L209.098 1182.05 L214.028 1182.05 L214.028 1185.94 L209.098 1185.94 L209.098 1194.09 L204.445 1194.09 L204.445 1185.94 L188.843 1185.94 L188.843 1181.42 L203.218 1159.53 Z\" fill=\"#000000\" fill-rule=\"evenodd\" fill-opacity=\"1\" /><path clip-path=\"url(#clip510)\" d=\"M 0 0 M127.686 973.186 Q124.075 973.186 122.246 976.751 Q120.441 980.292 120.441 987.422 Q120.441 994.528 122.246 998.093 Q124.075 1001.63 127.686 1001.63 Q131.32 1001.63 133.126 998.093 Q134.954 994.528 134.954 987.422 Q134.954 980.292 133.126 976.751 Q131.32 973.186 127.686 973.186 M127.686 969.482 Q133.496 969.482 136.552 974.089 Q139.63 978.672 139.63 987.422 Q139.63 996.149 136.552 1000.76 Q133.496 1005.34 127.686 1005.34 Q121.876 1005.34 118.797 1000.76 Q115.742 996.149 115.742 987.422 Q115.742 978.672 118.797 974.089 Q121.876 969.482 127.686 969.482 Z\" fill=\"#000000\" fill-rule=\"evenodd\" fill-opacity=\"1\" /><path clip-path=\"url(#clip510)\" d=\"M 0 0 M147.848 998.788 L152.732 998.788 L152.732 1004.67 L147.848 1004.67 L147.848 998.788 Z\" fill=\"#000000\" fill-rule=\"evenodd\" fill-opacity=\"1\" /><path clip-path=\"url(#clip510)\" d=\"M 0 0 M172.917 973.186 Q169.306 973.186 167.477 976.751 Q165.672 980.292 165.672 987.422 Q165.672 994.528 167.477 998.093 Q169.306 1001.63 172.917 1001.63 Q176.551 1001.63 178.357 998.093 Q180.186 994.528 180.186 987.422 Q180.186 980.292 178.357 976.751 Q176.551 973.186 172.917 973.186 M172.917 969.482 Q178.727 969.482 181.783 974.089 Q184.862 978.672 184.862 987.422 Q184.862 996.149 181.783 1000.76 Q178.727 1005.34 172.917 1005.34 Q167.107 1005.34 164.028 1000.76 Q160.973 996.149 160.973 987.422 Q160.973 978.672 164.028 974.089 Q167.107 969.482 172.917 969.482 Z\" fill=\"#000000\" fill-rule=\"evenodd\" fill-opacity=\"1\" /><path clip-path=\"url(#clip510)\" d=\"M 0 0 M193.125 970.107 L211.482 970.107 L211.482 974.042 L197.408 974.042 L197.408 982.514 Q198.426 982.167 199.445 982.005 Q200.463 981.82 201.482 981.82 Q207.269 981.82 210.649 984.991 Q214.028 988.163 214.028 993.579 Q214.028 999.158 210.556 1002.26 Q207.084 1005.34 200.764 1005.34 Q198.588 1005.34 196.32 1004.97 Q194.075 1004.6 191.667 1003.86 L191.667 999.158 Q193.75 1000.29 195.973 1000.85 Q198.195 1001.4 200.672 1001.4 Q204.676 1001.4 207.014 999.297 Q209.352 997.19 209.352 993.579 Q209.352 989.968 207.014 987.862 Q204.676 985.755 200.672 985.755 Q198.797 985.755 196.922 986.172 Q195.07 986.589 193.125 987.468 L193.125 970.107 Z\" fill=\"#000000\" fill-rule=\"evenodd\" fill-opacity=\"1\" /><path clip-path=\"url(#clip510)\" d=\"M 0 0 M126.529 783.766 Q122.918 783.766 121.089 787.331 Q119.283 790.873 119.283 798.002 Q119.283 805.109 121.089 808.674 Q122.918 812.215 126.529 812.215 Q130.163 812.215 131.968 808.674 Q133.797 805.109 133.797 798.002 Q133.797 790.873 131.968 787.331 Q130.163 783.766 126.529 783.766 M126.529 780.063 Q132.339 780.063 135.394 784.669 Q138.473 789.252 138.473 798.002 Q138.473 806.729 135.394 811.336 Q132.339 815.919 126.529 815.919 Q120.718 815.919 117.64 811.336 Q114.584 806.729 114.584 798.002 Q114.584 789.252 117.64 784.669 Q120.718 780.063 126.529 780.063 Z\" fill=\"#000000\" fill-rule=\"evenodd\" fill-opacity=\"1\" /><path clip-path=\"url(#clip510)\" d=\"M 0 0 M146.691 809.368 L151.575 809.368 L151.575 815.248 L146.691 815.248 L146.691 809.368 Z\" fill=\"#000000\" fill-rule=\"evenodd\" fill-opacity=\"1\" /><path clip-path=\"url(#clip510)\" d=\"M 0 0 M171.76 783.766 Q168.149 783.766 166.32 787.331 Q164.515 790.873 164.515 798.002 Q164.515 805.109 166.32 808.674 Q168.149 812.215 171.76 812.215 Q175.394 812.215 177.2 808.674 Q179.028 805.109 179.028 798.002 Q179.028 790.873 177.2 787.331 Q175.394 783.766 171.76 783.766 M171.76 780.063 Q177.57 780.063 180.626 784.669 Q183.704 789.252 183.704 798.002 Q183.704 806.729 180.626 811.336 Q177.57 815.919 171.76 815.919 Q165.95 815.919 162.871 811.336 Q159.815 806.729 159.815 798.002 Q159.815 789.252 162.871 784.669 Q165.95 780.063 171.76 780.063 Z\" fill=\"#000000\" fill-rule=\"evenodd\" fill-opacity=\"1\" /><path clip-path=\"url(#clip510)\" d=\"M 0 0 M202.5 796.104 Q199.352 796.104 197.5 798.257 Q195.672 800.41 195.672 804.16 Q195.672 807.887 197.5 810.062 Q199.352 812.215 202.5 812.215 Q205.649 812.215 207.477 810.062 Q209.329 807.887 209.329 804.16 Q209.329 800.41 207.477 798.257 Q205.649 796.104 202.5 796.104 M211.783 781.451 L211.783 785.711 Q210.024 784.877 208.218 784.438 Q206.436 783.998 204.676 783.998 Q200.047 783.998 197.593 787.123 Q195.163 790.248 194.815 796.567 Q196.181 794.553 198.241 793.488 Q200.301 792.4 202.778 792.4 Q207.987 792.4 210.996 795.572 Q214.028 798.72 214.028 804.16 Q214.028 809.484 210.88 812.701 Q207.732 815.919 202.5 815.919 Q196.505 815.919 193.334 811.336 Q190.163 806.729 190.163 798.002 Q190.163 789.808 194.051 784.947 Q197.94 780.063 204.491 780.063 Q206.25 780.063 208.033 780.41 Q209.838 780.757 211.783 781.451 Z\" fill=\"#000000\" fill-rule=\"evenodd\" fill-opacity=\"1\" /><path clip-path=\"url(#clip510)\" d=\"M 0 0 M127.593 594.347 Q123.982 594.347 122.154 597.912 Q120.348 601.453 120.348 608.583 Q120.348 615.689 122.154 619.254 Q123.982 622.796 127.593 622.796 Q131.228 622.796 133.033 619.254 Q134.862 615.689 134.862 608.583 Q134.862 601.453 133.033 597.912 Q131.228 594.347 127.593 594.347 M127.593 590.643 Q133.404 590.643 136.459 595.249 Q139.538 599.833 139.538 608.583 Q139.538 617.31 136.459 621.916 Q133.404 626.499 127.593 626.499 Q121.783 626.499 118.705 621.916 Q115.649 617.31 115.649 608.583 Q115.649 599.833 118.705 595.249 Q121.783 590.643 127.593 590.643 Z\" fill=\"#000000\" fill-rule=\"evenodd\" fill-opacity=\"1\" /><path clip-path=\"url(#clip510)\" d=\"M 0 0 M147.755 619.948 L152.64 619.948 L152.64 625.828 L147.755 625.828 L147.755 619.948 Z\" fill=\"#000000\" fill-rule=\"evenodd\" fill-opacity=\"1\" /><path clip-path=\"url(#clip510)\" d=\"M 0 0 M172.825 594.347 Q169.214 594.347 167.385 597.912 Q165.579 601.453 165.579 608.583 Q165.579 615.689 167.385 619.254 Q169.214 622.796 172.825 622.796 Q176.459 622.796 178.264 619.254 Q180.093 615.689 180.093 608.583 Q180.093 601.453 178.264 597.912 Q176.459 594.347 172.825 594.347 M172.825 590.643 Q178.635 590.643 181.69 595.249 Q184.769 599.833 184.769 608.583 Q184.769 617.31 181.69 621.916 Q178.635 626.499 172.825 626.499 Q167.015 626.499 163.936 621.916 Q160.88 617.31 160.88 608.583 Q160.88 599.833 163.936 595.249 Q167.015 590.643 172.825 590.643 Z\" fill=\"#000000\" fill-rule=\"evenodd\" fill-opacity=\"1\" /><path clip-path=\"url(#clip510)\" d=\"M 0 0 M191.806 591.268 L214.028 591.268 L214.028 593.259 L201.482 625.828 L196.598 625.828 L208.403 595.203 L191.806 595.203 L191.806 591.268 Z\" fill=\"#000000\" fill-rule=\"evenodd\" fill-opacity=\"1\" /><path clip-path=\"url(#clip510)\" d=\"M 0 0 M126.783 404.927 Q123.172 404.927 121.343 408.492 Q119.538 412.034 119.538 419.163 Q119.538 426.27 121.343 429.834 Q123.172 433.376 126.783 433.376 Q130.417 433.376 132.223 429.834 Q134.052 426.27 134.052 419.163 Q134.052 412.034 132.223 408.492 Q130.417 404.927 126.783 404.927 M126.783 401.223 Q132.593 401.223 135.649 405.83 Q138.728 410.413 138.728 419.163 Q138.728 427.89 135.649 432.496 Q132.593 437.08 126.783 437.08 Q120.973 437.08 117.894 432.496 Q114.839 427.89 114.839 419.163 Q114.839 410.413 117.894 405.83 Q120.973 401.223 126.783 401.223 Z\" fill=\"#000000\" fill-rule=\"evenodd\" fill-opacity=\"1\" /><path clip-path=\"url(#clip510)\" d=\"M 0 0 M146.945 430.529 L151.829 430.529 L151.829 436.408 L146.945 436.408 L146.945 430.529 Z\" fill=\"#000000\" fill-rule=\"evenodd\" fill-opacity=\"1\" /><path clip-path=\"url(#clip510)\" d=\"M 0 0 M172.014 404.927 Q168.403 404.927 166.575 408.492 Q164.769 412.034 164.769 419.163 Q164.769 426.27 166.575 429.834 Q168.403 433.376 172.014 433.376 Q175.649 433.376 177.454 429.834 Q179.283 426.27 179.283 419.163 Q179.283 412.034 177.454 408.492 Q175.649 404.927 172.014 404.927 M172.014 401.223 Q177.825 401.223 180.88 405.83 Q183.959 410.413 183.959 419.163 Q183.959 427.89 180.88 432.496 Q177.825 437.08 172.014 437.08 Q166.204 437.08 163.126 432.496 Q160.07 427.89 160.07 419.163 Q160.07 410.413 163.126 405.83 Q166.204 401.223 172.014 401.223 Z\" fill=\"#000000\" fill-rule=\"evenodd\" fill-opacity=\"1\" /><path clip-path=\"url(#clip510)\" d=\"M 0 0 M202.176 419.997 Q198.843 419.997 196.922 421.779 Q195.024 423.561 195.024 426.686 Q195.024 429.811 196.922 431.594 Q198.843 433.376 202.176 433.376 Q205.51 433.376 207.431 431.594 Q209.352 429.788 209.352 426.686 Q209.352 423.561 207.431 421.779 Q205.533 419.997 202.176 419.997 M197.5 418.006 Q194.491 417.265 192.801 415.205 Q191.135 413.145 191.135 410.182 Q191.135 406.038 194.075 403.631 Q197.037 401.223 202.176 401.223 Q207.338 401.223 210.278 403.631 Q213.218 406.038 213.218 410.182 Q213.218 413.145 211.528 415.205 Q209.861 417.265 206.875 418.006 Q210.255 418.793 212.13 421.084 Q214.028 423.376 214.028 426.686 Q214.028 431.709 210.949 434.395 Q207.894 437.08 202.176 437.08 Q196.459 437.08 193.38 434.395 Q190.325 431.709 190.325 426.686 Q190.325 423.376 192.223 421.084 Q194.121 418.793 197.5 418.006 M195.787 410.622 Q195.787 413.307 197.454 414.811 Q199.144 416.316 202.176 416.316 Q205.186 416.316 206.875 414.811 Q208.588 413.307 208.588 410.622 Q208.588 407.936 206.875 406.432 Q205.186 404.927 202.176 404.927 Q199.144 404.927 197.454 406.432 Q195.787 407.936 195.787 410.622 Z\" fill=\"#000000\" fill-rule=\"evenodd\" fill-opacity=\"1\" /><path clip-path=\"url(#clip510)\" d=\"M 0 0 M126.876 215.508 Q123.265 215.508 121.436 219.072 Q119.63 222.614 119.63 229.744 Q119.63 236.85 121.436 240.415 Q123.265 243.957 126.876 243.957 Q130.51 243.957 132.316 240.415 Q134.144 236.85 134.144 229.744 Q134.144 222.614 132.316 219.072 Q130.51 215.508 126.876 215.508 M126.876 211.804 Q132.686 211.804 135.742 216.41 Q138.82 220.994 138.82 229.744 Q138.82 238.47 135.742 243.077 Q132.686 247.66 126.876 247.66 Q121.066 247.66 117.987 243.077 Q114.931 238.47 114.931 229.744 Q114.931 220.994 117.987 216.41 Q121.066 211.804 126.876 211.804 Z\" fill=\"#000000\" fill-rule=\"evenodd\" fill-opacity=\"1\" /><path clip-path=\"url(#clip510)\" d=\"M 0 0 M147.038 241.109 L151.922 241.109 L151.922 246.989 L147.038 246.989 L147.038 241.109 Z\" fill=\"#000000\" fill-rule=\"evenodd\" fill-opacity=\"1\" /><path clip-path=\"url(#clip510)\" d=\"M 0 0 M172.107 215.508 Q168.496 215.508 166.667 219.072 Q164.862 222.614 164.862 229.744 Q164.862 236.85 166.667 240.415 Q168.496 243.957 172.107 243.957 Q175.741 243.957 177.547 240.415 Q179.376 236.85 179.376 229.744 Q179.376 222.614 177.547 219.072 Q175.741 215.508 172.107 215.508 M172.107 211.804 Q177.917 211.804 180.973 216.41 Q184.051 220.994 184.051 229.744 Q184.051 238.47 180.973 243.077 Q177.917 247.66 172.107 247.66 Q166.297 247.66 163.218 243.077 Q160.163 238.47 160.163 229.744 Q160.163 220.994 163.218 216.41 Q166.297 211.804 172.107 211.804 Z\" fill=\"#000000\" fill-rule=\"evenodd\" fill-opacity=\"1\" /><path clip-path=\"url(#clip510)\" d=\"M 0 0 M192.408 246.271 L192.408 242.012 Q194.167 242.845 195.973 243.285 Q197.778 243.725 199.514 243.725 Q204.144 243.725 206.574 240.623 Q209.028 237.498 209.375 231.156 Q208.033 233.146 205.973 234.211 Q203.912 235.276 201.412 235.276 Q196.227 235.276 193.195 232.151 Q190.186 229.003 190.186 223.563 Q190.186 218.239 193.334 215.021 Q196.482 211.804 201.713 211.804 Q207.709 211.804 210.857 216.41 Q214.028 220.994 214.028 229.744 Q214.028 237.915 210.139 242.799 Q206.274 247.66 199.723 247.66 Q197.963 247.66 196.158 247.313 Q194.352 246.966 192.408 246.271 M201.713 231.619 Q204.862 231.619 206.69 229.466 Q208.542 227.313 208.542 223.563 Q208.542 219.836 206.69 217.684 Q204.862 215.508 201.713 215.508 Q198.565 215.508 196.713 217.684 Q194.885 219.836 194.885 223.563 Q194.885 227.313 196.713 229.466 Q198.565 231.619 201.713 231.619 Z\" fill=\"#000000\" fill-rule=\"evenodd\" fill-opacity=\"1\" /><path clip-path=\"url(#clip510)\" d=\"M 0 0 M41.7242 969.533 Q42.4244 967.464 44.7161 965.523 Q47.0077 963.549 51.0181 961.576 L64.0042 955.051 L64.0042 961.958 L51.8138 968.037 Q47.0395 970.392 45.48 972.62 Q43.9204 974.817 43.9204 978.636 L43.9204 985.638 L64.0042 985.638 L64.0042 992.068 L16.4842 992.068 L16.4842 977.554 Q16.4842 969.406 19.8898 965.395 Q23.2955 961.385 30.1704 961.385 Q34.6582 961.385 37.6183 963.486 Q40.5784 965.554 41.7242 969.533 M21.7677 985.638 L38.6368 985.638 L38.6368 977.554 Q38.6368 972.907 36.5043 970.551 Q34.34 968.164 30.1704 968.164 Q26.0009 968.164 23.9002 970.551 Q21.7677 972.907 21.7677 977.554 L21.7677 985.638 Z\" fill=\"#000000\" fill-rule=\"evenodd\" fill-opacity=\"1\" /><path clip-path=\"url(#clip510)\" d=\"M 0 0 M49.9359 950.563 L28.3562 950.563 L28.3562 944.707 L49.7131 944.707 Q54.7739 944.707 57.3202 942.733 Q59.8346 940.76 59.8346 936.813 Q59.8346 932.071 56.8109 929.334 Q53.7872 926.564 48.5673 926.564 L28.3562 926.564 L28.3562 920.708 L64.0042 920.708 L64.0042 926.564 L58.5296 926.564 Q61.7762 928.697 63.3676 931.53 Q64.9272 934.331 64.9272 938.055 Q64.9272 944.197 61.1078 947.38 Q57.2883 950.563 49.9359 950.563 M27.4968 935.827 L27.4968 935.827 Z\" fill=\"#000000\" fill-rule=\"evenodd\" fill-opacity=\"1\" /><path clip-path=\"url(#clip510)\" d=\"M 0 0 M42.4881 879.013 L64.0042 879.013 L64.0042 884.869 L42.679 884.869 Q37.6183 884.869 35.1038 886.842 Q32.5894 888.816 32.5894 892.763 Q32.5894 897.505 35.6131 900.242 Q38.6368 902.98 43.8567 902.98 L64.0042 902.98 L64.0042 908.868 L28.3562 908.868 L28.3562 902.98 L33.8944 902.98 Q30.6797 900.879 29.0883 898.046 Q27.4968 895.182 27.4968 891.458 Q27.4968 885.315 31.3163 882.164 Q35.1038 879.013 42.4881 879.013 Z\" fill=\"#000000\" fill-rule=\"evenodd\" fill-opacity=\"1\" /><path clip-path=\"url(#clip510)\" d=\"M 0 0 M42.4881 837.699 L64.0042 837.699 L64.0042 843.556 L42.679 843.556 Q37.6183 843.556 35.1038 845.529 Q32.5894 847.502 32.5894 851.449 Q32.5894 856.192 35.6131 858.929 Q38.6368 861.666 43.8567 861.666 L64.0042 861.666 L64.0042 867.554 L28.3562 867.554 L28.3562 861.666 L33.8944 861.666 Q30.6797 859.565 29.0883 856.733 Q27.4968 853.868 27.4968 850.144 Q27.4968 844.001 31.3163 840.85 Q35.1038 837.699 42.4881 837.699 Z\" fill=\"#000000\" fill-rule=\"evenodd\" fill-opacity=\"1\" /><path clip-path=\"url(#clip510)\" d=\"M 0 0 M28.3562 826.018 L28.3562 820.162 L64.0042 820.162 L64.0042 826.018 L28.3562 826.018 M14.479 826.018 L14.479 820.162 L21.895 820.162 L21.895 826.018 L14.479 826.018 Z\" fill=\"#000000\" fill-rule=\"evenodd\" fill-opacity=\"1\" /><path clip-path=\"url(#clip510)\" d=\"M 0 0 M42.4881 778.275 L64.0042 778.275 L64.0042 784.132 L42.679 784.132 Q37.6183 784.132 35.1038 786.105 Q32.5894 788.079 32.5894 792.025 Q32.5894 796.768 35.6131 799.505 Q38.6368 802.242 43.8567 802.242 L64.0042 802.242 L64.0042 808.13 L28.3562 808.13 L28.3562 802.242 L33.8944 802.242 Q30.6797 800.142 29.0883 797.309 Q27.4968 794.444 27.4968 790.72 Q27.4968 784.577 31.3163 781.426 Q35.1038 778.275 42.4881 778.275 Z\" fill=\"#000000\" fill-rule=\"evenodd\" fill-opacity=\"1\" /><path clip-path=\"url(#clip510)\" d=\"M 0 0 M45.7664 743.137 Q39.4007 743.137 35.8996 745.778 Q32.3984 748.388 32.3984 753.131 Q32.3984 757.841 35.8996 760.483 Q39.4007 763.093 45.7664 763.093 Q52.1003 763.093 55.6014 760.483 Q59.1026 757.841 59.1026 753.131 Q59.1026 748.388 55.6014 745.778 Q52.1003 743.137 45.7664 743.137 M59.58 737.28 Q68.683 737.28 73.1071 741.322 Q77.5631 745.365 77.5631 753.704 Q77.5631 756.791 77.0857 759.528 Q76.6401 762.266 75.6852 764.844 L69.9879 764.844 Q71.3884 762.266 72.0568 759.751 Q72.7252 757.237 72.7252 754.627 Q72.7252 748.866 69.7015 746.001 Q66.7096 743.137 60.6303 743.137 L57.7339 743.137 Q60.885 744.951 62.4446 747.784 Q64.0042 750.616 64.0042 754.563 Q64.0042 761.12 59.0071 765.13 Q54.01 769.141 45.7664 769.141 Q37.491 769.141 32.4939 765.13 Q27.4968 761.12 27.4968 754.563 Q27.4968 750.616 29.0564 747.784 Q30.616 744.951 33.7671 743.137 L28.3562 743.137 L28.3562 737.28 L59.58 737.28 Z\" fill=\"#000000\" fill-rule=\"evenodd\" fill-opacity=\"1\" /><path clip-path=\"url(#clip510)\" d=\"M 0 0 M16.4842 710.831 L16.4842 670.631 L21.895 670.631 L21.895 687.5 L64.0042 687.5 L64.0042 693.962 L21.895 693.962 L21.895 710.831 L16.4842 710.831 Z\" fill=\"#000000\" fill-rule=\"evenodd\" fill-opacity=\"1\" /><path clip-path=\"url(#clip510)\" d=\"M 0 0 M28.3562 666.684 L28.3562 660.828 L64.0042 660.828 L64.0042 666.684 L28.3562 666.684 M14.479 666.684 L14.479 660.828 L21.895 660.828 L21.895 666.684 L14.479 666.684 Z\" fill=\"#000000\" fill-rule=\"evenodd\" fill-opacity=\"1\" /><path clip-path=\"url(#clip510)\" d=\"M 0 0 M35.1993 620.82 Q31.2526 618.623 29.3747 615.568 Q27.4968 612.512 27.4968 608.375 Q27.4968 602.805 31.4117 599.781 Q35.2948 596.757 42.4881 596.757 L64.0042 596.757 L64.0042 602.645 L42.679 602.645 Q37.5546 602.645 35.072 604.46 Q32.5894 606.274 32.5894 609.998 Q32.5894 614.549 35.6131 617.191 Q38.6368 619.833 43.8567 619.833 L64.0042 619.833 L64.0042 625.721 L42.679 625.721 Q37.5228 625.721 35.072 627.535 Q32.5894 629.35 32.5894 633.137 Q32.5894 637.625 35.6449 640.267 Q38.6686 642.909 43.8567 642.909 L64.0042 642.909 L64.0042 648.797 L28.3562 648.797 L28.3562 642.909 L33.8944 642.909 Q30.616 640.903 29.0564 638.102 Q27.4968 635.302 27.4968 631.45 Q27.4968 627.567 29.4702 624.862 Q31.4436 622.125 35.1993 620.82 Z\" fill=\"#000000\" fill-rule=\"evenodd\" fill-opacity=\"1\" /><path clip-path=\"url(#clip510)\" d=\"M 0 0 M44.7161 554.584 L47.5806 554.584 L47.5806 581.511 Q53.6281 581.129 56.8109 577.883 Q59.9619 574.605 59.9619 568.78 Q59.9619 565.406 59.1344 562.255 Q58.3069 559.072 56.6518 555.953 L62.1899 555.953 Q63.5267 559.104 64.227 562.414 Q64.9272 565.724 64.9272 569.13 Q64.9272 577.66 59.9619 582.657 Q54.9967 587.622 46.5303 587.622 Q37.7774 587.622 32.6531 582.912 Q27.4968 578.169 27.4968 570.149 Q27.4968 562.955 32.1438 558.786 Q36.7589 554.584 44.7161 554.584 M42.9973 560.441 Q38.1912 560.504 35.3266 563.146 Q32.4621 565.756 32.4621 570.085 Q32.4621 574.986 35.2312 577.947 Q38.0002 580.875 43.0292 581.32 L42.9973 560.441 Z\" fill=\"#000000\" fill-rule=\"evenodd\" fill-opacity=\"1\" /><path clip-path=\"url(#clip510)\" d=\"M 0 0 M722.275 12.096 L733.293 12.096 L760.11 62.6918 L760.11 12.096 L768.05 12.096 L768.05 72.576 L757.032 72.576 L730.215 21.9802 L730.215 72.576 L722.275 72.576 L722.275 12.096 Z\" fill=\"#000000\" fill-rule=\"evenodd\" fill-opacity=\"1\" /><path clip-path=\"url(#clip510)\" d=\"M 0 0 M783.241 54.671 L783.241 27.2059 L790.695 27.2059 L790.695 54.3874 Q790.695 60.8284 793.206 64.0691 Q795.718 67.2693 800.741 67.2693 Q806.777 67.2693 810.26 63.421 Q813.785 59.5726 813.785 52.9291 L813.785 27.2059 L821.238 27.2059 L821.238 72.576 L813.785 72.576 L813.785 65.6084 Q811.071 69.7404 807.465 71.7658 Q803.9 73.7508 799.161 73.7508 Q791.343 73.7508 787.292 68.8897 Q783.241 64.0286 783.241 54.671 M801.997 26.1121 L801.997 26.1121 Z\" fill=\"#000000\" fill-rule=\"evenodd\" fill-opacity=\"1\" /><path clip-path=\"url(#clip510)\" d=\"M 0 0 M871.915 35.9153 Q874.71 30.8922 878.599 28.5022 Q882.488 26.1121 887.754 26.1121 Q894.843 26.1121 898.692 31.0947 Q902.54 36.0368 902.54 45.1919 L902.54 72.576 L895.046 72.576 L895.046 45.4349 Q895.046 38.913 892.737 35.7533 Q890.428 32.5936 885.688 32.5936 Q879.895 32.5936 876.533 36.4419 Q873.171 40.2903 873.171 46.9338 L873.171 72.576 L865.677 72.576 L865.677 45.4349 Q865.677 38.8725 863.368 35.7533 Q861.059 32.5936 856.238 32.5936 Q850.526 32.5936 847.164 36.4824 Q843.802 40.3308 843.802 46.9338 L843.802 72.576 L836.308 72.576 L836.308 27.2059 L843.802 27.2059 L843.802 34.2544 Q846.354 30.082 849.919 28.0971 Q853.484 26.1121 858.385 26.1121 Q863.327 26.1121 866.771 28.6237 Q870.254 31.1352 871.915 35.9153 Z\" fill=\"#000000\" fill-rule=\"evenodd\" fill-opacity=\"1\" /><path clip-path=\"url(#clip510)\" d=\"M 0 0 M949.976 49.9314 Q949.976 41.7081 946.573 37.0496 Q943.211 32.3505 937.297 32.3505 Q931.382 32.3505 927.98 37.0496 Q924.617 41.7081 924.617 49.9314 Q924.617 58.1548 927.98 62.8538 Q931.382 67.5124 937.297 67.5124 Q943.211 67.5124 946.573 62.8538 Q949.976 58.1548 949.976 49.9314 M924.617 34.0924 Q926.967 30.0415 930.532 28.0971 Q934.137 26.1121 939.12 26.1121 Q947.384 26.1121 952.528 32.6746 Q957.713 39.2371 957.713 49.9314 Q957.713 60.6258 952.528 67.1883 Q947.384 73.7508 939.12 73.7508 Q934.137 73.7508 930.532 71.8063 Q926.967 69.8214 924.617 65.7705 L924.617 72.576 L917.123 72.576 L917.123 9.54393 L924.617 9.54393 L924.617 34.0924 Z\" fill=\"#000000\" fill-rule=\"evenodd\" fill-opacity=\"1\" /><path clip-path=\"url(#clip510)\" d=\"M 0 0 M1008.88 48.0275 L1008.88 51.6733 L974.606 51.6733 Q975.092 59.3701 979.224 63.421 Q983.396 67.4314 990.809 67.4314 Q995.103 67.4314 999.114 66.3781 Q1003.16 65.3249 1007.13 63.2184 L1007.13 70.267 Q1003.12 71.9684 998.911 72.8596 Q994.698 73.7508 990.364 73.7508 Q979.507 73.7508 973.147 67.4314 Q966.828 61.1119 966.828 50.3365 Q966.828 39.1965 972.823 32.6746 Q978.859 26.1121 989.067 26.1121 Q998.222 26.1121 1003.53 32.0264 Q1008.88 37.9003 1008.88 48.0275 M1001.42 45.84 Q1001.34 39.7232 997.979 36.0774 Q994.658 32.4315 989.148 32.4315 Q982.91 32.4315 979.143 35.9558 Q975.416 39.4801 974.849 45.8805 L1001.42 45.84 Z\" fill=\"#000000\" fill-rule=\"evenodd\" fill-opacity=\"1\" /><path clip-path=\"url(#clip510)\" d=\"M 0 0 M1047.4 34.1734 Q1046.14 33.4443 1044.65 33.1202 Q1043.19 32.7556 1041.4 32.7556 Q1035.09 32.7556 1031.68 36.8875 Q1028.32 40.9789 1028.32 48.6757 L1028.32 72.576 L1020.83 72.576 L1020.83 27.2059 L1028.32 27.2059 L1028.32 34.2544 Q1030.67 30.1225 1034.44 28.1376 Q1038.2 26.1121 1043.59 26.1121 Q1044.36 26.1121 1045.29 26.2337 Q1046.23 26.3147 1047.36 26.5172 L1047.4 34.1734 Z\" fill=\"#000000\" fill-rule=\"evenodd\" fill-opacity=\"1\" /><path clip-path=\"url(#clip510)\" d=\"M 0 0 M1099.17 32.4315 Q1093.18 32.4315 1089.69 37.1306 Q1086.21 41.7891 1086.21 49.9314 Q1086.21 58.0738 1089.65 62.7728 Q1093.14 67.4314 1099.17 67.4314 Q1105.13 67.4314 1108.61 62.7323 Q1112.09 58.0333 1112.09 49.9314 Q1112.09 41.8701 1108.61 37.1711 Q1105.13 32.4315 1099.17 32.4315 M1099.17 26.1121 Q1108.89 26.1121 1114.44 32.4315 Q1119.99 38.7509 1119.99 49.9314 Q1119.99 61.0714 1114.44 67.4314 Q1108.89 73.7508 1099.17 73.7508 Q1089.41 73.7508 1083.86 67.4314 Q1078.35 61.0714 1078.35 49.9314 Q1078.35 38.7509 1083.86 32.4315 Q1089.41 26.1121 1099.17 26.1121 Z\" fill=\"#000000\" fill-rule=\"evenodd\" fill-opacity=\"1\" /><path clip-path=\"url(#clip510)\" d=\"M 0 0 M1155.32 9.54393 L1155.32 15.7418 L1148.19 15.7418 Q1144.18 15.7418 1142.6 17.3622 Q1141.06 18.9825 1141.06 23.1955 L1141.06 27.2059 L1153.33 27.2059 L1153.33 32.9987 L1141.06 32.9987 L1141.06 72.576 L1133.56 72.576 L1133.56 32.9987 L1126.43 32.9987 L1126.43 27.2059 L1133.56 27.2059 L1133.56 24.0462 Q1133.56 16.471 1137.09 13.0277 Q1140.61 9.54393 1148.27 9.54393 L1155.32 9.54393 Z\" fill=\"#000000\" fill-rule=\"evenodd\" fill-opacity=\"1\" /><path clip-path=\"url(#clip510)\" d=\"M 0 0 M1188.25 12.096 L1223.01 12.096 L1223.01 18.9825 L1196.43 18.9825 L1196.43 36.8065 L1220.41 36.8065 L1220.41 43.6931 L1196.43 43.6931 L1196.43 72.576 L1188.25 72.576 L1188.25 12.096 Z\" fill=\"#000000\" fill-rule=\"evenodd\" fill-opacity=\"1\" /><path clip-path=\"url(#clip510)\" d=\"M 0 0 M1269.92 48.0275 L1269.92 51.6733 L1235.65 51.6733 Q1236.13 59.3701 1240.26 63.421 Q1244.44 67.4314 1251.85 67.4314 Q1256.14 67.4314 1260.15 66.3781 Q1264.2 65.3249 1268.17 63.2184 L1268.17 70.267 Q1264.16 71.9684 1259.95 72.8596 Q1255.74 73.7508 1251.4 73.7508 Q1240.55 73.7508 1234.19 67.4314 Q1227.87 61.1119 1227.87 50.3365 Q1227.87 39.1965 1233.86 32.6746 Q1239.9 26.1121 1250.11 26.1121 Q1259.26 26.1121 1264.57 32.0264 Q1269.92 37.9003 1269.92 48.0275 M1262.46 45.84 Q1262.38 39.7232 1259.02 36.0774 Q1255.7 32.4315 1250.19 32.4315 Q1243.95 32.4315 1240.18 35.9558 Q1236.46 39.4801 1235.89 45.8805 L1262.46 45.84 Z\" fill=\"#000000\" fill-rule=\"evenodd\" fill-opacity=\"1\" /><path clip-path=\"url(#clip510)\" d=\"M 0 0 M1302.77 49.7694 Q1293.74 49.7694 1290.25 51.8354 Q1286.77 53.9013 1286.77 58.8839 Q1286.77 62.8538 1289.36 65.2034 Q1291.99 67.5124 1296.49 67.5124 Q1302.69 67.5124 1306.42 63.1374 Q1310.18 58.7219 1310.18 51.4303 L1310.18 49.7694 L1302.77 49.7694 M1317.64 46.6907 L1317.64 72.576 L1310.18 72.576 L1310.18 65.6895 Q1307.63 69.8214 1303.82 71.8063 Q1300.01 73.7508 1294.51 73.7508 Q1287.54 73.7508 1283.41 69.8619 Q1279.31 65.9325 1279.31 59.3701 Q1279.31 51.7138 1284.42 47.825 Q1289.56 43.9361 1299.73 43.9361 L1310.18 43.9361 L1310.18 43.2069 Q1310.18 38.0623 1306.78 35.2672 Q1303.42 32.4315 1297.3 32.4315 Q1293.41 32.4315 1289.73 33.3632 Q1286.04 34.295 1282.64 36.1584 L1282.64 29.2718 Q1286.73 27.692 1290.58 26.9223 Q1294.42 26.1121 1298.07 26.1121 Q1307.91 26.1121 1312.78 31.2163 Q1317.64 36.3204 1317.64 46.6907 Z\" fill=\"#000000\" fill-rule=\"evenodd\" fill-opacity=\"1\" /><path clip-path=\"url(#clip510)\" d=\"M 0 0 M1340.36 14.324 L1340.36 27.2059 L1355.71 27.2059 L1355.71 32.9987 L1340.36 32.9987 L1340.36 57.6282 Q1340.36 63.1779 1341.86 64.7578 Q1343.4 66.3376 1348.06 66.3376 L1355.71 66.3376 L1355.71 72.576 L1348.06 72.576 Q1339.43 72.576 1336.15 69.3758 Q1332.87 66.1351 1332.87 57.6282 L1332.87 32.9987 L1327.4 32.9987 L1327.4 27.2059 L1332.87 27.2059 L1332.87 14.324 L1340.36 14.324 Z\" fill=\"#000000\" fill-rule=\"evenodd\" fill-opacity=\"1\" /><path clip-path=\"url(#clip510)\" d=\"M 0 0 M1364.75 54.671 L1364.75 27.2059 L1372.2 27.2059 L1372.2 54.3874 Q1372.2 60.8284 1374.71 64.0691 Q1377.22 67.2693 1382.25 67.2693 Q1388.28 67.2693 1391.77 63.421 Q1395.29 59.5726 1395.29 52.9291 L1395.29 27.2059 L1402.75 27.2059 L1402.75 72.576 L1395.29 72.576 L1395.29 65.6084 Q1392.58 69.7404 1388.97 71.7658 Q1385.41 73.7508 1380.67 73.7508 Q1372.85 73.7508 1368.8 68.8897 Q1364.75 64.0286 1364.75 54.671 M1383.5 26.1121 L1383.5 26.1121 Z\" fill=\"#000000\" fill-rule=\"evenodd\" fill-opacity=\"1\" /><path clip-path=\"url(#clip510)\" d=\"M 0 0 M1444.39 34.1734 Q1443.13 33.4443 1441.63 33.1202 Q1440.18 32.7556 1438.39 32.7556 Q1432.07 32.7556 1428.67 36.8875 Q1425.31 40.9789 1425.31 48.6757 L1425.31 72.576 L1417.82 72.576 L1417.82 27.2059 L1425.31 27.2059 L1425.31 34.2544 Q1427.66 30.1225 1431.43 28.1376 Q1435.19 26.1121 1440.58 26.1121 Q1441.35 26.1121 1442.28 26.2337 Q1443.21 26.3147 1444.35 26.5172 L1444.39 34.1734 Z\" fill=\"#000000\" fill-rule=\"evenodd\" fill-opacity=\"1\" /><path clip-path=\"url(#clip510)\" d=\"M 0 0 M1489.19 48.0275 L1489.19 51.6733 L1454.92 51.6733 Q1455.41 59.3701 1459.54 63.421 Q1463.71 67.4314 1471.12 67.4314 Q1475.42 67.4314 1479.43 66.3781 Q1483.48 65.3249 1487.45 63.2184 L1487.45 70.267 Q1483.44 71.9684 1479.23 72.8596 Q1475.01 73.7508 1470.68 73.7508 Q1459.82 73.7508 1453.46 67.4314 Q1447.14 61.1119 1447.14 50.3365 Q1447.14 39.1965 1453.14 32.6746 Q1459.17 26.1121 1469.38 26.1121 Q1478.54 26.1121 1483.84 32.0264 Q1489.19 37.9003 1489.19 48.0275 M1481.74 45.84 Q1481.66 39.7232 1478.3 36.0774 Q1474.97 32.4315 1469.46 32.4315 Q1463.23 32.4315 1459.46 35.9558 Q1455.73 39.4801 1455.16 45.8805 L1481.74 45.84 Z\" fill=\"#000000\" fill-rule=\"evenodd\" fill-opacity=\"1\" /><path clip-path=\"url(#clip510)\" d=\"M 0 0 M1530.35 28.5427 L1530.35 35.5912 Q1527.19 33.9709 1523.79 33.1607 Q1520.38 32.3505 1516.74 32.3505 Q1511.19 32.3505 1508.39 34.0519 Q1505.64 35.7533 1505.64 39.156 Q1505.64 41.7486 1507.62 43.2475 Q1509.61 44.7058 1515.6 46.0426 L1518.16 46.6097 Q1526.1 48.3111 1529.42 51.4303 Q1532.78 54.509 1532.78 60.0587 Q1532.78 66.3781 1527.76 70.0644 Q1522.77 73.7508 1514.02 73.7508 Q1510.38 73.7508 1506.41 73.0216 Q1502.48 72.3329 1498.1 70.9151 L1498.1 63.2184 Q1502.24 65.3654 1506.25 66.4591 Q1510.26 67.5124 1514.19 67.5124 Q1519.45 67.5124 1522.29 65.73 Q1525.12 63.9071 1525.12 60.6258 Q1525.12 57.5877 1523.06 55.9673 Q1521.03 54.3469 1514.11 52.8481 L1511.51 52.2405 Q1504.59 50.7821 1501.51 47.7845 Q1498.43 44.7463 1498.43 39.4801 Q1498.43 33.0797 1502.97 29.5959 Q1507.5 26.1121 1515.85 26.1121 Q1519.98 26.1121 1523.62 26.7198 Q1527.27 27.3274 1530.35 28.5427 Z\" fill=\"#000000\" fill-rule=\"evenodd\" fill-opacity=\"1\" /><path clip-path=\"url(#clip510)\" d=\"M 0 0 M1565.67 27.2059 L1573.57 27.2059 L1587.75 65.2844 L1601.93 27.2059 L1609.83 27.2059 L1592.81 72.576 L1582.69 72.576 L1565.67 27.2059 Z\" fill=\"#000000\" fill-rule=\"evenodd\" fill-opacity=\"1\" /><path clip-path=\"url(#clip510)\" d=\"M 0 0 M1649.04 28.5427 L1649.04 35.5912 Q1645.88 33.9709 1642.48 33.1607 Q1639.08 32.3505 1635.43 32.3505 Q1629.88 32.3505 1627.08 34.0519 Q1624.33 35.7533 1624.33 39.156 Q1624.33 41.7486 1626.32 43.2475 Q1628.3 44.7058 1634.3 46.0426 L1636.85 46.6097 Q1644.79 48.3111 1648.11 51.4303 Q1651.47 54.509 1651.47 60.0587 Q1651.47 66.3781 1646.45 70.0644 Q1641.47 73.7508 1632.72 73.7508 Q1629.07 73.7508 1625.1 73.0216 Q1621.17 72.3329 1616.8 70.9151 L1616.8 63.2184 Q1620.93 65.3654 1624.94 66.4591 Q1628.95 67.5124 1632.88 67.5124 Q1638.14 67.5124 1640.98 65.73 Q1643.81 63.9071 1643.81 60.6258 Q1643.81 57.5877 1641.75 55.9673 Q1639.72 54.3469 1632.8 52.8481 L1630.2 52.2405 Q1623.28 50.7821 1620.2 47.7845 Q1617.12 44.7463 1617.12 39.4801 Q1617.12 33.0797 1621.66 29.5959 Q1626.19 26.1121 1634.54 26.1121 Q1638.67 26.1121 1642.32 26.7198 Q1645.96 27.3274 1649.04 28.5427 Z\" fill=\"#000000\" fill-rule=\"evenodd\" fill-opacity=\"1\" /><path clip-path=\"url(#clip510)\" d=\"M 0 0 M1681.65 12.096 L1732.81 12.096 L1732.81 18.9825 L1711.34 18.9825 L1711.34 72.576 L1703.12 72.576 L1703.12 18.9825 L1681.65 18.9825 L1681.65 12.096 Z\" fill=\"#000000\" fill-rule=\"evenodd\" fill-opacity=\"1\" /><path clip-path=\"url(#clip510)\" d=\"M 0 0 M1737.84 27.2059 L1745.29 27.2059 L1745.29 72.576 L1737.84 72.576 L1737.84 27.2059 M1737.84 9.54393 L1745.29 9.54393 L1745.29 18.9825 L1737.84 18.9825 L1737.84 9.54393 Z\" fill=\"#000000\" fill-rule=\"evenodd\" fill-opacity=\"1\" /><path clip-path=\"url(#clip510)\" d=\"M 0 0 M1796.21 35.9153 Q1799.01 30.8922 1802.89 28.5022 Q1806.78 26.1121 1812.05 26.1121 Q1819.14 26.1121 1822.99 31.0947 Q1826.83 36.0368 1826.83 45.1919 L1826.83 72.576 L1819.34 72.576 L1819.34 45.4349 Q1819.34 38.913 1817.03 35.7533 Q1814.72 32.5936 1809.98 32.5936 Q1804.19 32.5936 1800.83 36.4419 Q1797.47 40.2903 1797.47 46.9338 L1797.47 72.576 L1789.97 72.576 L1789.97 45.4349 Q1789.97 38.8725 1787.66 35.7533 Q1785.35 32.5936 1780.53 32.5936 Q1774.82 32.5936 1771.46 36.4824 Q1768.1 40.3308 1768.1 46.9338 L1768.1 72.576 L1760.6 72.576 L1760.6 27.2059 L1768.1 27.2059 L1768.1 34.2544 Q1770.65 30.082 1774.21 28.0971 Q1777.78 26.1121 1782.68 26.1121 Q1787.62 26.1121 1791.07 28.6237 Q1794.55 31.1352 1796.21 35.9153 Z\" fill=\"#000000\" fill-rule=\"evenodd\" fill-opacity=\"1\" /><path clip-path=\"url(#clip510)\" d=\"M 0 0 M1880.51 48.0275 L1880.51 51.6733 L1846.24 51.6733 Q1846.72 59.3701 1850.86 63.421 Q1855.03 67.4314 1862.44 67.4314 Q1866.74 67.4314 1870.75 66.3781 Q1874.8 65.3249 1878.77 63.2184 L1878.77 70.267 Q1874.76 71.9684 1870.54 72.8596 Q1866.33 73.7508 1862 73.7508 Q1851.14 73.7508 1844.78 67.4314 Q1838.46 61.1119 1838.46 50.3365 Q1838.46 39.1965 1844.46 32.6746 Q1850.49 26.1121 1860.7 26.1121 Q1869.86 26.1121 1875.16 32.0264 Q1880.51 37.9003 1880.51 48.0275 M1873.06 45.84 Q1872.97 39.7232 1869.61 36.0774 Q1866.29 32.4315 1860.78 32.4315 Q1854.54 32.4315 1850.78 35.9558 Q1847.05 39.4801 1846.48 45.8805 L1873.06 45.84 Z\" fill=\"#000000\" fill-rule=\"evenodd\" fill-opacity=\"1\" /><polyline clip-path=\"url(#clip512)\" style=\"stroke:#ff0000; stroke-width:16; stroke-opacity:1; fill:none\" points=\"\n",
       "  309.539,1348.06 529.951,1358.09 750.363,1386.4 970.774,1343.04 1191.19,1343.12 1411.6,1317.88 1632.01,1278.07 1852.42,160.256 2072.83,1324.35 2293.24,1319.32 \n",
       "  \n",
       "  \"/>\n",
       "</svg>\n"
      ]
     },
     "execution_count": 16,
     "metadata": {},
     "output_type": "execute_result"
    }
   ],
   "source": [
    "# Plotting the Time as a function of the number of features\n",
    "feat_time = plot(value[:,1], value[:,2], title= \"Number of Features vs Time\", legend = false, linecolor= :red, xticks = 0:1:10,   xlabel=\"Num of Features\", ylabel=\"Running Time\", lw=4)"
   ]
  },
  {
   "cell_type": "code",
   "execution_count": 17,
   "metadata": {},
   "outputs": [
    {
     "data": {
      "image/svg+xml": [
       "<?xml version=\"1.0\" encoding=\"utf-8\"?>\n",
       "<svg xmlns=\"http://www.w3.org/2000/svg\" xmlns:xlink=\"http://www.w3.org/1999/xlink\" width=\"600\" height=\"400\" viewBox=\"0 0 2400 1600\">\n",
       "<defs>\n",
       "  <clipPath id=\"clip550\">\n",
       "    <rect x=\"0\" y=\"0\" width=\"2400\" height=\"1600\"/>\n",
       "  </clipPath>\n",
       "</defs>\n",
       "<path clip-path=\"url(#clip550)\" d=\"\n",
       "M0 1600 L2400 1600 L2400 0 L0 0  Z\n",
       "  \" fill=\"#ffffff\" fill-rule=\"evenodd\" fill-opacity=\"1\"/>\n",
       "<defs>\n",
       "  <clipPath id=\"clip551\">\n",
       "    <rect x=\"480\" y=\"0\" width=\"1681\" height=\"1600\"/>\n",
       "  </clipPath>\n",
       "</defs>\n",
       "<path clip-path=\"url(#clip550)\" d=\"\n",
       "M250.028 1423.18 L2352.76 1423.18 L2352.76 123.472 L250.028 123.472  Z\n",
       "  \" fill=\"#ffffff\" fill-rule=\"evenodd\" fill-opacity=\"1\"/>\n",
       "<defs>\n",
       "  <clipPath id=\"clip552\">\n",
       "    <rect x=\"250\" y=\"123\" width=\"2104\" height=\"1301\"/>\n",
       "  </clipPath>\n",
       "</defs>\n",
       "<polyline clip-path=\"url(#clip552)\" style=\"stroke:#000000; stroke-width:2; stroke-opacity:0.1; fill:none\" points=\"\n",
       "  309.539,1423.18 309.539,123.472 \n",
       "  \"/>\n",
       "<polyline clip-path=\"url(#clip552)\" style=\"stroke:#000000; stroke-width:2; stroke-opacity:0.1; fill:none\" points=\"\n",
       "  529.951,1423.18 529.951,123.472 \n",
       "  \"/>\n",
       "<polyline clip-path=\"url(#clip552)\" style=\"stroke:#000000; stroke-width:2; stroke-opacity:0.1; fill:none\" points=\"\n",
       "  750.363,1423.18 750.363,123.472 \n",
       "  \"/>\n",
       "<polyline clip-path=\"url(#clip552)\" style=\"stroke:#000000; stroke-width:2; stroke-opacity:0.1; fill:none\" points=\"\n",
       "  970.774,1423.18 970.774,123.472 \n",
       "  \"/>\n",
       "<polyline clip-path=\"url(#clip552)\" style=\"stroke:#000000; stroke-width:2; stroke-opacity:0.1; fill:none\" points=\"\n",
       "  1191.19,1423.18 1191.19,123.472 \n",
       "  \"/>\n",
       "<polyline clip-path=\"url(#clip552)\" style=\"stroke:#000000; stroke-width:2; stroke-opacity:0.1; fill:none\" points=\"\n",
       "  1411.6,1423.18 1411.6,123.472 \n",
       "  \"/>\n",
       "<polyline clip-path=\"url(#clip552)\" style=\"stroke:#000000; stroke-width:2; stroke-opacity:0.1; fill:none\" points=\"\n",
       "  1632.01,1423.18 1632.01,123.472 \n",
       "  \"/>\n",
       "<polyline clip-path=\"url(#clip552)\" style=\"stroke:#000000; stroke-width:2; stroke-opacity:0.1; fill:none\" points=\"\n",
       "  1852.42,1423.18 1852.42,123.472 \n",
       "  \"/>\n",
       "<polyline clip-path=\"url(#clip552)\" style=\"stroke:#000000; stroke-width:2; stroke-opacity:0.1; fill:none\" points=\"\n",
       "  2072.83,1423.18 2072.83,123.472 \n",
       "  \"/>\n",
       "<polyline clip-path=\"url(#clip552)\" style=\"stroke:#000000; stroke-width:2; stroke-opacity:0.1; fill:none\" points=\"\n",
       "  2293.24,1423.18 2293.24,123.472 \n",
       "  \"/>\n",
       "<polyline clip-path=\"url(#clip550)\" style=\"stroke:#000000; stroke-width:4; stroke-opacity:1; fill:none\" points=\"\n",
       "  250.028,1423.18 2352.76,1423.18 \n",
       "  \"/>\n",
       "<polyline clip-path=\"url(#clip550)\" style=\"stroke:#000000; stroke-width:4; stroke-opacity:1; fill:none\" points=\"\n",
       "  309.539,1423.18 309.539,1407.58 \n",
       "  \"/>\n",
       "<polyline clip-path=\"url(#clip550)\" style=\"stroke:#000000; stroke-width:4; stroke-opacity:1; fill:none\" points=\"\n",
       "  529.951,1423.18 529.951,1407.58 \n",
       "  \"/>\n",
       "<polyline clip-path=\"url(#clip550)\" style=\"stroke:#000000; stroke-width:4; stroke-opacity:1; fill:none\" points=\"\n",
       "  750.363,1423.18 750.363,1407.58 \n",
       "  \"/>\n",
       "<polyline clip-path=\"url(#clip550)\" style=\"stroke:#000000; stroke-width:4; stroke-opacity:1; fill:none\" points=\"\n",
       "  970.774,1423.18 970.774,1407.58 \n",
       "  \"/>\n",
       "<polyline clip-path=\"url(#clip550)\" style=\"stroke:#000000; stroke-width:4; stroke-opacity:1; fill:none\" points=\"\n",
       "  1191.19,1423.18 1191.19,1407.58 \n",
       "  \"/>\n",
       "<polyline clip-path=\"url(#clip550)\" style=\"stroke:#000000; stroke-width:4; stroke-opacity:1; fill:none\" points=\"\n",
       "  1411.6,1423.18 1411.6,1407.58 \n",
       "  \"/>\n",
       "<polyline clip-path=\"url(#clip550)\" style=\"stroke:#000000; stroke-width:4; stroke-opacity:1; fill:none\" points=\"\n",
       "  1632.01,1423.18 1632.01,1407.58 \n",
       "  \"/>\n",
       "<polyline clip-path=\"url(#clip550)\" style=\"stroke:#000000; stroke-width:4; stroke-opacity:1; fill:none\" points=\"\n",
       "  1852.42,1423.18 1852.42,1407.58 \n",
       "  \"/>\n",
       "<polyline clip-path=\"url(#clip550)\" style=\"stroke:#000000; stroke-width:4; stroke-opacity:1; fill:none\" points=\"\n",
       "  2072.83,1423.18 2072.83,1407.58 \n",
       "  \"/>\n",
       "<polyline clip-path=\"url(#clip550)\" style=\"stroke:#000000; stroke-width:4; stroke-opacity:1; fill:none\" points=\"\n",
       "  2293.24,1423.18 2293.24,1407.58 \n",
       "  \"/>\n",
       "<path clip-path=\"url(#clip550)\" d=\"M 0 0 M299.921 1479.92 L307.56 1479.92 L307.56 1453.55 L299.25 1455.22 L299.25 1450.96 L307.514 1449.29 L312.19 1449.29 L312.19 1479.92 L319.829 1479.92 L319.829 1483.85 L299.921 1483.85 L299.921 1479.92 Z\" fill=\"#000000\" fill-rule=\"evenodd\" fill-opacity=\"1\" /><path clip-path=\"url(#clip550)\" d=\"M 0 0 M524.604 1479.92 L540.923 1479.92 L540.923 1483.85 L518.979 1483.85 L518.979 1479.92 Q521.641 1477.16 526.224 1472.53 Q530.831 1467.88 532.011 1466.54 Q534.257 1464.01 535.136 1462.28 Q536.039 1460.52 536.039 1458.83 Q536.039 1456.07 534.095 1454.34 Q532.173 1452.6 529.071 1452.6 Q526.872 1452.6 524.419 1453.37 Q521.988 1454.13 519.21 1455.68 L519.21 1450.96 Q522.034 1449.82 524.488 1449.25 Q526.942 1448.67 528.979 1448.67 Q534.349 1448.67 537.544 1451.35 Q540.738 1454.04 540.738 1458.53 Q540.738 1460.66 539.928 1462.58 Q539.141 1464.48 537.034 1467.07 Q536.456 1467.74 533.354 1470.96 Q530.252 1474.15 524.604 1479.92 Z\" fill=\"#000000\" fill-rule=\"evenodd\" fill-opacity=\"1\" /><path clip-path=\"url(#clip550)\" d=\"M 0 0 M754.61 1465.22 Q757.967 1465.94 759.842 1468.2 Q761.74 1470.47 761.74 1473.81 Q761.74 1478.92 758.221 1481.72 Q754.703 1484.52 748.222 1484.52 Q746.046 1484.52 743.731 1484.08 Q741.439 1483.67 738.985 1482.81 L738.985 1478.3 Q740.93 1479.43 743.245 1480.01 Q745.56 1480.59 748.083 1480.59 Q752.481 1480.59 754.772 1478.85 Q757.087 1477.12 757.087 1473.81 Q757.087 1470.75 754.934 1469.04 Q752.805 1467.3 748.985 1467.3 L744.958 1467.3 L744.958 1463.46 L749.171 1463.46 Q752.62 1463.46 754.448 1462.09 Q756.277 1460.7 756.277 1458.11 Q756.277 1455.45 754.379 1454.04 Q752.504 1452.6 748.985 1452.6 Q747.064 1452.6 744.865 1453.02 Q742.666 1453.44 740.027 1454.31 L740.027 1450.15 Q742.689 1449.41 745.004 1449.04 Q747.342 1448.67 749.402 1448.67 Q754.726 1448.67 757.828 1451.1 Q760.93 1453.5 760.93 1457.63 Q760.93 1460.5 759.286 1462.49 Q757.643 1464.45 754.61 1465.22 Z\" fill=\"#000000\" fill-rule=\"evenodd\" fill-opacity=\"1\" /><path clip-path=\"url(#clip550)\" d=\"M 0 0 M973.784 1453.37 L961.978 1471.81 L973.784 1471.81 L973.784 1453.37 M972.557 1449.29 L978.436 1449.29 L978.436 1471.81 L983.367 1471.81 L983.367 1475.7 L978.436 1475.7 L978.436 1483.85 L973.784 1483.85 L973.784 1475.7 L958.182 1475.7 L958.182 1471.19 L972.557 1449.29 Z\" fill=\"#000000\" fill-rule=\"evenodd\" fill-opacity=\"1\" /><path clip-path=\"url(#clip550)\" d=\"M 0 0 M1181.46 1449.29 L1199.82 1449.29 L1199.82 1453.23 L1185.75 1453.23 L1185.75 1461.7 Q1186.76 1461.35 1187.78 1461.19 Q1188.8 1461 1189.82 1461 Q1195.61 1461 1198.99 1464.18 Q1202.37 1467.35 1202.37 1472.76 Q1202.37 1478.34 1198.89 1481.44 Q1195.42 1484.52 1189.1 1484.52 Q1186.93 1484.52 1184.66 1484.15 Q1182.41 1483.78 1180.01 1483.04 L1180.01 1478.34 Q1182.09 1479.48 1184.31 1480.03 Q1186.53 1480.59 1189.01 1480.59 Q1193.01 1480.59 1195.35 1478.48 Q1197.69 1476.38 1197.69 1472.76 Q1197.69 1469.15 1195.35 1467.05 Q1193.01 1464.94 1189.01 1464.94 Q1187.14 1464.94 1185.26 1465.36 Q1183.41 1465.77 1181.46 1466.65 L1181.46 1449.29 Z\" fill=\"#000000\" fill-rule=\"evenodd\" fill-opacity=\"1\" /><path clip-path=\"url(#clip550)\" d=\"M 0 0 M1412 1464.71 Q1408.85 1464.71 1407 1466.86 Q1405.17 1469.01 1405.17 1472.76 Q1405.17 1476.49 1407 1478.67 Q1408.85 1480.82 1412 1480.82 Q1415.15 1480.82 1416.98 1478.67 Q1418.83 1476.49 1418.83 1472.76 Q1418.83 1469.01 1416.98 1466.86 Q1415.15 1464.71 1412 1464.71 M1421.29 1450.06 L1421.29 1454.31 Q1419.53 1453.48 1417.72 1453.04 Q1415.94 1452.6 1414.18 1452.6 Q1409.55 1452.6 1407.1 1455.73 Q1404.67 1458.85 1404.32 1465.17 Q1405.68 1463.16 1407.74 1462.09 Q1409.8 1461 1412.28 1461 Q1417.49 1461 1420.5 1464.18 Q1423.53 1467.32 1423.53 1472.76 Q1423.53 1478.09 1420.38 1481.31 Q1417.23 1484.52 1412 1484.52 Q1406.01 1484.52 1402.84 1479.94 Q1399.67 1475.33 1399.67 1466.61 Q1399.67 1458.41 1403.55 1453.55 Q1407.44 1448.67 1413.99 1448.67 Q1415.75 1448.67 1417.54 1449.01 Q1419.34 1449.36 1421.29 1450.06 Z\" fill=\"#000000\" fill-rule=\"evenodd\" fill-opacity=\"1\" /><path clip-path=\"url(#clip550)\" d=\"M 0 0 M1620.9 1449.29 L1643.12 1449.29 L1643.12 1451.28 L1630.57 1483.85 L1625.69 1483.85 L1637.5 1453.23 L1620.9 1453.23 L1620.9 1449.29 Z\" fill=\"#000000\" fill-rule=\"evenodd\" fill-opacity=\"1\" /><path clip-path=\"url(#clip550)\" d=\"M 0 0 M1852.42 1467.44 Q1849.09 1467.44 1847.17 1469.22 Q1845.27 1471 1845.27 1474.13 Q1845.27 1477.25 1847.17 1479.04 Q1849.09 1480.82 1852.42 1480.82 Q1855.75 1480.82 1857.68 1479.04 Q1859.6 1477.23 1859.6 1474.13 Q1859.6 1471 1857.68 1469.22 Q1855.78 1467.44 1852.42 1467.44 M1847.75 1465.45 Q1844.74 1464.71 1843.05 1462.65 Q1841.38 1460.59 1841.38 1457.63 Q1841.38 1453.48 1844.32 1451.07 Q1847.28 1448.67 1852.42 1448.67 Q1857.58 1448.67 1860.52 1451.07 Q1863.46 1453.48 1863.46 1457.63 Q1863.46 1460.59 1861.77 1462.65 Q1860.11 1464.71 1857.12 1465.45 Q1860.5 1466.24 1862.37 1468.53 Q1864.27 1470.82 1864.27 1474.13 Q1864.27 1479.15 1861.19 1481.84 Q1858.14 1484.52 1852.42 1484.52 Q1846.7 1484.52 1843.63 1481.84 Q1840.57 1479.15 1840.57 1474.13 Q1840.57 1470.82 1842.47 1468.53 Q1844.37 1466.24 1847.75 1465.45 M1846.03 1458.06 Q1846.03 1460.75 1847.7 1462.25 Q1849.39 1463.76 1852.42 1463.76 Q1855.43 1463.76 1857.12 1462.25 Q1858.83 1460.75 1858.83 1458.06 Q1858.83 1455.38 1857.12 1453.88 Q1855.43 1452.37 1852.42 1452.37 Q1849.39 1452.37 1847.7 1453.88 Q1846.03 1455.38 1846.03 1458.06 Z\" fill=\"#000000\" fill-rule=\"evenodd\" fill-opacity=\"1\" /><path clip-path=\"url(#clip550)\" d=\"M 0 0 M2063.13 1483.13 L2063.13 1478.88 Q2064.89 1479.71 2066.7 1480.15 Q2068.5 1480.59 2070.24 1480.59 Q2074.87 1480.59 2077.3 1477.49 Q2079.75 1474.36 2080.1 1468.02 Q2078.76 1470.01 2076.7 1471.07 Q2074.64 1472.14 2072.14 1472.14 Q2066.95 1472.14 2063.92 1469.01 Q2060.91 1465.87 2060.91 1460.43 Q2060.91 1455.1 2064.06 1451.88 Q2067.21 1448.67 2072.44 1448.67 Q2078.43 1448.67 2081.58 1453.27 Q2084.75 1457.86 2084.75 1466.61 Q2084.75 1474.78 2080.87 1479.66 Q2077 1484.52 2070.45 1484.52 Q2068.69 1484.52 2066.88 1484.18 Q2065.08 1483.83 2063.13 1483.13 M2072.44 1468.48 Q2075.59 1468.48 2077.42 1466.33 Q2079.27 1464.18 2079.27 1460.43 Q2079.27 1456.7 2077.42 1454.55 Q2075.59 1452.37 2072.44 1452.37 Q2069.29 1452.37 2067.44 1454.55 Q2065.61 1456.7 2065.61 1460.43 Q2065.61 1464.18 2067.44 1466.33 Q2069.29 1468.48 2072.44 1468.48 Z\" fill=\"#000000\" fill-rule=\"evenodd\" fill-opacity=\"1\" /><path clip-path=\"url(#clip550)\" d=\"M 0 0 M2267.93 1479.92 L2275.57 1479.92 L2275.57 1453.55 L2267.26 1455.22 L2267.26 1450.96 L2275.52 1449.29 L2280.2 1449.29 L2280.2 1479.92 L2287.84 1479.92 L2287.84 1483.85 L2267.93 1483.85 L2267.93 1479.92 Z\" fill=\"#000000\" fill-rule=\"evenodd\" fill-opacity=\"1\" /><path clip-path=\"url(#clip550)\" d=\"M 0 0 M2307.28 1452.37 Q2303.67 1452.37 2301.84 1455.94 Q2300.04 1459.48 2300.04 1466.61 Q2300.04 1473.71 2301.84 1477.28 Q2303.67 1480.82 2307.28 1480.82 Q2310.92 1480.82 2312.72 1477.28 Q2314.55 1473.71 2314.55 1466.61 Q2314.55 1459.48 2312.72 1455.94 Q2310.92 1452.37 2307.28 1452.37 M2307.28 1448.67 Q2313.09 1448.67 2316.15 1453.27 Q2319.23 1457.86 2319.23 1466.61 Q2319.23 1475.33 2316.15 1479.94 Q2313.09 1484.52 2307.28 1484.52 Q2301.47 1484.52 2298.4 1479.94 Q2295.34 1475.33 2295.34 1466.61 Q2295.34 1457.86 2298.4 1453.27 Q2301.47 1448.67 2307.28 1448.67 Z\" fill=\"#000000\" fill-rule=\"evenodd\" fill-opacity=\"1\" /><path clip-path=\"url(#clip550)\" d=\"M 0 0 M1037.12 1520.52 L1045.78 1520.52 L1066.85 1560.28 L1066.85 1520.52 L1073.09 1520.52 L1073.09 1568.04 L1064.43 1568.04 L1043.36 1528.29 L1043.36 1568.04 L1037.12 1568.04 L1037.12 1520.52 Z\" fill=\"#000000\" fill-rule=\"evenodd\" fill-opacity=\"1\" /><path clip-path=\"url(#clip550)\" d=\"M 0 0 M1085.02 1553.98 L1085.02 1532.4 L1090.88 1532.4 L1090.88 1553.75 Q1090.88 1558.81 1092.85 1561.36 Q1094.82 1563.87 1098.77 1563.87 Q1103.51 1563.87 1106.25 1560.85 Q1109.02 1557.83 1109.02 1552.61 L1109.02 1532.4 L1114.88 1532.4 L1114.88 1568.04 L1109.02 1568.04 L1109.02 1562.57 Q1106.89 1565.82 1104.06 1567.41 Q1101.25 1568.97 1097.53 1568.97 Q1091.39 1568.97 1088.2 1565.15 Q1085.02 1561.33 1085.02 1553.98 M1099.76 1531.54 L1099.76 1531.54 Z\" fill=\"#000000\" fill-rule=\"evenodd\" fill-opacity=\"1\" /><path clip-path=\"url(#clip550)\" d=\"M 0 0 M1154.69 1539.24 Q1156.89 1535.29 1159.95 1533.41 Q1163 1531.54 1167.14 1531.54 Q1172.71 1531.54 1175.73 1535.45 Q1178.76 1539.33 1178.76 1546.53 L1178.76 1568.04 L1172.87 1568.04 L1172.87 1546.72 Q1172.87 1541.59 1171.05 1539.11 Q1169.24 1536.63 1165.52 1536.63 Q1160.96 1536.63 1158.32 1539.65 Q1155.68 1542.68 1155.68 1547.9 L1155.68 1568.04 L1149.79 1568.04 L1149.79 1546.72 Q1149.79 1541.56 1147.98 1539.11 Q1146.16 1536.63 1142.38 1536.63 Q1137.89 1536.63 1135.25 1539.68 Q1132.61 1542.71 1132.61 1547.9 L1132.61 1568.04 L1126.72 1568.04 L1126.72 1532.4 L1132.61 1532.4 L1132.61 1537.93 Q1134.61 1534.66 1137.41 1533.1 Q1140.21 1531.54 1144.06 1531.54 Q1147.95 1531.54 1150.65 1533.51 Q1153.39 1535.48 1154.69 1539.24 Z\" fill=\"#000000\" fill-rule=\"evenodd\" fill-opacity=\"1\" /><path clip-path=\"url(#clip550)\" d=\"M 0 0 M1224.97 1536.5 Q1220.26 1536.5 1217.52 1540.19 Q1214.79 1543.85 1214.79 1550.25 Q1214.79 1556.65 1217.49 1560.34 Q1220.23 1564 1224.97 1564 Q1229.65 1564 1232.39 1560.31 Q1235.13 1556.62 1235.13 1550.25 Q1235.13 1543.92 1232.39 1540.23 Q1229.65 1536.5 1224.97 1536.5 M1224.97 1531.54 Q1232.61 1531.54 1236.97 1536.5 Q1241.33 1541.47 1241.33 1550.25 Q1241.33 1559 1236.97 1564 Q1232.61 1568.97 1224.97 1568.97 Q1217.3 1568.97 1212.94 1564 Q1208.61 1559 1208.61 1550.25 Q1208.61 1541.47 1212.94 1536.5 Q1217.3 1531.54 1224.97 1531.54 Z\" fill=\"#000000\" fill-rule=\"evenodd\" fill-opacity=\"1\" /><path clip-path=\"url(#clip550)\" d=\"M 0 0 M1269.09 1518.52 L1269.09 1523.39 L1263.48 1523.39 Q1260.33 1523.39 1259.09 1524.66 Q1257.88 1525.93 1257.88 1529.24 L1257.88 1532.4 L1267.53 1532.4 L1267.53 1536.95 L1257.88 1536.95 L1257.88 1568.04 L1251.99 1568.04 L1251.99 1536.95 L1246.39 1536.95 L1246.39 1532.4 L1251.99 1532.4 L1251.99 1529.91 Q1251.99 1523.96 1254.76 1521.26 Q1257.53 1518.52 1263.55 1518.52 L1269.09 1518.52 Z\" fill=\"#000000\" fill-rule=\"evenodd\" fill-opacity=\"1\" /><path clip-path=\"url(#clip550)\" d=\"M 0 0 M1294.96 1520.52 L1322.27 1520.52 L1322.27 1525.93 L1301.39 1525.93 L1301.39 1539.94 L1320.23 1539.94 L1320.23 1545.35 L1301.39 1545.35 L1301.39 1568.04 L1294.96 1568.04 L1294.96 1520.52 Z\" fill=\"#000000\" fill-rule=\"evenodd\" fill-opacity=\"1\" /><path clip-path=\"url(#clip550)\" d=\"M 0 0 M1359.13 1548.76 L1359.13 1551.62 L1332.2 1551.62 Q1332.58 1557.67 1335.83 1560.85 Q1339.11 1564 1344.93 1564 Q1348.31 1564 1351.46 1563.17 Q1354.64 1562.35 1357.76 1560.69 L1357.76 1566.23 Q1354.61 1567.57 1351.3 1568.27 Q1347.99 1568.97 1344.58 1568.97 Q1336.05 1568.97 1331.06 1564 Q1326.09 1559.04 1326.09 1550.57 Q1326.09 1541.82 1330.8 1536.69 Q1335.54 1531.54 1343.56 1531.54 Q1350.76 1531.54 1354.93 1536.18 Q1359.13 1540.8 1359.13 1548.76 M1353.27 1547.04 Q1353.21 1542.23 1350.57 1539.37 Q1347.96 1536.5 1343.63 1536.5 Q1338.73 1536.5 1335.77 1539.27 Q1332.84 1542.04 1332.39 1547.07 L1353.27 1547.04 Z\" fill=\"#000000\" fill-rule=\"evenodd\" fill-opacity=\"1\" /><path clip-path=\"url(#clip550)\" d=\"M 0 0 M1384.94 1550.12 Q1377.84 1550.12 1375.11 1551.75 Q1372.37 1553.37 1372.37 1557.29 Q1372.37 1560.4 1374.41 1562.25 Q1376.48 1564.07 1380.01 1564.07 Q1384.88 1564.07 1387.81 1560.63 Q1390.77 1557.16 1390.77 1551.43 L1390.77 1550.12 L1384.94 1550.12 M1396.62 1547.71 L1396.62 1568.04 L1390.77 1568.04 L1390.77 1562.63 Q1388.76 1565.88 1385.77 1567.44 Q1382.78 1568.97 1378.45 1568.97 Q1372.97 1568.97 1369.73 1565.91 Q1366.51 1562.82 1366.51 1557.67 Q1366.51 1551.65 1370.52 1548.6 Q1374.57 1545.54 1382.55 1545.54 L1390.77 1545.54 L1390.77 1544.97 Q1390.77 1540.93 1388.09 1538.73 Q1385.45 1536.5 1380.65 1536.5 Q1377.59 1536.5 1374.69 1537.23 Q1371.8 1537.97 1369.12 1539.43 L1369.12 1534.02 Q1372.34 1532.78 1375.36 1532.17 Q1378.39 1531.54 1381.25 1531.54 Q1388.98 1531.54 1392.8 1535.55 Q1396.62 1539.56 1396.62 1547.71 Z\" fill=\"#000000\" fill-rule=\"evenodd\" fill-opacity=\"1\" /><path clip-path=\"url(#clip550)\" d=\"M 0 0 M1414.48 1522.27 L1414.48 1532.4 L1426.54 1532.4 L1426.54 1536.95 L1414.48 1536.95 L1414.48 1556.3 Q1414.48 1560.66 1415.66 1561.9 Q1416.87 1563.14 1420.53 1563.14 L1426.54 1563.14 L1426.54 1568.04 L1420.53 1568.04 Q1413.75 1568.04 1411.17 1565.53 Q1408.59 1562.98 1408.59 1556.3 L1408.59 1536.95 L1404.29 1536.95 L1404.29 1532.4 L1408.59 1532.4 L1408.59 1522.27 L1414.48 1522.27 Z\" fill=\"#000000\" fill-rule=\"evenodd\" fill-opacity=\"1\" /><path clip-path=\"url(#clip550)\" d=\"M 0 0 M1433.64 1553.98 L1433.64 1532.4 L1439.5 1532.4 L1439.5 1553.75 Q1439.5 1558.81 1441.47 1561.36 Q1443.44 1563.87 1447.39 1563.87 Q1452.13 1563.87 1454.87 1560.85 Q1457.64 1557.83 1457.64 1552.61 L1457.64 1532.4 L1463.49 1532.4 L1463.49 1568.04 L1457.64 1568.04 L1457.64 1562.57 Q1455.51 1565.82 1452.67 1567.41 Q1449.87 1568.97 1446.15 1568.97 Q1440.01 1568.97 1436.82 1565.15 Q1433.64 1561.33 1433.64 1553.98 M1448.38 1531.54 L1448.38 1531.54 Z\" fill=\"#000000\" fill-rule=\"evenodd\" fill-opacity=\"1\" /><path clip-path=\"url(#clip550)\" d=\"M 0 0 M1496.21 1537.87 Q1495.23 1537.3 1494.05 1537.04 Q1492.9 1536.76 1491.5 1536.76 Q1486.54 1536.76 1483.87 1540 Q1481.22 1543.22 1481.22 1549.27 L1481.22 1568.04 L1475.33 1568.04 L1475.33 1532.4 L1481.22 1532.4 L1481.22 1537.93 Q1483.07 1534.69 1486.03 1533.13 Q1488.99 1531.54 1493.22 1531.54 Q1493.83 1531.54 1494.56 1531.63 Q1495.29 1531.7 1496.18 1531.85 L1496.21 1537.87 Z\" fill=\"#000000\" fill-rule=\"evenodd\" fill-opacity=\"1\" /><path clip-path=\"url(#clip550)\" d=\"M 0 0 M1531.42 1548.76 L1531.42 1551.62 L1504.49 1551.62 Q1504.87 1557.67 1508.12 1560.85 Q1511.4 1564 1517.22 1564 Q1520.6 1564 1523.75 1563.17 Q1526.93 1562.35 1530.05 1560.69 L1530.05 1566.23 Q1526.9 1567.57 1523.59 1568.27 Q1520.28 1568.97 1516.87 1568.97 Q1508.34 1568.97 1503.34 1564 Q1498.38 1559.04 1498.38 1550.57 Q1498.38 1541.82 1503.09 1536.69 Q1507.83 1531.54 1515.85 1531.54 Q1523.05 1531.54 1527.22 1536.18 Q1531.42 1540.8 1531.42 1548.76 M1525.56 1547.04 Q1525.5 1542.23 1522.85 1539.37 Q1520.25 1536.5 1515.92 1536.5 Q1511.01 1536.5 1508.05 1539.27 Q1505.13 1542.04 1504.68 1547.07 L1525.56 1547.04 Z\" fill=\"#000000\" fill-rule=\"evenodd\" fill-opacity=\"1\" /><path clip-path=\"url(#clip550)\" d=\"M 0 0 M1563.75 1533.45 L1563.75 1538.98 Q1561.27 1537.71 1558.6 1537.07 Q1555.92 1536.44 1553.06 1536.44 Q1548.7 1536.44 1546.5 1537.77 Q1544.34 1539.11 1544.34 1541.79 Q1544.34 1543.82 1545.9 1545 Q1547.46 1546.15 1552.17 1547.2 L1554.17 1547.64 Q1560.41 1548.98 1563.02 1551.43 Q1565.66 1553.85 1565.66 1558.21 Q1565.66 1563.17 1561.72 1566.07 Q1557.8 1568.97 1550.93 1568.97 Q1548.06 1568.97 1544.94 1568.39 Q1541.86 1567.85 1538.42 1566.74 L1538.42 1560.69 Q1541.67 1562.38 1544.82 1563.24 Q1547.97 1564.07 1551.06 1564.07 Q1555.19 1564.07 1557.42 1562.66 Q1559.65 1561.23 1559.65 1558.65 Q1559.65 1556.27 1558.03 1554.99 Q1556.43 1553.72 1550.99 1552.54 L1548.95 1552.07 Q1543.51 1550.92 1541.09 1548.56 Q1538.67 1546.18 1538.67 1542.04 Q1538.67 1537.01 1542.24 1534.27 Q1545.8 1531.54 1552.36 1531.54 Q1555.61 1531.54 1558.47 1532.01 Q1561.34 1532.49 1563.75 1533.45 Z\" fill=\"#000000\" fill-rule=\"evenodd\" fill-opacity=\"1\" /><polyline clip-path=\"url(#clip552)\" style=\"stroke:#000000; stroke-width:2; stroke-opacity:0.1; fill:none\" points=\"\n",
       "  250.028,1146.16 2352.76,1146.16 \n",
       "  \"/>\n",
       "<polyline clip-path=\"url(#clip552)\" style=\"stroke:#000000; stroke-width:2; stroke-opacity:0.1; fill:none\" points=\"\n",
       "  250.028,855.75 2352.76,855.75 \n",
       "  \"/>\n",
       "<polyline clip-path=\"url(#clip552)\" style=\"stroke:#000000; stroke-width:2; stroke-opacity:0.1; fill:none\" points=\"\n",
       "  250.028,565.336 2352.76,565.336 \n",
       "  \"/>\n",
       "<polyline clip-path=\"url(#clip552)\" style=\"stroke:#000000; stroke-width:2; stroke-opacity:0.1; fill:none\" points=\"\n",
       "  250.028,274.923 2352.76,274.923 \n",
       "  \"/>\n",
       "<polyline clip-path=\"url(#clip550)\" style=\"stroke:#000000; stroke-width:4; stroke-opacity:1; fill:none\" points=\"\n",
       "  250.028,1423.18 250.028,123.472 \n",
       "  \"/>\n",
       "<polyline clip-path=\"url(#clip550)\" style=\"stroke:#000000; stroke-width:4; stroke-opacity:1; fill:none\" points=\"\n",
       "  250.028,1146.16 275.261,1146.16 \n",
       "  \"/>\n",
       "<polyline clip-path=\"url(#clip550)\" style=\"stroke:#000000; stroke-width:4; stroke-opacity:1; fill:none\" points=\"\n",
       "  250.028,855.75 275.261,855.75 \n",
       "  \"/>\n",
       "<polyline clip-path=\"url(#clip550)\" style=\"stroke:#000000; stroke-width:4; stroke-opacity:1; fill:none\" points=\"\n",
       "  250.028,565.336 275.261,565.336 \n",
       "  \"/>\n",
       "<polyline clip-path=\"url(#clip550)\" style=\"stroke:#000000; stroke-width:4; stroke-opacity:1; fill:none\" points=\"\n",
       "  250.028,274.923 275.261,274.923 \n",
       "  \"/>\n",
       "<path clip-path=\"url(#clip550)\" d=\"M 0 0 M128.288 1131.96 Q124.677 1131.96 122.848 1135.53 Q121.043 1139.07 121.043 1146.2 Q121.043 1153.3 122.848 1156.87 Q124.677 1160.41 128.288 1160.41 Q131.922 1160.41 133.728 1156.87 Q135.556 1153.3 135.556 1146.2 Q135.556 1139.07 133.728 1135.53 Q131.922 1131.96 128.288 1131.96 M128.288 1128.26 Q134.098 1128.26 137.154 1132.86 Q140.232 1137.45 140.232 1146.2 Q140.232 1154.92 137.154 1159.53 Q134.098 1164.11 128.288 1164.11 Q122.478 1164.11 119.399 1159.53 Q116.343 1154.92 116.343 1146.2 Q116.343 1137.45 119.399 1132.86 Q122.478 1128.26 128.288 1128.26 Z\" fill=\"#000000\" fill-rule=\"evenodd\" fill-opacity=\"1\" /><path clip-path=\"url(#clip550)\" d=\"M 0 0 M148.45 1157.56 L153.334 1157.56 L153.334 1163.44 L148.45 1163.44 L148.45 1157.56 Z\" fill=\"#000000\" fill-rule=\"evenodd\" fill-opacity=\"1\" /><path clip-path=\"url(#clip550)\" d=\"M 0 0 M163.565 1128.88 L181.922 1128.88 L181.922 1132.82 L167.848 1132.82 L167.848 1141.29 Q168.866 1140.94 169.885 1140.78 Q170.903 1140.6 171.922 1140.6 Q177.709 1140.6 181.089 1143.77 Q184.468 1146.94 184.468 1152.36 Q184.468 1157.93 180.996 1161.04 Q177.524 1164.11 171.204 1164.11 Q169.028 1164.11 166.76 1163.74 Q164.515 1163.37 162.107 1162.63 L162.107 1157.93 Q164.19 1159.07 166.413 1159.62 Q168.635 1160.18 171.112 1160.18 Q175.116 1160.18 177.454 1158.07 Q179.792 1155.97 179.792 1152.36 Q179.792 1148.74 177.454 1146.64 Q175.116 1144.53 171.112 1144.53 Q169.237 1144.53 167.362 1144.95 Q165.51 1145.36 163.565 1146.24 L163.565 1128.88 Z\" fill=\"#000000\" fill-rule=\"evenodd\" fill-opacity=\"1\" /><path clip-path=\"url(#clip550)\" d=\"M 0 0 M197.709 1159.51 L214.028 1159.51 L214.028 1163.44 L192.084 1163.44 L192.084 1159.51 Q194.746 1156.75 199.329 1152.12 Q203.936 1147.47 205.116 1146.13 Q207.362 1143.61 208.241 1141.87 Q209.144 1140.11 209.144 1138.42 Q209.144 1135.67 207.199 1133.93 Q205.278 1132.19 202.176 1132.19 Q199.977 1132.19 197.524 1132.96 Q195.093 1133.72 192.315 1135.27 L192.315 1130.55 Q195.139 1129.42 197.593 1128.84 Q200.047 1128.26 202.084 1128.26 Q207.454 1128.26 210.649 1130.94 Q213.843 1133.63 213.843 1138.12 Q213.843 1140.25 213.033 1142.17 Q212.246 1144.07 210.139 1146.66 Q209.561 1147.33 206.459 1150.55 Q203.357 1153.74 197.709 1159.51 Z\" fill=\"#000000\" fill-rule=\"evenodd\" fill-opacity=\"1\" /><path clip-path=\"url(#clip550)\" d=\"M 0 0 M127.339 841.548 Q123.728 841.548 121.899 845.113 Q120.093 848.655 120.093 855.785 Q120.093 862.891 121.899 866.456 Q123.728 869.997 127.339 869.997 Q130.973 869.997 132.779 866.456 Q134.607 862.891 134.607 855.785 Q134.607 848.655 132.779 845.113 Q130.973 841.548 127.339 841.548 M127.339 837.845 Q133.149 837.845 136.204 842.451 Q139.283 847.035 139.283 855.785 Q139.283 864.511 136.204 869.118 Q133.149 873.701 127.339 873.701 Q121.529 873.701 118.45 869.118 Q115.394 864.511 115.394 855.785 Q115.394 847.035 118.45 842.451 Q121.529 837.845 127.339 837.845 Z\" fill=\"#000000\" fill-rule=\"evenodd\" fill-opacity=\"1\" /><path clip-path=\"url(#clip550)\" d=\"M 0 0 M147.501 867.15 L152.385 867.15 L152.385 873.03 L147.501 873.03 L147.501 867.15 Z\" fill=\"#000000\" fill-rule=\"evenodd\" fill-opacity=\"1\" /><path clip-path=\"url(#clip550)\" d=\"M 0 0 M162.616 838.47 L180.973 838.47 L180.973 842.405 L166.899 842.405 L166.899 850.877 Q167.917 850.53 168.936 850.368 Q169.954 850.183 170.973 850.183 Q176.76 850.183 180.139 853.354 Q183.519 856.525 183.519 861.942 Q183.519 867.521 180.047 870.622 Q176.575 873.701 170.255 873.701 Q168.079 873.701 165.811 873.331 Q163.565 872.96 161.158 872.22 L161.158 867.521 Q163.241 868.655 165.464 869.21 Q167.686 869.766 170.163 869.766 Q174.167 869.766 176.505 867.659 Q178.843 865.553 178.843 861.942 Q178.843 858.331 176.505 856.224 Q174.167 854.118 170.163 854.118 Q168.288 854.118 166.413 854.535 Q164.561 854.951 162.616 855.831 L162.616 838.47 Z\" fill=\"#000000\" fill-rule=\"evenodd\" fill-opacity=\"1\" /><path clip-path=\"url(#clip550)\" d=\"M 0 0 M206.899 854.396 Q210.255 855.113 212.13 857.382 Q214.028 859.65 214.028 862.984 Q214.028 868.099 210.51 870.9 Q206.991 873.701 200.51 873.701 Q198.334 873.701 196.019 873.261 Q193.727 872.845 191.274 871.988 L191.274 867.474 Q193.218 868.609 195.533 869.187 Q197.848 869.766 200.371 869.766 Q204.769 869.766 207.061 868.03 Q209.375 866.294 209.375 862.984 Q209.375 859.928 207.223 858.215 Q205.093 856.479 201.274 856.479 L197.246 856.479 L197.246 852.636 L201.459 852.636 Q204.908 852.636 206.737 851.271 Q208.565 849.882 208.565 847.289 Q208.565 844.627 206.667 843.215 Q204.792 841.78 201.274 841.78 Q199.352 841.78 197.153 842.197 Q194.954 842.613 192.315 843.493 L192.315 839.326 Q194.977 838.586 197.292 838.215 Q199.63 837.845 201.69 837.845 Q207.014 837.845 210.116 840.275 Q213.218 842.683 213.218 846.803 Q213.218 849.673 211.574 851.664 Q209.931 853.632 206.899 854.396 Z\" fill=\"#000000\" fill-rule=\"evenodd\" fill-opacity=\"1\" /><path clip-path=\"url(#clip550)\" d=\"M 0 0 M126.205 551.135 Q122.593 551.135 120.765 554.7 Q118.959 558.242 118.959 565.371 Q118.959 572.478 120.765 576.042 Q122.593 579.584 126.205 579.584 Q129.839 579.584 131.644 576.042 Q133.473 572.478 133.473 565.371 Q133.473 558.242 131.644 554.7 Q129.839 551.135 126.205 551.135 M126.205 547.431 Q132.015 547.431 135.07 552.038 Q138.149 556.621 138.149 565.371 Q138.149 574.098 135.07 578.704 Q132.015 583.288 126.205 583.288 Q120.394 583.288 117.316 578.704 Q114.26 574.098 114.26 565.371 Q114.26 556.621 117.316 552.038 Q120.394 547.431 126.205 547.431 Z\" fill=\"#000000\" fill-rule=\"evenodd\" fill-opacity=\"1\" /><path clip-path=\"url(#clip550)\" d=\"M 0 0 M146.366 576.737 L151.251 576.737 L151.251 582.616 L146.366 582.616 L146.366 576.737 Z\" fill=\"#000000\" fill-rule=\"evenodd\" fill-opacity=\"1\" /><path clip-path=\"url(#clip550)\" d=\"M 0 0 M161.482 548.056 L179.839 548.056 L179.839 551.992 L165.765 551.992 L165.765 560.464 Q166.783 560.117 167.802 559.955 Q168.82 559.769 169.839 559.769 Q175.626 559.769 179.005 562.941 Q182.385 566.112 182.385 571.529 Q182.385 577.107 178.913 580.209 Q175.44 583.288 169.121 583.288 Q166.945 583.288 164.677 582.917 Q162.431 582.547 160.024 581.806 L160.024 577.107 Q162.107 578.241 164.329 578.797 Q166.552 579.353 169.028 579.353 Q173.033 579.353 175.371 577.246 Q177.709 575.14 177.709 571.529 Q177.709 567.917 175.371 565.811 Q173.033 563.704 169.028 563.704 Q167.153 563.704 165.278 564.121 Q163.427 564.538 161.482 565.417 L161.482 548.056 Z\" fill=\"#000000\" fill-rule=\"evenodd\" fill-opacity=\"1\" /><path clip-path=\"url(#clip550)\" d=\"M 0 0 M204.445 552.13 L192.639 570.579 L204.445 570.579 L204.445 552.13 M203.218 548.056 L209.098 548.056 L209.098 570.579 L214.028 570.579 L214.028 574.468 L209.098 574.468 L209.098 582.616 L204.445 582.616 L204.445 574.468 L188.843 574.468 L188.843 569.954 L203.218 548.056 Z\" fill=\"#000000\" fill-rule=\"evenodd\" fill-opacity=\"1\" /><path clip-path=\"url(#clip550)\" d=\"M 0 0 M127.686 260.722 Q124.075 260.722 122.246 264.287 Q120.441 267.828 120.441 274.958 Q120.441 282.064 122.246 285.629 Q124.075 289.171 127.686 289.171 Q131.32 289.171 133.126 285.629 Q134.954 282.064 134.954 274.958 Q134.954 267.828 133.126 264.287 Q131.32 260.722 127.686 260.722 M127.686 257.018 Q133.496 257.018 136.552 261.625 Q139.63 266.208 139.63 274.958 Q139.63 283.685 136.552 288.291 Q133.496 292.874 127.686 292.874 Q121.876 292.874 118.797 288.291 Q115.742 283.685 115.742 274.958 Q115.742 266.208 118.797 261.625 Q121.876 257.018 127.686 257.018 Z\" fill=\"#000000\" fill-rule=\"evenodd\" fill-opacity=\"1\" /><path clip-path=\"url(#clip550)\" d=\"M 0 0 M147.848 286.323 L152.732 286.323 L152.732 292.203 L147.848 292.203 L147.848 286.323 Z\" fill=\"#000000\" fill-rule=\"evenodd\" fill-opacity=\"1\" /><path clip-path=\"url(#clip550)\" d=\"M 0 0 M162.964 257.643 L181.32 257.643 L181.32 261.578 L167.246 261.578 L167.246 270.05 Q168.264 269.703 169.283 269.541 Q170.302 269.356 171.32 269.356 Q177.107 269.356 180.487 272.527 Q183.866 275.699 183.866 281.115 Q183.866 286.694 180.394 289.796 Q176.922 292.874 170.602 292.874 Q168.427 292.874 166.158 292.504 Q163.913 292.134 161.505 291.393 L161.505 286.694 Q163.589 287.828 165.811 288.384 Q168.033 288.939 170.51 288.939 Q174.514 288.939 176.852 286.833 Q179.19 284.726 179.19 281.115 Q179.19 277.504 176.852 275.398 Q174.514 273.291 170.51 273.291 Q168.635 273.291 166.76 273.708 Q164.908 274.124 162.964 275.004 L162.964 257.643 Z\" fill=\"#000000\" fill-rule=\"evenodd\" fill-opacity=\"1\" /><path clip-path=\"url(#clip550)\" d=\"M 0 0 M193.125 257.643 L211.482 257.643 L211.482 261.578 L197.408 261.578 L197.408 270.05 Q198.426 269.703 199.445 269.541 Q200.463 269.356 201.482 269.356 Q207.269 269.356 210.649 272.527 Q214.028 275.699 214.028 281.115 Q214.028 286.694 210.556 289.796 Q207.084 292.874 200.764 292.874 Q198.588 292.874 196.32 292.504 Q194.075 292.134 191.667 291.393 L191.667 286.694 Q193.75 287.828 195.973 288.384 Q198.195 288.939 200.672 288.939 Q204.676 288.939 207.014 286.833 Q209.352 284.726 209.352 281.115 Q209.352 277.504 207.014 275.398 Q204.676 273.291 200.672 273.291 Q198.797 273.291 196.922 273.708 Q195.07 274.124 193.125 275.004 L193.125 257.643 Z\" fill=\"#000000\" fill-rule=\"evenodd\" fill-opacity=\"1\" /><path clip-path=\"url(#clip550)\" d=\"M 0 0 M16.4842 1007.73 L16.4842 967.528 L21.895 967.528 L21.895 984.397 L64.0042 984.397 L64.0042 990.858 L21.895 990.858 L21.895 1007.73 L16.4842 1007.73 Z\" fill=\"#000000\" fill-rule=\"evenodd\" fill-opacity=\"1\" /><path clip-path=\"url(#clip550)\" d=\"M 0 0 M32.4621 958.839 Q32.4621 963.549 36.1542 966.286 Q39.8145 969.024 46.212 969.024 Q52.6095 969.024 56.3017 966.318 Q59.9619 963.581 59.9619 958.839 Q59.9619 954.16 56.2698 951.423 Q52.5777 948.685 46.212 948.685 Q39.8781 948.685 36.186 951.423 Q32.4621 954.16 32.4621 958.839 M27.4968 958.839 Q27.4968 951.2 32.4621 946.839 Q37.4273 942.479 46.212 942.479 Q54.9649 942.479 59.9619 946.839 Q64.9272 951.2 64.9272 958.839 Q64.9272 966.509 59.9619 970.87 Q54.9649 975.198 46.212 975.198 Q37.4273 975.198 32.4621 970.87 Q27.4968 966.509 27.4968 958.839 Z\" fill=\"#000000\" fill-rule=\"evenodd\" fill-opacity=\"1\" /><path clip-path=\"url(#clip550)\" d=\"M 0 0 M18.2347 926.978 L28.3562 926.978 L28.3562 914.915 L32.9077 914.915 L32.9077 926.978 L52.2594 926.978 Q56.6199 926.978 57.8613 925.801 Q59.1026 924.591 59.1026 920.931 L59.1026 914.915 L64.0042 914.915 L64.0042 920.931 Q64.0042 927.71 61.4897 930.288 Q58.9434 932.867 52.2594 932.867 L32.9077 932.867 L32.9077 937.163 L28.3562 937.163 L28.3562 932.867 L18.2347 932.867 L18.2347 926.978 Z\" fill=\"#000000\" fill-rule=\"evenodd\" fill-opacity=\"1\" /><path clip-path=\"url(#clip550)\" d=\"M 0 0 M46.0847 891.012 Q46.0847 898.11 47.7079 900.847 Q49.3312 903.584 53.2461 903.584 Q56.3653 903.584 58.2114 901.547 Q60.0256 899.478 60.0256 895.945 Q60.0256 891.076 56.5881 888.147 Q53.1188 885.187 47.3897 885.187 L46.0847 885.187 L46.0847 891.012 M43.6657 879.331 L64.0042 879.331 L64.0042 885.187 L58.5933 885.187 Q61.8398 887.193 63.3994 890.184 Q64.9272 893.176 64.9272 897.505 Q64.9272 902.98 61.8716 906.226 Q58.7843 909.441 53.6281 909.441 Q47.6125 909.441 44.5569 905.43 Q41.5014 901.388 41.5014 893.399 L41.5014 885.187 L40.9285 885.187 Q36.8862 885.187 34.6901 887.861 Q32.4621 890.503 32.4621 895.309 Q32.4621 898.364 33.1941 901.261 Q33.9262 904.157 35.3903 906.831 L29.9795 906.831 Q28.7381 903.616 28.1334 900.592 Q27.4968 897.569 27.4968 894.704 Q27.4968 886.97 31.5072 883.15 Q35.5176 879.331 43.6657 879.331 Z\" fill=\"#000000\" fill-rule=\"evenodd\" fill-opacity=\"1\" /><path clip-path=\"url(#clip550)\" d=\"M 0 0 M14.479 867.268 L14.479 861.411 L64.0042 861.411 L64.0042 867.268 L14.479 867.268 Z\" fill=\"#000000\" fill-rule=\"evenodd\" fill-opacity=\"1\" /><path clip-path=\"url(#clip550)\" d=\"M 0 0 M22.818 812.3 L46.4666 821.021 L46.4666 803.547 L22.818 812.3 M16.4842 815.928 L16.4842 808.64 L64.0042 790.529 L64.0042 797.213 L51.8138 801.542 L51.8138 822.963 L64.0042 827.291 L64.0042 834.071 L16.4842 815.928 Z\" fill=\"#000000\" fill-rule=\"evenodd\" fill-opacity=\"1\" /><path clip-path=\"url(#clip550)\" d=\"M 0 0 M29.7248 759.337 L35.1993 759.337 Q33.8307 761.82 33.1623 764.334 Q32.4621 766.817 32.4621 769.363 Q32.4621 775.061 36.0905 778.212 Q39.6872 781.363 46.212 781.363 Q52.7369 781.363 56.3653 778.212 Q59.9619 775.061 59.9619 769.363 Q59.9619 766.817 59.2935 764.334 Q58.5933 761.82 57.2247 759.337 L62.6355 759.337 Q63.7814 761.788 64.3543 764.43 Q64.9272 767.04 64.9272 770 Q64.9272 778.053 59.8664 782.795 Q54.8057 787.537 46.212 787.537 Q37.491 787.537 32.4939 782.763 Q27.4968 777.957 27.4968 769.618 Q27.4968 766.913 28.0697 764.334 Q28.6108 761.756 29.7248 759.337 Z\" fill=\"#000000\" fill-rule=\"evenodd\" fill-opacity=\"1\" /><path clip-path=\"url(#clip550)\" d=\"M 0 0 M29.7248 723.498 L35.1993 723.498 Q33.8307 725.981 33.1623 728.495 Q32.4621 730.978 32.4621 733.524 Q32.4621 739.222 36.0905 742.373 Q39.6872 745.524 46.212 745.524 Q52.7369 745.524 56.3653 742.373 Q59.9619 739.222 59.9619 733.524 Q59.9619 730.978 59.2935 728.495 Q58.5933 725.981 57.2247 723.498 L62.6355 723.498 Q63.7814 725.949 64.3543 728.591 Q64.9272 731.201 64.9272 734.161 Q64.9272 742.214 59.8664 746.956 Q54.8057 751.698 46.212 751.698 Q37.491 751.698 32.4939 746.924 Q27.4968 742.118 27.4968 733.779 Q27.4968 731.074 28.0697 728.495 Q28.6108 725.917 29.7248 723.498 Z\" fill=\"#000000\" fill-rule=\"evenodd\" fill-opacity=\"1\" /><path clip-path=\"url(#clip550)\" d=\"M 0 0 M49.9359 713.918 L28.3562 713.918 L28.3562 708.062 L49.7131 708.062 Q54.7739 708.062 57.3202 706.088 Q59.8346 704.115 59.8346 700.168 Q59.8346 695.426 56.8109 692.688 Q53.7872 689.919 48.5673 689.919 L28.3562 689.919 L28.3562 684.063 L64.0042 684.063 L64.0042 689.919 L58.5296 689.919 Q61.7762 692.052 63.3676 694.885 Q64.9272 697.685 64.9272 701.409 Q64.9272 707.552 61.1078 710.735 Q57.2883 713.918 49.9359 713.918 M27.4968 699.181 L27.4968 699.181 Z\" fill=\"#000000\" fill-rule=\"evenodd\" fill-opacity=\"1\" /><path clip-path=\"url(#clip550)\" d=\"M 0 0 M33.8307 651.343 Q33.2578 652.33 33.0032 653.507 Q32.7167 654.653 32.7167 656.054 Q32.7167 661.019 35.9632 663.693 Q39.1779 666.334 45.2253 666.334 L64.0042 666.334 L64.0042 672.223 L28.3562 672.223 L28.3562 666.334 L33.8944 666.334 Q30.6479 664.488 29.0883 661.528 Q27.4968 658.568 27.4968 654.335 Q27.4968 653.73 27.5923 652.998 Q27.656 652.266 27.8151 651.375 L33.8307 651.343 Z\" fill=\"#000000\" fill-rule=\"evenodd\" fill-opacity=\"1\" /><path clip-path=\"url(#clip550)\" d=\"M 0 0 M46.0847 629 Q46.0847 636.097 47.7079 638.835 Q49.3312 641.572 53.2461 641.572 Q56.3653 641.572 58.2114 639.535 Q60.0256 637.466 60.0256 633.933 Q60.0256 629.063 56.5881 626.135 Q53.1188 623.175 47.3897 623.175 L46.0847 623.175 L46.0847 629 M43.6657 617.318 L64.0042 617.318 L64.0042 623.175 L58.5933 623.175 Q61.8398 625.18 63.3994 628.172 Q64.9272 631.164 64.9272 635.493 Q64.9272 640.967 61.8716 644.214 Q58.7843 647.428 53.6281 647.428 Q47.6125 647.428 44.5569 643.418 Q41.5014 639.376 41.5014 631.387 L41.5014 623.175 L40.9285 623.175 Q36.8862 623.175 34.6901 625.848 Q32.4621 628.49 32.4621 633.296 Q32.4621 636.352 33.1941 639.248 Q33.9262 642.145 35.3903 644.818 L29.9795 644.818 Q28.7381 641.604 28.1334 638.58 Q27.4968 635.556 27.4968 632.692 Q27.4968 624.957 31.5072 621.138 Q35.5176 617.318 43.6657 617.318 Z\" fill=\"#000000\" fill-rule=\"evenodd\" fill-opacity=\"1\" /><path clip-path=\"url(#clip550)\" d=\"M 0 0 M29.7248 579.602 L35.1993 579.602 Q33.8307 582.084 33.1623 584.599 Q32.4621 587.081 32.4621 589.628 Q32.4621 595.325 36.0905 598.476 Q39.6872 601.627 46.212 601.627 Q52.7369 601.627 56.3653 598.476 Q59.9619 595.325 59.9619 589.628 Q59.9619 587.081 59.2935 584.599 Q58.5933 582.084 57.2247 579.602 L62.6355 579.602 Q63.7814 582.052 64.3543 584.694 Q64.9272 587.304 64.9272 590.264 Q64.9272 598.317 59.8664 603.059 Q54.8057 607.802 46.212 607.802 Q37.491 607.802 32.4939 603.027 Q27.4968 598.221 27.4968 589.882 Q27.4968 587.177 28.0697 584.599 Q28.6108 582.021 29.7248 579.602 Z\" fill=\"#000000\" fill-rule=\"evenodd\" fill-opacity=\"1\" /><path clip-path=\"url(#clip550)\" d=\"M 0 0 M67.3143 554.584 Q73.68 557.067 75.6216 559.422 Q77.5631 561.778 77.5631 565.724 L77.5631 570.403 L72.6615 570.403 L72.6615 566.966 Q72.6615 564.547 71.5157 563.21 Q70.3699 561.873 66.1048 560.25 L63.4312 559.2 L28.3562 573.618 L28.3562 567.411 L56.238 556.271 L28.3562 545.131 L28.3562 538.925 L67.3143 554.584 Z\" fill=\"#000000\" fill-rule=\"evenodd\" fill-opacity=\"1\" /><path clip-path=\"url(#clip550)\" d=\"M 0 0 M633.438 12.096 L644.457 12.096 L671.274 62.6918 L671.274 12.096 L679.214 12.096 L679.214 72.576 L668.195 72.576 L641.378 21.9802 L641.378 72.576 L633.438 72.576 L633.438 12.096 Z\" fill=\"#000000\" fill-rule=\"evenodd\" fill-opacity=\"1\" /><path clip-path=\"url(#clip550)\" d=\"M 0 0 M694.405 54.671 L694.405 27.2059 L701.858 27.2059 L701.858 54.3874 Q701.858 60.8284 704.37 64.0691 Q706.881 67.2693 711.904 67.2693 Q717.94 67.2693 721.424 63.421 Q724.948 59.5726 724.948 52.9291 L724.948 27.2059 L732.402 27.2059 L732.402 72.576 L724.948 72.576 L724.948 65.6084 Q722.234 69.7404 718.629 71.7658 Q715.064 73.7508 710.325 73.7508 Q702.506 73.7508 698.455 68.8897 Q694.405 64.0286 694.405 54.671 M713.16 26.1121 L713.16 26.1121 Z\" fill=\"#000000\" fill-rule=\"evenodd\" fill-opacity=\"1\" /><path clip-path=\"url(#clip550)\" d=\"M 0 0 M783.079 35.9153 Q785.874 30.8922 789.763 28.5022 Q793.652 26.1121 798.918 26.1121 Q806.007 26.1121 809.855 31.0947 Q813.704 36.0368 813.704 45.1919 L813.704 72.576 L806.209 72.576 L806.209 45.4349 Q806.209 38.913 803.9 35.7533 Q801.591 32.5936 796.852 32.5936 Q791.059 32.5936 787.697 36.4419 Q784.335 40.2903 784.335 46.9338 L784.335 72.576 L776.84 72.576 L776.84 45.4349 Q776.84 38.8725 774.531 35.7533 Q772.222 32.5936 767.402 32.5936 Q761.69 32.5936 758.328 36.4824 Q754.966 40.3308 754.966 46.9338 L754.966 72.576 L747.471 72.576 L747.471 27.2059 L754.966 27.2059 L754.966 34.2544 Q757.518 30.082 761.082 28.0971 Q764.647 26.1121 769.549 26.1121 Q774.491 26.1121 777.934 28.6237 Q781.418 31.1352 783.079 35.9153 Z\" fill=\"#000000\" fill-rule=\"evenodd\" fill-opacity=\"1\" /><path clip-path=\"url(#clip550)\" d=\"M 0 0 M861.14 49.9314 Q861.14 41.7081 857.737 37.0496 Q854.375 32.3505 848.46 32.3505 Q842.546 32.3505 839.143 37.0496 Q835.781 41.7081 835.781 49.9314 Q835.781 58.1548 839.143 62.8538 Q842.546 67.5124 848.46 67.5124 Q854.375 67.5124 857.737 62.8538 Q861.14 58.1548 861.14 49.9314 M835.781 34.0924 Q838.131 30.0415 841.695 28.0971 Q845.301 26.1121 850.283 26.1121 Q858.547 26.1121 863.692 32.6746 Q868.877 39.2371 868.877 49.9314 Q868.877 60.6258 863.692 67.1883 Q858.547 73.7508 850.283 73.7508 Q845.301 73.7508 841.695 71.8063 Q838.131 69.8214 835.781 65.7705 L835.781 72.576 L828.287 72.576 L828.287 9.54393 L835.781 9.54393 L835.781 34.0924 Z\" fill=\"#000000\" fill-rule=\"evenodd\" fill-opacity=\"1\" /><path clip-path=\"url(#clip550)\" d=\"M 0 0 M920.04 48.0275 L920.04 51.6733 L885.769 51.6733 Q886.255 59.3701 890.387 63.421 Q894.56 67.4314 901.973 67.4314 Q906.267 67.4314 910.277 66.3781 Q914.328 65.3249 918.298 63.2184 L918.298 70.267 Q914.288 71.9684 910.075 72.8596 Q905.862 73.7508 901.527 73.7508 Q890.671 73.7508 884.311 67.4314 Q877.992 61.1119 877.992 50.3365 Q877.992 39.1965 883.987 32.6746 Q890.023 26.1121 900.231 26.1121 Q909.386 26.1121 914.693 32.0264 Q920.04 37.9003 920.04 48.0275 M912.586 45.84 Q912.505 39.7232 909.143 36.0774 Q905.821 32.4315 900.312 32.4315 Q894.074 32.4315 890.306 35.9558 Q886.579 39.4801 886.012 45.8805 L912.586 45.84 Z\" fill=\"#000000\" fill-rule=\"evenodd\" fill-opacity=\"1\" /><path clip-path=\"url(#clip550)\" d=\"M 0 0 M958.564 34.1734 Q957.308 33.4443 955.809 33.1202 Q954.351 32.7556 952.569 32.7556 Q946.249 32.7556 942.846 36.8875 Q939.484 40.9789 939.484 48.6757 L939.484 72.576 L931.99 72.576 L931.99 27.2059 L939.484 27.2059 L939.484 34.2544 Q941.834 30.1225 945.601 28.1376 Q949.368 26.1121 954.756 26.1121 Q955.526 26.1121 956.458 26.2337 Q957.389 26.3147 958.523 26.5172 L958.564 34.1734 Z\" fill=\"#000000\" fill-rule=\"evenodd\" fill-opacity=\"1\" /><path clip-path=\"url(#clip550)\" d=\"M 0 0 M1010.33 32.4315 Q1004.34 32.4315 1000.86 37.1306 Q997.372 41.7891 997.372 49.9314 Q997.372 58.0738 1000.81 62.7728 Q1004.3 67.4314 1010.33 67.4314 Q1016.29 67.4314 1019.77 62.7323 Q1023.26 58.0333 1023.26 49.9314 Q1023.26 41.8701 1019.77 37.1711 Q1016.29 32.4315 1010.33 32.4315 M1010.33 26.1121 Q1020.06 26.1121 1025.61 32.4315 Q1031.16 38.7509 1031.16 49.9314 Q1031.16 61.0714 1025.61 67.4314 Q1020.06 73.7508 1010.33 73.7508 Q1000.57 73.7508 995.022 67.4314 Q989.513 61.0714 989.513 49.9314 Q989.513 38.7509 995.022 32.4315 Q1000.57 26.1121 1010.33 26.1121 Z\" fill=\"#000000\" fill-rule=\"evenodd\" fill-opacity=\"1\" /><path clip-path=\"url(#clip550)\" d=\"M 0 0 M1066.48 9.54393 L1066.48 15.7418 L1059.35 15.7418 Q1055.34 15.7418 1053.76 17.3622 Q1052.22 18.9825 1052.22 23.1955 L1052.22 27.2059 L1064.5 27.2059 L1064.5 32.9987 L1052.22 32.9987 L1052.22 72.576 L1044.73 72.576 L1044.73 32.9987 L1037.6 32.9987 L1037.6 27.2059 L1044.73 27.2059 L1044.73 24.0462 Q1044.73 16.471 1048.25 13.0277 Q1051.78 9.54393 1059.43 9.54393 L1066.48 9.54393 Z\" fill=\"#000000\" fill-rule=\"evenodd\" fill-opacity=\"1\" /><path clip-path=\"url(#clip550)\" d=\"M 0 0 M1099.41 12.096 L1134.17 12.096 L1134.17 18.9825 L1107.6 18.9825 L1107.6 36.8065 L1131.58 36.8065 L1131.58 43.6931 L1107.6 43.6931 L1107.6 72.576 L1099.41 72.576 L1099.41 12.096 Z\" fill=\"#000000\" fill-rule=\"evenodd\" fill-opacity=\"1\" /><path clip-path=\"url(#clip550)\" d=\"M 0 0 M1181.08 48.0275 L1181.08 51.6733 L1146.81 51.6733 Q1147.3 59.3701 1151.43 63.421 Q1155.6 67.4314 1163.01 67.4314 Q1167.31 67.4314 1171.32 66.3781 Q1175.37 65.3249 1179.34 63.2184 L1179.34 70.267 Q1175.33 71.9684 1171.11 72.8596 Q1166.9 73.7508 1162.57 73.7508 Q1151.71 73.7508 1145.35 67.4314 Q1139.03 61.1119 1139.03 50.3365 Q1139.03 39.1965 1145.03 32.6746 Q1151.06 26.1121 1161.27 26.1121 Q1170.43 26.1121 1175.73 32.0264 Q1181.08 37.9003 1181.08 48.0275 M1173.63 45.84 Q1173.55 39.7232 1170.18 36.0774 Q1166.86 32.4315 1161.35 32.4315 Q1155.11 32.4315 1151.35 35.9558 Q1147.62 39.4801 1147.05 45.8805 L1173.63 45.84 Z\" fill=\"#000000\" fill-rule=\"evenodd\" fill-opacity=\"1\" /><path clip-path=\"url(#clip550)\" d=\"M 0 0 M1213.93 49.7694 Q1204.9 49.7694 1201.42 51.8354 Q1197.93 53.9013 1197.93 58.8839 Q1197.93 62.8538 1200.52 65.2034 Q1203.16 67.5124 1207.65 67.5124 Q1213.85 67.5124 1217.58 63.1374 Q1221.35 58.7219 1221.35 51.4303 L1221.35 49.7694 L1213.93 49.7694 M1228.8 46.6907 L1228.8 72.576 L1221.35 72.576 L1221.35 65.6895 Q1218.79 69.8214 1214.99 71.8063 Q1211.18 73.7508 1205.67 73.7508 Q1198.7 73.7508 1194.57 69.8619 Q1190.48 65.9325 1190.48 59.3701 Q1190.48 51.7138 1195.58 47.825 Q1200.73 43.9361 1210.89 43.9361 L1221.35 43.9361 L1221.35 43.2069 Q1221.35 38.0623 1217.94 35.2672 Q1214.58 32.4315 1208.46 32.4315 Q1204.58 32.4315 1200.89 33.3632 Q1197.2 34.295 1193.8 36.1584 L1193.8 29.2718 Q1197.89 27.692 1201.74 26.9223 Q1205.59 26.1121 1209.23 26.1121 Q1219.08 26.1121 1223.94 31.2163 Q1228.8 36.3204 1228.8 46.6907 Z\" fill=\"#000000\" fill-rule=\"evenodd\" fill-opacity=\"1\" /><path clip-path=\"url(#clip550)\" d=\"M 0 0 M1251.53 14.324 L1251.53 27.2059 L1266.88 27.2059 L1266.88 32.9987 L1251.53 32.9987 L1251.53 57.6282 Q1251.53 63.1779 1253.02 64.7578 Q1254.56 66.3376 1259.22 66.3376 L1266.88 66.3376 L1266.88 72.576 L1259.22 72.576 Q1250.59 72.576 1247.31 69.3758 Q1244.03 66.1351 1244.03 57.6282 L1244.03 32.9987 L1238.56 32.9987 L1238.56 27.2059 L1244.03 27.2059 L1244.03 14.324 L1251.53 14.324 Z\" fill=\"#000000\" fill-rule=\"evenodd\" fill-opacity=\"1\" /><path clip-path=\"url(#clip550)\" d=\"M 0 0 M1275.91 54.671 L1275.91 27.2059 L1283.37 27.2059 L1283.37 54.3874 Q1283.37 60.8284 1285.88 64.0691 Q1288.39 67.2693 1293.41 67.2693 Q1299.45 67.2693 1302.93 63.421 Q1306.46 59.5726 1306.46 52.9291 L1306.46 27.2059 L1313.91 27.2059 L1313.91 72.576 L1306.46 72.576 L1306.46 65.6084 Q1303.74 69.7404 1300.14 71.7658 Q1296.57 73.7508 1291.83 73.7508 Q1284.01 73.7508 1279.96 68.8897 Q1275.91 64.0286 1275.91 54.671 M1294.67 26.1121 L1294.67 26.1121 Z\" fill=\"#000000\" fill-rule=\"evenodd\" fill-opacity=\"1\" /><path clip-path=\"url(#clip550)\" d=\"M 0 0 M1355.55 34.1734 Q1354.3 33.4443 1352.8 33.1202 Q1351.34 32.7556 1349.56 32.7556 Q1343.24 32.7556 1339.84 36.8875 Q1336.47 40.9789 1336.47 48.6757 L1336.47 72.576 L1328.98 72.576 L1328.98 27.2059 L1336.47 27.2059 L1336.47 34.2544 Q1338.82 30.1225 1342.59 28.1376 Q1346.36 26.1121 1351.74 26.1121 Q1352.51 26.1121 1353.45 26.2337 Q1354.38 26.3147 1355.51 26.5172 L1355.55 34.1734 Z\" fill=\"#000000\" fill-rule=\"evenodd\" fill-opacity=\"1\" /><path clip-path=\"url(#clip550)\" d=\"M 0 0 M1400.36 48.0275 L1400.36 51.6733 L1366.08 51.6733 Q1366.57 59.3701 1370.7 63.421 Q1374.88 67.4314 1382.29 67.4314 Q1386.58 67.4314 1390.59 66.3781 Q1394.64 65.3249 1398.61 63.2184 L1398.61 70.267 Q1394.6 71.9684 1390.39 72.8596 Q1386.18 73.7508 1381.84 73.7508 Q1370.99 73.7508 1364.63 67.4314 Q1358.31 61.1119 1358.31 50.3365 Q1358.31 39.1965 1364.3 32.6746 Q1370.34 26.1121 1380.55 26.1121 Q1389.7 26.1121 1395.01 32.0264 Q1400.36 37.9003 1400.36 48.0275 M1392.9 45.84 Q1392.82 39.7232 1389.46 36.0774 Q1386.14 32.4315 1380.63 32.4315 Q1374.39 32.4315 1370.62 35.9558 Q1366.9 39.4801 1366.33 45.8805 L1392.9 45.84 Z\" fill=\"#000000\" fill-rule=\"evenodd\" fill-opacity=\"1\" /><path clip-path=\"url(#clip550)\" d=\"M 0 0 M1441.51 28.5427 L1441.51 35.5912 Q1438.35 33.9709 1434.95 33.1607 Q1431.55 32.3505 1427.9 32.3505 Q1422.35 32.3505 1419.56 34.0519 Q1416.8 35.7533 1416.8 39.156 Q1416.8 41.7486 1418.79 43.2475 Q1420.77 44.7058 1426.77 46.0426 L1429.32 46.6097 Q1437.26 48.3111 1440.58 51.4303 Q1443.94 54.509 1443.94 60.0587 Q1443.94 66.3781 1438.92 70.0644 Q1433.94 73.7508 1425.19 73.7508 Q1421.54 73.7508 1417.57 73.0216 Q1413.64 72.3329 1409.27 70.9151 L1409.27 63.2184 Q1413.4 65.3654 1417.41 66.4591 Q1421.42 67.5124 1425.35 67.5124 Q1430.62 67.5124 1433.45 65.73 Q1436.29 63.9071 1436.29 60.6258 Q1436.29 57.5877 1434.22 55.9673 Q1432.2 54.3469 1425.27 52.8481 L1422.68 52.2405 Q1415.75 50.7821 1412.67 47.7845 Q1409.59 44.7463 1409.59 39.4801 Q1409.59 33.0797 1414.13 29.5959 Q1418.67 26.1121 1427.01 26.1121 Q1431.14 26.1121 1434.79 26.7198 Q1438.43 27.3274 1441.51 28.5427 Z\" fill=\"#000000\" fill-rule=\"evenodd\" fill-opacity=\"1\" /><path clip-path=\"url(#clip550)\" d=\"M 0 0 M1476.84 27.2059 L1484.74 27.2059 L1498.91 65.2844 L1513.09 27.2059 L1520.99 27.2059 L1503.98 72.576 L1493.85 72.576 L1476.84 27.2059 Z\" fill=\"#000000\" fill-rule=\"evenodd\" fill-opacity=\"1\" /><path clip-path=\"url(#clip550)\" d=\"M 0 0 M1560.2 28.5427 L1560.2 35.5912 Q1557.04 33.9709 1553.64 33.1607 Q1550.24 32.3505 1546.59 32.3505 Q1541.04 32.3505 1538.25 34.0519 Q1535.49 35.7533 1535.49 39.156 Q1535.49 41.7486 1537.48 43.2475 Q1539.46 44.7058 1545.46 46.0426 L1548.01 46.6097 Q1555.95 48.3111 1559.27 51.4303 Q1562.63 54.509 1562.63 60.0587 Q1562.63 66.3781 1557.61 70.0644 Q1552.63 73.7508 1543.88 73.7508 Q1540.23 73.7508 1536.26 73.0216 Q1532.33 72.3329 1527.96 70.9151 L1527.96 63.2184 Q1532.09 65.3654 1536.1 66.4591 Q1540.11 67.5124 1544.04 67.5124 Q1549.31 67.5124 1552.14 65.73 Q1554.98 63.9071 1554.98 60.6258 Q1554.98 57.5877 1552.91 55.9673 Q1550.89 54.3469 1543.96 52.8481 L1541.37 52.2405 Q1534.44 50.7821 1531.36 47.7845 Q1528.28 44.7463 1528.28 39.4801 Q1528.28 33.0797 1532.82 29.5959 Q1537.36 26.1121 1545.7 26.1121 Q1549.83 26.1121 1553.48 26.7198 Q1557.13 27.3274 1560.2 28.5427 Z\" fill=\"#000000\" fill-rule=\"evenodd\" fill-opacity=\"1\" /><path clip-path=\"url(#clip550)\" d=\"M 0 0 M1621.41 20.1573 L1610.31 50.2555 L1632.55 50.2555 L1621.41 20.1573 M1616.8 12.096 L1626.07 12.096 L1649.12 72.576 L1640.61 72.576 L1635.11 57.061 L1607.84 57.061 L1602.33 72.576 L1593.71 72.576 L1616.8 12.096 Z\" fill=\"#000000\" fill-rule=\"evenodd\" fill-opacity=\"1\" /><path clip-path=\"url(#clip550)\" d=\"M 0 0 M1688.82 28.9478 L1688.82 35.9153 Q1685.66 34.1734 1682.46 33.3227 Q1679.3 32.4315 1676.06 32.4315 Q1668.81 32.4315 1664.8 37.0496 Q1660.79 41.6271 1660.79 49.9314 Q1660.79 58.2358 1664.8 62.8538 Q1668.81 67.4314 1676.06 67.4314 Q1679.3 67.4314 1682.46 66.5807 Q1685.66 65.6895 1688.82 63.9476 L1688.82 70.8341 Q1685.7 72.2924 1682.34 73.0216 Q1679.02 73.7508 1675.25 73.7508 Q1665 73.7508 1658.97 67.3098 Q1652.93 60.8689 1652.93 49.9314 Q1652.93 38.832 1659.01 32.472 Q1665.12 26.1121 1675.74 26.1121 Q1679.18 26.1121 1682.46 26.8413 Q1685.74 27.5299 1688.82 28.9478 Z\" fill=\"#000000\" fill-rule=\"evenodd\" fill-opacity=\"1\" /><path clip-path=\"url(#clip550)\" d=\"M 0 0 M1734.43 28.9478 L1734.43 35.9153 Q1731.27 34.1734 1728.07 33.3227 Q1724.91 32.4315 1721.67 32.4315 Q1714.42 32.4315 1710.41 37.0496 Q1706.4 41.6271 1706.4 49.9314 Q1706.4 58.2358 1710.41 62.8538 Q1714.42 67.4314 1721.67 67.4314 Q1724.91 67.4314 1728.07 66.5807 Q1731.27 65.6895 1734.43 63.9476 L1734.43 70.8341 Q1731.31 72.2924 1727.95 73.0216 Q1724.63 73.7508 1720.86 73.7508 Q1710.61 73.7508 1704.58 67.3098 Q1698.54 60.8689 1698.54 49.9314 Q1698.54 38.832 1704.62 32.472 Q1710.74 26.1121 1721.35 26.1121 Q1724.79 26.1121 1728.07 26.8413 Q1731.35 27.5299 1734.43 28.9478 Z\" fill=\"#000000\" fill-rule=\"evenodd\" fill-opacity=\"1\" /><path clip-path=\"url(#clip550)\" d=\"M 0 0 M1746.63 54.671 L1746.63 27.2059 L1754.08 27.2059 L1754.08 54.3874 Q1754.08 60.8284 1756.59 64.0691 Q1759.1 67.2693 1764.13 67.2693 Q1770.16 67.2693 1773.65 63.421 Q1777.17 59.5726 1777.17 52.9291 L1777.17 27.2059 L1784.62 27.2059 L1784.62 72.576 L1777.17 72.576 L1777.17 65.6084 Q1774.46 69.7404 1770.85 71.7658 Q1767.29 73.7508 1762.55 73.7508 Q1754.73 73.7508 1750.68 68.8897 Q1746.63 64.0286 1746.63 54.671 M1765.38 26.1121 L1765.38 26.1121 Z\" fill=\"#000000\" fill-rule=\"evenodd\" fill-opacity=\"1\" /><path clip-path=\"url(#clip550)\" d=\"M 0 0 M1826.27 34.1734 Q1825.01 33.4443 1823.51 33.1202 Q1822.05 32.7556 1820.27 32.7556 Q1813.95 32.7556 1810.55 36.8875 Q1807.19 40.9789 1807.19 48.6757 L1807.19 72.576 L1799.69 72.576 L1799.69 27.2059 L1807.19 27.2059 L1807.19 34.2544 Q1809.54 30.1225 1813.3 28.1376 Q1817.07 26.1121 1822.46 26.1121 Q1823.23 26.1121 1824.16 26.2337 Q1825.09 26.3147 1826.23 26.5172 L1826.27 34.1734 Z\" fill=\"#000000\" fill-rule=\"evenodd\" fill-opacity=\"1\" /><path clip-path=\"url(#clip550)\" d=\"M 0 0 M1854.71 49.7694 Q1845.67 49.7694 1842.19 51.8354 Q1838.7 53.9013 1838.7 58.8839 Q1838.7 62.8538 1841.3 65.2034 Q1843.93 67.5124 1848.43 67.5124 Q1854.62 67.5124 1858.35 63.1374 Q1862.12 58.7219 1862.12 51.4303 L1862.12 49.7694 L1854.71 49.7694 M1869.57 46.6907 L1869.57 72.576 L1862.12 72.576 L1862.12 65.6895 Q1859.57 69.8214 1855.76 71.8063 Q1851.95 73.7508 1846.44 73.7508 Q1839.47 73.7508 1835.34 69.8619 Q1831.25 65.9325 1831.25 59.3701 Q1831.25 51.7138 1836.35 47.825 Q1841.5 43.9361 1851.67 43.9361 L1862.12 43.9361 L1862.12 43.2069 Q1862.12 38.0623 1858.72 35.2672 Q1855.35 32.4315 1849.24 32.4315 Q1845.35 32.4315 1841.66 33.3632 Q1837.97 34.295 1834.57 36.1584 L1834.57 29.2718 Q1838.66 27.692 1842.51 26.9223 Q1846.36 26.1121 1850.01 26.1121 Q1859.85 26.1121 1864.71 31.2163 Q1869.57 36.3204 1869.57 46.6907 Z\" fill=\"#000000\" fill-rule=\"evenodd\" fill-opacity=\"1\" /><path clip-path=\"url(#clip550)\" d=\"M 0 0 M1917.58 28.9478 L1917.58 35.9153 Q1914.42 34.1734 1911.22 33.3227 Q1908.06 32.4315 1904.81 32.4315 Q1897.56 32.4315 1893.55 37.0496 Q1889.54 41.6271 1889.54 49.9314 Q1889.54 58.2358 1893.55 62.8538 Q1897.56 67.4314 1904.81 67.4314 Q1908.06 67.4314 1911.22 66.5807 Q1914.42 65.6895 1917.58 63.9476 L1917.58 70.8341 Q1914.46 72.2924 1911.09 73.0216 Q1907.77 73.7508 1904 73.7508 Q1893.76 73.7508 1887.72 67.3098 Q1881.68 60.8689 1881.68 49.9314 Q1881.68 38.832 1887.76 32.472 Q1893.88 26.1121 1904.49 26.1121 Q1907.93 26.1121 1911.22 26.8413 Q1914.5 27.5299 1917.58 28.9478 Z\" fill=\"#000000\" fill-rule=\"evenodd\" fill-opacity=\"1\" /><path clip-path=\"url(#clip550)\" d=\"M 0 0 M1949.42 76.7889 Q1946.26 84.8907 1943.26 87.3618 Q1940.26 89.8329 1935.24 89.8329 L1929.28 89.8329 L1929.28 83.5945 L1933.66 83.5945 Q1936.74 83.5945 1938.44 82.1361 Q1940.14 80.6778 1942.2 75.2496 L1943.54 71.8468 L1925.19 27.2059 L1933.09 27.2059 L1947.27 62.6918 L1961.45 27.2059 L1969.35 27.2059 L1949.42 76.7889 Z\" fill=\"#000000\" fill-rule=\"evenodd\" fill-opacity=\"1\" /><polyline clip-path=\"url(#clip552)\" style=\"stroke:#008000; stroke-width:16; stroke-opacity:1; fill:none\" points=\"\n",
       "  309.539,1182.04 529.951,1125.27 750.363,1386.4 970.774,898.211 1191.19,852.798 1411.6,637.088 1632.01,750.62 1852.42,160.256 2072.83,387.319 2293.24,830.092 \n",
       "  \n",
       "  \"/>\n",
       "</svg>\n"
      ]
     },
     "execution_count": 17,
     "metadata": {},
     "output_type": "execute_result"
    }
   ],
   "source": [
    "# Plotting the Accuracy as a function of the number of features\n",
    "acc_time = plot(value[:,1], value[:,3], title= \"Number of Features vs Accuracy\", legend = false, linecolor= :green, xticks = 0:1:10,  xlabel=\"Num of Features\", ylabel=\"Total Accuracy\", lw=4)"
   ]
  }
 ],
 "metadata": {
  "kernelspec": {
   "display_name": "Julia 1.5.3",
   "language": "julia",
   "name": "julia-1.5"
  },
  "language_info": {
   "file_extension": ".jl",
   "mimetype": "application/julia",
   "name": "julia",
   "version": "1.5.3"
  }
 },
 "nbformat": 4,
 "nbformat_minor": 4
}
