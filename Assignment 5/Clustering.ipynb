{
 "cells": [
  {
   "cell_type": "code",
   "execution_count": 1,
   "metadata": {},
   "outputs": [],
   "source": [
    "# If any of the Packages is missing, download them here\n",
    "# using Pkg\n",
    "# Pkg.add(\"CSV\")\n",
    "# Pkg.add(\"DataFrames\")\n",
    "# Pkg.add(\"Clustering\")\n",
    "# Pkg.add(\"GaussianMixtures\")\n",
    "# Pkg.add(\"Distances\")\n",
    "# Pkg.add(\"Statistics\")\n",
    "# Pkg.add(\"ScikitLearn\")"
   ]
  },
  {
   "cell_type": "code",
   "execution_count": 2,
   "metadata": {},
   "outputs": [],
   "source": [
    "using CSV, DataFrames, Clustering, GaussianMixtures, Distances, Statistics\n",
    "using ScikitLearn: @sk_import"
   ]
  },
  {
   "cell_type": "code",
   "execution_count": 3,
   "metadata": {
    "scrolled": true
   },
   "outputs": [
    {
     "data": {
      "text/html": [
       "<table class=\"data-frame\"><thead><tr><th></th><th>tumorsize</th><th>co2</th><th>pain</th><th>wound</th><th>mobility</th><th>ntumors</th><th>nmorphine</th><th>remission</th><th>lungcapacity</th></tr><tr><th></th><th>Float64</th><th>Float64</th><th>Int64</th><th>Int64</th><th>Int64</th><th>Int64</th><th>Int64</th><th>Int64</th><th>Float64</th></tr></thead><tbody><p>8,525 rows × 27 columns (omitted printing of 18 columns)</p><tr><th>1</th><td>67.9812</td><td>1.53433</td><td>4</td><td>4</td><td>2</td><td>0</td><td>0</td><td>0</td><td>0.801088</td></tr><tr><th>2</th><td>64.7025</td><td>1.67613</td><td>2</td><td>3</td><td>2</td><td>0</td><td>0</td><td>0</td><td>0.326444</td></tr><tr><th>3</th><td>51.567</td><td>1.53345</td><td>6</td><td>3</td><td>2</td><td>0</td><td>0</td><td>0</td><td>0.565031</td></tr><tr><th>4</th><td>86.438</td><td>1.4533</td><td>3</td><td>3</td><td>2</td><td>0</td><td>0</td><td>0</td><td>0.848411</td></tr><tr><th>5</th><td>53.4002</td><td>1.56635</td><td>3</td><td>4</td><td>2</td><td>0</td><td>0</td><td>0</td><td>0.886491</td></tr><tr><th>6</th><td>51.6573</td><td>1.41787</td><td>4</td><td>5</td><td>2</td><td>0</td><td>0</td><td>0</td><td>0.701031</td></tr><tr><th>7</th><td>78.9171</td><td>1.70663</td><td>3</td><td>4</td><td>2</td><td>0</td><td>0</td><td>0</td><td>0.890854</td></tr><tr><th>8</th><td>69.8332</td><td>1.52873</td><td>3</td><td>3</td><td>3</td><td>0</td><td>0</td><td>0</td><td>0.66088</td></tr><tr><th>9</th><td>62.8526</td><td>1.54296</td><td>4</td><td>4</td><td>3</td><td>2</td><td>0</td><td>0</td><td>0.908871</td></tr><tr><th>10</th><td>71.7779</td><td>1.59306</td><td>5</td><td>4</td><td>3</td><td>0</td><td>0</td><td>0</td><td>0.959327</td></tr><tr><th>11</th><td>66.0256</td><td>1.60936</td><td>4</td><td>3</td><td>3</td><td>0</td><td>0</td><td>0</td><td>0.768215</td></tr><tr><th>12</th><td>57.5208</td><td>1.6344</td><td>4</td><td>3</td><td>3</td><td>0</td><td>0</td><td>0</td><td>0.488333</td></tr><tr><th>13</th><td>48.8394</td><td>1.53568</td><td>5</td><td>3</td><td>3</td><td>0</td><td>0</td><td>0</td><td>0.873921</td></tr><tr><th>14</th><td>67.2588</td><td>1.4896</td><td>3</td><td>3</td><td>2</td><td>0</td><td>0</td><td>0</td><td>0.707038</td></tr><tr><th>15</th><td>66.8071</td><td>1.52414</td><td>4</td><td>3</td><td>1</td><td>6</td><td>4</td><td>0</td><td>0.891166</td></tr><tr><th>16</th><td>73.8678</td><td>1.62979</td><td>3</td><td>4</td><td>1</td><td>0</td><td>0</td><td>0</td><td>0.604558</td></tr><tr><th>17</th><td>74.4426</td><td>1.74089</td><td>2</td><td>3</td><td>2</td><td>5</td><td>0</td><td>0</td><td>0.979005</td></tr><tr><th>18</th><td>79.7899</td><td>1.68875</td><td>6</td><td>4</td><td>2</td><td>0</td><td>0</td><td>0</td><td>0.58833</td></tr><tr><th>19</th><td>93.6763</td><td>1.71278</td><td>5</td><td>4</td><td>3</td><td>2</td><td>1</td><td>0</td><td>0.800185</td></tr><tr><th>20</th><td>58.2765</td><td>1.46615</td><td>7</td><td>3</td><td>2</td><td>0</td><td>0</td><td>0</td><td>0.900713</td></tr><tr><th>21</th><td>63.1962</td><td>1.51348</td><td>6</td><td>3</td><td>3</td><td>0</td><td>0</td><td>0</td><td>0.477993</td></tr><tr><th>22</th><td>57.5758</td><td>1.58642</td><td>3</td><td>3</td><td>1</td><td>2</td><td>0</td><td>0</td><td>0.616175</td></tr><tr><th>23</th><td>51.7235</td><td>1.49534</td><td>5</td><td>4</td><td>2</td><td>0</td><td>0</td><td>0</td><td>0.71411</td></tr><tr><th>24</th><td>63.6105</td><td>1.63116</td><td>1</td><td>3</td><td>2</td><td>0</td><td>0</td><td>0</td><td>0.667079</td></tr><tr><th>25</th><td>70.3155</td><td>1.59554</td><td>5</td><td>3</td><td>3</td><td>3</td><td>0</td><td>0</td><td>0.900029</td></tr><tr><th>26</th><td>78.9307</td><td>1.79946</td><td>3</td><td>4</td><td>2</td><td>2</td><td>0</td><td>0</td><td>0.670813</td></tr><tr><th>27</th><td>58.7022</td><td>1.53565</td><td>4</td><td>5</td><td>3</td><td>0</td><td>0</td><td>0</td><td>0.935679</td></tr><tr><th>28</th><td>66.4073</td><td>1.54085</td><td>4</td><td>3</td><td>3</td><td>0</td><td>0</td><td>0</td><td>0.298891</td></tr><tr><th>29</th><td>72.5715</td><td>1.59799</td><td>6</td><td>8</td><td>6</td><td>0</td><td>9</td><td>0</td><td>0.648699</td></tr><tr><th>30</th><td>52.9476</td><td>1.48219</td><td>5</td><td>7</td><td>5</td><td>1</td><td>3</td><td>0</td><td>0.70754</td></tr><tr><th>&vellip;</th><td>&vellip;</td><td>&vellip;</td><td>&vellip;</td><td>&vellip;</td><td>&vellip;</td><td>&vellip;</td><td>&vellip;</td><td>&vellip;</td><td>&vellip;</td></tr></tbody></table>"
      ],
      "text/latex": [
       "\\begin{tabular}{r|cccccccccc}\n",
       "\t& tumorsize & co2 & pain & wound & mobility & ntumors & nmorphine & remission & lungcapacity & \\\\\n",
       "\t\\hline\n",
       "\t& Float64 & Float64 & Int64 & Int64 & Int64 & Int64 & Int64 & Int64 & Float64 & \\\\\n",
       "\t\\hline\n",
       "\t1 & 67.9812 & 1.53433 & 4 & 4 & 2 & 0 & 0 & 0 & 0.801088 & $\\dots$ \\\\\n",
       "\t2 & 64.7025 & 1.67613 & 2 & 3 & 2 & 0 & 0 & 0 & 0.326444 & $\\dots$ \\\\\n",
       "\t3 & 51.567 & 1.53345 & 6 & 3 & 2 & 0 & 0 & 0 & 0.565031 & $\\dots$ \\\\\n",
       "\t4 & 86.438 & 1.4533 & 3 & 3 & 2 & 0 & 0 & 0 & 0.848411 & $\\dots$ \\\\\n",
       "\t5 & 53.4002 & 1.56635 & 3 & 4 & 2 & 0 & 0 & 0 & 0.886491 & $\\dots$ \\\\\n",
       "\t6 & 51.6573 & 1.41787 & 4 & 5 & 2 & 0 & 0 & 0 & 0.701031 & $\\dots$ \\\\\n",
       "\t7 & 78.9171 & 1.70663 & 3 & 4 & 2 & 0 & 0 & 0 & 0.890854 & $\\dots$ \\\\\n",
       "\t8 & 69.8332 & 1.52873 & 3 & 3 & 3 & 0 & 0 & 0 & 0.66088 & $\\dots$ \\\\\n",
       "\t9 & 62.8526 & 1.54296 & 4 & 4 & 3 & 2 & 0 & 0 & 0.908871 & $\\dots$ \\\\\n",
       "\t10 & 71.7779 & 1.59306 & 5 & 4 & 3 & 0 & 0 & 0 & 0.959327 & $\\dots$ \\\\\n",
       "\t11 & 66.0256 & 1.60936 & 4 & 3 & 3 & 0 & 0 & 0 & 0.768215 & $\\dots$ \\\\\n",
       "\t12 & 57.5208 & 1.6344 & 4 & 3 & 3 & 0 & 0 & 0 & 0.488333 & $\\dots$ \\\\\n",
       "\t13 & 48.8394 & 1.53568 & 5 & 3 & 3 & 0 & 0 & 0 & 0.873921 & $\\dots$ \\\\\n",
       "\t14 & 67.2588 & 1.4896 & 3 & 3 & 2 & 0 & 0 & 0 & 0.707038 & $\\dots$ \\\\\n",
       "\t15 & 66.8071 & 1.52414 & 4 & 3 & 1 & 6 & 4 & 0 & 0.891166 & $\\dots$ \\\\\n",
       "\t16 & 73.8678 & 1.62979 & 3 & 4 & 1 & 0 & 0 & 0 & 0.604558 & $\\dots$ \\\\\n",
       "\t17 & 74.4426 & 1.74089 & 2 & 3 & 2 & 5 & 0 & 0 & 0.979005 & $\\dots$ \\\\\n",
       "\t18 & 79.7899 & 1.68875 & 6 & 4 & 2 & 0 & 0 & 0 & 0.58833 & $\\dots$ \\\\\n",
       "\t19 & 93.6763 & 1.71278 & 5 & 4 & 3 & 2 & 1 & 0 & 0.800185 & $\\dots$ \\\\\n",
       "\t20 & 58.2765 & 1.46615 & 7 & 3 & 2 & 0 & 0 & 0 & 0.900713 & $\\dots$ \\\\\n",
       "\t21 & 63.1962 & 1.51348 & 6 & 3 & 3 & 0 & 0 & 0 & 0.477993 & $\\dots$ \\\\\n",
       "\t22 & 57.5758 & 1.58642 & 3 & 3 & 1 & 2 & 0 & 0 & 0.616175 & $\\dots$ \\\\\n",
       "\t23 & 51.7235 & 1.49534 & 5 & 4 & 2 & 0 & 0 & 0 & 0.71411 & $\\dots$ \\\\\n",
       "\t24 & 63.6105 & 1.63116 & 1 & 3 & 2 & 0 & 0 & 0 & 0.667079 & $\\dots$ \\\\\n",
       "\t25 & 70.3155 & 1.59554 & 5 & 3 & 3 & 3 & 0 & 0 & 0.900029 & $\\dots$ \\\\\n",
       "\t26 & 78.9307 & 1.79946 & 3 & 4 & 2 & 2 & 0 & 0 & 0.670813 & $\\dots$ \\\\\n",
       "\t27 & 58.7022 & 1.53565 & 4 & 5 & 3 & 0 & 0 & 0 & 0.935679 & $\\dots$ \\\\\n",
       "\t28 & 66.4073 & 1.54085 & 4 & 3 & 3 & 0 & 0 & 0 & 0.298891 & $\\dots$ \\\\\n",
       "\t29 & 72.5715 & 1.59799 & 6 & 8 & 6 & 0 & 9 & 0 & 0.648699 & $\\dots$ \\\\\n",
       "\t30 & 52.9476 & 1.48219 & 5 & 7 & 5 & 1 & 3 & 0 & 0.70754 & $\\dots$ \\\\\n",
       "\t$\\dots$ & $\\dots$ & $\\dots$ & $\\dots$ & $\\dots$ & $\\dots$ & $\\dots$ & $\\dots$ & $\\dots$ & $\\dots$ &  \\\\\n",
       "\\end{tabular}\n"
      ],
      "text/plain": [
       "\u001b[1m8525×27 DataFrame\u001b[0m\n",
       "\u001b[1m  Row \u001b[0m│\u001b[1m tumorsize \u001b[0m\u001b[1m co2     \u001b[0m\u001b[1m pain  \u001b[0m\u001b[1m wound \u001b[0m\u001b[1m mobility \u001b[0m\u001b[1m ntumors \u001b[0m\u001b[1m nmorphine \u001b[0m\u001b[1m remiss\u001b[0m ⋯\n",
       "\u001b[1m      \u001b[0m│\u001b[90m Float64   \u001b[0m\u001b[90m Float64 \u001b[0m\u001b[90m Int64 \u001b[0m\u001b[90m Int64 \u001b[0m\u001b[90m Int64    \u001b[0m\u001b[90m Int64   \u001b[0m\u001b[90m Int64     \u001b[0m\u001b[90m Int64 \u001b[0m ⋯\n",
       "──────┼─────────────────────────────────────────────────────────────────────────\n",
       "    1 │   67.9812  1.53433      4      4         2        0          0         ⋯\n",
       "    2 │   64.7025  1.67613      2      3         2        0          0\n",
       "    3 │   51.567   1.53345      6      3         2        0          0\n",
       "    4 │   86.438   1.4533       3      3         2        0          0\n",
       "    5 │   53.4002  1.56635      3      4         2        0          0         ⋯\n",
       "    6 │   51.6573  1.41787      4      5         2        0          0\n",
       "    7 │   78.9171  1.70663      3      4         2        0          0\n",
       "    8 │   69.8332  1.52873      3      3         3        0          0\n",
       "    9 │   62.8526  1.54296      4      4         3        2          0         ⋯\n",
       "   10 │   71.7779  1.59306      5      4         3        0          0\n",
       "   11 │   66.0256  1.60936      4      3         3        0          0\n",
       "  ⋮   │     ⋮         ⋮       ⋮      ⋮       ⋮         ⋮         ⋮          ⋮  ⋱\n",
       " 8516 │   72.1299  1.54957      6      6         3        0          1\n",
       " 8517 │   80.6805  1.76155      5      6         3        0          1         ⋯\n",
       " 8518 │   74.1363  1.59926      5      6         3        7          5\n",
       " 8519 │   70.073   1.47649      6      5         3        4          2\n",
       " 8520 │   82.6019  1.77649      7      6         1        1          2\n",
       " 8521 │   71.2625  1.44567      4      7         4        4          0         ⋯\n",
       " 8522 │   79.9304  1.84224      4      6         2        2          5\n",
       " 8523 │   67.098   1.51245      5      6         4        0          4\n",
       " 8524 │   66.3834  1.61859      7      5         3        3          2\n",
       " 8525 │   65.9232  1.58751      4      5         3        1          2         ⋯\n",
       "\u001b[36m                                                20 columns and 8504 rows omitted\u001b[0m"
      ]
     },
     "execution_count": 3,
     "metadata": {},
     "output_type": "execute_result"
    }
   ],
   "source": [
    "# Load the DataSet\n",
    "file = CSV.File(\"01_hdp.csv\") |> DataFrame"
   ]
  },
  {
   "cell_type": "code",
   "execution_count": 4,
   "metadata": {},
   "outputs": [
    {
     "data": {
      "text/plain": [
       "PyObject LabelEncoder()"
      ]
     },
     "execution_count": 4,
     "metadata": {},
     "output_type": "execute_result"
    }
   ],
   "source": [
    "# Preparing the Encoder\n",
    "@sk_import preprocessing : LabelEncoder\n",
    "enc = LabelEncoder()"
   ]
  },
  {
   "cell_type": "code",
   "execution_count": 5,
   "metadata": {},
   "outputs": [
    {
     "data": {
      "text/plain": [
       "8525-element Array{Int64,1}:\n",
       " 0\n",
       " 0\n",
       " 0\n",
       " 0\n",
       " 0\n",
       " 0\n",
       " 0\n",
       " 0\n",
       " 0\n",
       " 0\n",
       " 0\n",
       " 0\n",
       " 0\n",
       " ⋮\n",
       " 0\n",
       " 0\n",
       " 0\n",
       " 0\n",
       " 0\n",
       " 0\n",
       " 0\n",
       " 0\n",
       " 0\n",
       " 0\n",
       " 0\n",
       " 0"
      ]
     },
     "execution_count": 5,
     "metadata": {},
     "output_type": "execute_result"
    }
   ],
   "source": [
    "# Encoding all categorical columns\n",
    "file[!,\"FamilyHx\"] .= enc.fit_transform(file[!,\"FamilyHx\"])\n",
    "file[!,\"SmokingHx\"] .= enc.fit_transform(file[!,\"SmokingHx\"])\n",
    "file[!,\"Sex\"] .= enc.fit_transform(file[!,\"Sex\"])\n",
    "file[!,\"CancerStage\"] .= enc.fit_transform(file[!,\"CancerStage\"])\n",
    "file[!,\"School\"] .= enc.fit_transform(file[!,\"School\"])"
   ]
  },
  {
   "cell_type": "code",
   "execution_count": 6,
   "metadata": {},
   "outputs": [],
   "source": [
    "# Normalizing the columns, dividing all the rows by its maximun value\n",
    "for i=1:size(file)[2]\n",
    "    file[!,i] = file[!,i] ./ findmax(file[!,i])[1]\n",
    "end"
   ]
  },
  {
   "cell_type": "code",
   "execution_count": 7,
   "metadata": {},
   "outputs": [
    {
     "data": {
      "text/plain": [
       "8525×27 Array{Float64,2}:\n",
       " 0.58374   0.720983  0.444444  …  0.0  0.333333  0.0285714  0.740008\n",
       " 0.555587  0.787615  0.222222     0.0  0.333333  0.0285714  0.740008\n",
       " 0.442795  0.720566  0.666667     0.0  0.333333  0.0285714  0.740008\n",
       " 0.742225  0.682906  0.333333     0.0  0.333333  0.0285714  0.740008\n",
       " 0.458536  0.736027  0.333333     0.0  0.333333  0.0285714  0.740008\n",
       " 0.44357   0.666256  0.444444  …  0.0  0.333333  0.0285714  0.740008\n",
       " 0.677645  0.801947  0.333333     0.0  0.333333  0.0285714  0.740008\n",
       " 0.599644  0.718348  0.333333     0.0  0.333333  0.0285714  0.740008\n",
       " 0.539702  0.725038  0.444444     0.0  0.333333  0.0285714  0.740008\n",
       " 0.616342  0.748581  0.555556     0.0  0.333333  0.0285714  0.740008\n",
       " 0.566948  0.75624   0.444444  …  0.0  0.333333  0.0285714  0.740008\n",
       " 0.493919  0.768006  0.444444     0.0  0.333333  0.0285714  0.740008\n",
       " 0.419374  0.721614  0.555556     0.0  0.333333  0.0285714  0.740008\n",
       " ⋮                             ⋱                 ⋮          \n",
       " 0.659156  0.711895  0.555556     0.0  0.444444  1.0        0.418781\n",
       " 0.60893   0.689804  0.666667     0.0  0.444444  1.0        0.418781\n",
       " 0.619364  0.728145  0.666667  …  0.0  0.444444  1.0        0.418781\n",
       " 0.692787  0.827754  0.555556     0.0  0.444444  1.0        0.418781\n",
       " 0.636593  0.751492  0.555556     0.0  0.444444  1.0        0.418781\n",
       " 0.601702  0.693801  0.666667     0.0  0.444444  1.0        0.418781\n",
       " 0.709286  0.834775  0.777778     0.0  0.444444  1.0        0.418781\n",
       " 0.611916  0.67932   0.444444  …  0.0  0.444444  1.0        0.418781\n",
       " 0.686346  0.865668  0.444444     0.0  0.444444  1.0        0.418781\n",
       " 0.576157  0.710698  0.555556     0.0  0.444444  1.0        0.418781\n",
       " 0.570021  0.760575  0.777778     0.0  0.444444  1.0        0.418781\n",
       " 0.566069  0.745971  0.444444     0.0  0.444444  1.0        0.418781"
      ]
     },
     "execution_count": 7,
     "metadata": {},
     "output_type": "execute_result"
    }
   ],
   "source": [
    "# transforming dataframe to array\n",
    "file = convert(Array, file)"
   ]
  },
  {
   "cell_type": "code",
   "execution_count": 8,
   "metadata": {
    "scrolled": true
   },
   "outputs": [
    {
     "data": {
      "text/plain": [
       "8525×8525 Array{Float64,2}:\n",
       " 0.0       1.18056   1.62335   0.580707  …  2.07547  2.27387  1.854\n",
       " 1.18056   0.0       1.33318   1.22982      1.92066  2.19072  2.19346\n",
       " 1.62335   1.33318   0.0       1.70824      2.22262  2.27824  2.35196\n",
       " 0.580707  1.22982   1.70824   0.0          2.13501  2.4488   1.90259\n",
       " 0.641326  1.27128   1.55991   0.709556     2.14618  2.23717  1.77964\n",
       " 1.22838   1.62857   1.23331   1.20754   …  2.3694   2.56994  2.07698\n",
       " 1.53458   1.32139   1.26001   1.58008      2.1426   2.47601  2.49828\n",
       " 0.58301   1.13888   1.63696   0.660828     2.11593  2.33068  1.91716\n",
       " 1.46354   1.89831   1.61994   1.53988      2.53327  2.66027  2.32604\n",
       " 0.668771  1.3693    1.55261   0.813461     2.13833  2.19403  1.799\n",
       " 1.24171   0.820086  1.54915   1.16264   …  1.91983  2.36086  2.30813\n",
       " 1.12442   0.404464  1.26319   1.20855      1.84321  2.09569  2.16271\n",
       " 1.54179   1.32493   0.627768  1.62607      2.1276   2.21834  2.29272\n",
       " ⋮                                       ⋱                    \n",
       " 1.91553   2.26285   2.40073   2.05244      1.26768  1.1236   0.490003\n",
       " 1.84514   2.19276   2.43649   1.86898      1.14396  1.64714  0.852822\n",
       " 2.1321    2.43873   2.11472   2.17152   …  1.5411   1.68302  1.07449\n",
       " 2.39034   2.20419   2.15704   2.38322      1.22747  1.87933  1.83796\n",
       " 2.37328   2.2471    1.88908   2.52368      1.86384  1.5997   2.01484\n",
       " 1.99913   1.8769    2.07174   2.16243      1.40175  1.19361  1.72387\n",
       " 2.40511   2.72387   2.60912   2.40311      1.91158  2.33934  1.86074\n",
       " 2.28199   2.57299   2.28659   2.4498    …  1.78613  1.52034  1.30919\n",
       " 2.42408   2.27871   2.24797   2.42548      1.29573  1.93111  1.89532\n",
       " 2.07547   1.92066   2.22262   2.13501      0.0      1.07548  1.20363\n",
       " 2.27387   2.19072   2.27824   2.4488       1.07548  0.0      1.31091\n",
       " 1.854     2.19346   2.35196   1.90259      1.20363  1.31091  0.0"
      ]
     },
     "execution_count": 8,
     "metadata": {},
     "output_type": "execute_result"
    }
   ],
   "source": [
    "# Finding the Eucledian distance for the transposed array\n",
    "dist = pairwise(Euclidean(), file', dims=2)"
   ]
  },
  {
   "cell_type": "code",
   "execution_count": 9,
   "metadata": {},
   "outputs": [
    {
     "name": "stdout",
     "output_type": "stream",
     "text": [
      "Time to load Kmeans Cluster:  3.375848 seconds (8.21 M allocations: 395.458 MiB, 0.65% gc time)\n"
     ]
    },
    {
     "data": {
      "text/plain": [
       "KmeansResult{Array{Float64,2},Float64,Int64}([0.594897914535297 0.5921042850682409 … 0.6321318656415945 0.5798250116905681; 0.7477308493448604 0.7461919173909755 … 0.7718909517803058 0.7398658897936501; … ; 0.5021344040574807 0.4929333177077221 … 0.5136938391175679 0.48192056905749825; 0.6149548282488102 0.6139408021713405 … 0.6275475351993813 0.6229949030226087], [1, 1, 2, 1, 1, 5, 2, 1, 9, 1  …  5, 8, 2, 1, 9, 5, 8, 3, 3, 3], [1.4011775419588908, 1.5648519162143266, 1.2037902118788537, 1.6985773445470969, 1.3952768132218711, 1.2147805772060885, 1.526689080597647, 1.4797533198678536, 1.3732965847736835, 1.2778132411761103  …  1.3213321809616403, 1.1864210129822297, 1.651109382201998, 1.5224803283355737, 3.072147418131916, 1.7758553722016686, 1.3463388820983013, 1.032053994757348, 1.6536768716679475, 1.3291890442254015], [1352, 1219, 867, 476, 1208, 715, 448, 745, 531, 964], [1352, 1219, 867, 476, 1208, 715, 448, 745, 531, 964], 8980.980811368008, 13, true)"
      ]
     },
     "execution_count": 9,
     "metadata": {},
     "output_type": "execute_result"
    }
   ],
   "source": [
    "# Clustering the data into 10 clusters using K-means\n",
    "print(\"Time to load Kmeans Cluster:\")\n",
    "@time Kmeans = kmeans(file', 10)"
   ]
  },
  {
   "cell_type": "code",
   "execution_count": 10,
   "metadata": {},
   "outputs": [
    {
     "name": "stdout",
     "output_type": "stream",
     "text": [
      "Score for Kmeans: \n",
      "----------------------------\n",
      "Total Cost: 8980.980811368008 \n",
      "Silhouettes Coefficient: 0.14767512823988224"
     ]
    }
   ],
   "source": [
    "# Scoring the clustering model\n",
    "# A smaller Total Cost is always better\n",
    "# The Silhouette Coefficient has a range of -1 to 1, -1 being the worst possible accuracy and 1 being the best\n",
    "print(\"Score for Kmeans: \n",
    "----------------------------\n",
    "Total Cost: $(Kmeans.totalcost) \n",
    "Silhouettes Coefficient: $(mean(silhouettes(Kmeans.assignments, Kmeans.counts, dist)))\")"
   ]
  },
  {
   "cell_type": "code",
   "execution_count": 11,
   "metadata": {},
   "outputs": [
    {
     "name": "stdout",
     "output_type": "stream",
     "text": [
      "1. Outlier was detected in cluster number 9, at point number 1318 with a silhouette coefficient of -0.08993843282911018\n",
      "2. Outlier was detected in cluster number 9, at point number 4543 with a silhouette coefficient of -0.07422749124889305\n",
      "3. Outlier was detected in cluster number 9, at point number 6509 with a silhouette coefficient of -0.0696821051093548\n"
     ]
    }
   ],
   "source": [
    "# Finding the Outliers AKA the max distances from the centers\n",
    "sil = silhouettes(Kmeans.assignments, Kmeans.counts, dist)\n",
    "ind = 1\n",
    "for i in partialsortperm(sil, 1:3)\n",
    "    println(\"$(ind). Outlier was detected in cluster number $(Kmeans.assignments[i]), at point number $i with a silhouette coefficient of $(sil[i])\")\n",
    "    ind = ind + 1\n",
    "end"
   ]
  },
  {
   "cell_type": "code",
   "execution_count": 12,
   "metadata": {},
   "outputs": [
    {
     "name": "stdout",
     "output_type": "stream",
     "text": [
      "Time to load Kmedoids Cluster:  0.755929 seconds (549.89 k allocations: 305.067 MiB, 20.02% gc time)\n"
     ]
    },
    {
     "data": {
      "text/plain": [
       "KmedoidsResult{Float64}([4857, 5725, 3131, 6033, 7648, 4204, 2225, 4085, 4095, 2547], [7, 8, 9, 7, 7, 3, 9, 7, 1, 7  …  6, 4, 9, 8, 1, 6, 4, 4, 8, 2], [1.1383991709104617, 1.3689054160410694, 1.1557150618491494, 1.318498600660684, 1.0013523782229456, 0.8640552307260246, 1.490916825473896, 1.1894104584457563, 1.1769819675107644, 0.9531899823028017  …  1.0088396988526795, 1.0390009139103757, 1.3481983709230614, 1.3412710006846238, 1.6560059026655227, 1.1895043933326832, 1.1569903834951005, 1.2803711393528838, 1.619090491808629, 1.3356998180681923], [793, 489, 686, 1194, 390, 786, 494, 1377, 1693, 623], 9674.043543643125, 4, true)"
      ]
     },
     "execution_count": 12,
     "metadata": {},
     "output_type": "execute_result"
    }
   ],
   "source": [
    "# Clustering the data into 22 clusters using K-medoids\n",
    "print(\"Time to load Kmedoids Cluster:\")\n",
    "@time Kmedoids = kmedoids(dist, 10)"
   ]
  },
  {
   "cell_type": "code",
   "execution_count": 13,
   "metadata": {},
   "outputs": [
    {
     "name": "stdout",
     "output_type": "stream",
     "text": [
      "Score for Kmedoids: \n",
      "----------------------------\n",
      "Total Cost: 9674.043543643125 \n",
      "Silhouettes Coefficient: 0.11029004019660318"
     ]
    }
   ],
   "source": [
    "# Scoring the clustering model\n",
    "# A smaller Total Cost is always better\n",
    "# The Silhouette Coefficient has a range of -1 to 1, -1 being the worst possible accuracy and 1 being the best\n",
    "print(\"Score for Kmedoids: \n",
    "----------------------------\n",
    "Total Cost: $(Kmedoids.totalcost) \n",
    "Silhouettes Coefficient: $(mean(silhouettes(Kmedoids.assignments, Kmedoids.counts, dist)))\")"
   ]
  },
  {
   "cell_type": "code",
   "execution_count": 14,
   "metadata": {},
   "outputs": [
    {
     "name": "stdout",
     "output_type": "stream",
     "text": [
      "1. Outlier was detected in medoid number 1, at point number 5328 with a silhouette coefficient of -0.25099556757009145\n",
      "2. Outlier was detected in medoid number 1, at point number 4724 with a silhouette coefficient of -0.24166391205965643\n",
      "3. Outlier was detected in medoid number 1, at point number 5343 with a silhouette coefficient of -0.23581903246817082\n"
     ]
    }
   ],
   "source": [
    "# Finding the Outliers AKA the max distances from the centers\n",
    "sil = silhouettes(Kmedoids.assignments, Kmedoids.counts, dist)\n",
    "ind = 1\n",
    "for i in partialsortperm(sil, 1:3)\n",
    "    println(\"$(ind). Outlier was detected in medoid number $(Kmedoids.assignments[i]), at point number $i with a silhouette coefficient of $(sil[i])\")\n",
    "    ind = ind + 1\n",
    "end"
   ]
  },
  {
   "cell_type": "code",
   "execution_count": 15,
   "metadata": {},
   "outputs": [
    {
     "name": "stdout",
     "output_type": "stream",
     "text": [
      "Time to load Dbscan Cluster:  0.178824 seconds (121.31 k allocations: 42.639 MiB)\n"
     ]
    },
    {
     "data": {
      "text/plain": [
       "DbscanResult([1, 2, 3, 6, 9, 15, 19, 22, 33, 36  …  144, 165, 258, 267, 284, 288, 336, 366, 911, 1180], [1, 2, 3, 1, 1, 4, 3, 1, 5, 1  …  10, 11, 3, 2, 30, 10, 11, 9, 9, 13], [555, 797, 1218, 811, 241, 371, 274, 170, 418, 457  …  137, 50, 130, 79, 104, 12, 17, 9, 53, 31])"
      ]
     },
     "execution_count": 15,
     "metadata": {},
     "output_type": "execute_result"
    }
   ],
   "source": [
    "# Clustering the data using Dbscan with a radius of 0.99 and a minimum number of neighboring points of 4\n",
    "print(\"Time to load Dbscan Cluster:\")\n",
    "@time Dbscan = dbscan(dist, 0.99, 4)"
   ]
  },
  {
   "cell_type": "code",
   "execution_count": 16,
   "metadata": {},
   "outputs": [],
   "source": [
    "# Silhouettes does not accept that some points are not in the clusters so I assign them to the first cluster\n",
    "for i=1:size(Dbscan.assignments)[1]\n",
    "    if Dbscan.assignments[i] == 0\n",
    "        Dbscan.assignments[i] = 1\n",
    "        Dbscan.counts[1] = Dbscan.counts[1] + 1\n",
    "    end\n",
    "end"
   ]
  },
  {
   "cell_type": "code",
   "execution_count": 17,
   "metadata": {},
   "outputs": [
    {
     "name": "stdout",
     "output_type": "stream",
     "text": [
      "Score for Dbscan: \n",
      "----------------------------\n",
      "Silhouettes Coefficient: 0.21502827685357004"
     ]
    }
   ],
   "source": [
    "# Scoring the clustering model\n",
    "# The Silhouette Coefficient has a range of -1 to 1, -1 being the worst possible accuracy and 1 being the best\n",
    "print(\"Score for Dbscan: \n",
    "----------------------------\n",
    "Silhouettes Coefficient: $(mean(silhouettes(Dbscan.assignments, Dbscan.counts, dist)))\")"
   ]
  },
  {
   "cell_type": "code",
   "execution_count": 18,
   "metadata": {},
   "outputs": [
    {
     "name": "stdout",
     "output_type": "stream",
     "text": [
      "1. Outlier was detected in cluster number 1, at point number 3717 with a silhouette coefficient of -0.5510410953549703\n",
      "2. Outlier was detected in cluster number 1, at point number 2118 with a silhouette coefficient of -0.4646722344363998\n",
      "3. Outlier was detected in cluster number 1, at point number 3211 with a silhouette coefficient of -0.4424075705688798\n"
     ]
    }
   ],
   "source": [
    "# Finding the Outliers AKA the max distances from the starts \n",
    "sil = silhouettes(Dbscan.assignments, Dbscan.counts, dist)\n",
    "ind = 1\n",
    "for i in partialsortperm(sil, 1:3)\n",
    "    println(\"$(ind). Outlier was detected in cluster number $(Dbscan.assignments[i]), at point number $i with a silhouette coefficient of $(sil[i])\")\n",
    "    ind = ind + 1\n",
    "end"
   ]
  },
  {
   "cell_type": "code",
   "execution_count": 19,
   "metadata": {},
   "outputs": [
    {
     "name": "stdout",
     "output_type": "stream",
     "text": [
      "Time to load Fuzzy C-means Cluster:  1.288878 seconds (2.51 M allocations: 311.136 MiB, 12.75% gc time)\n"
     ]
    },
    {
     "data": {
      "text/plain": [
       "FuzzyCMeansResult: 6 clusters for 8525 points in 27 dimensions (converged in 5 iterations)"
      ]
     },
     "execution_count": 19,
     "metadata": {},
     "output_type": "execute_result"
    }
   ],
   "source": [
    "# Clustering the data using Fuzzy C-means algorithm with 6 fuzzy clusters and a cluster fuzziness of 2\n",
    "print(\"Time to load Fuzzy C-means Cluster:\")\n",
    "@time Fuzzy = fuzzy_cmeans(file', 6, 2)"
   ]
  },
  {
   "cell_type": "code",
   "execution_count": 20,
   "metadata": {},
   "outputs": [
    {
     "data": {
      "text/plain": [
       "6-element Array{Int64,1}:\n",
       " 0\n",
       " 0\n",
       " 0\n",
       " 0\n",
       " 0\n",
       " 0"
      ]
     },
     "execution_count": 20,
     "metadata": {},
     "output_type": "execute_result"
    }
   ],
   "source": [
    "# Distance Matrix from the centers to the data\n",
    "dmat = pairwise(Euclidean(), Fuzzy.centers, file', dims=2)\n",
    "# Finding sizes of Distance Matrix\n",
    "k, n = size(dmat)\n",
    "# Initializing costs and assingments vectors\n",
    "Fuzzy_costs = zeros(n)\n",
    "Fuzzy_assignments = Vector{Int}(undef, n)\n",
    "Fuzzy_counts = fill(0, (k))"
   ]
  },
  {
   "cell_type": "code",
   "execution_count": 21,
   "metadata": {},
   "outputs": [],
   "source": [
    "# Implementing a modified version of the method used on the documentation to find the costs, counts and assignments.\n",
    "@inbounds for j = 1:n\n",
    "    # find the closest cluster to the i-th point. Note that a\n",
    "    # is necessarily between 1 and size(dmat, 1) === k as a result\n",
    "    # and can thus be used as an index in an `inbounds` environment\n",
    "    c, a = findmin(view(dmat, :, j))\n",
    "    # set costs, counts and assingments accordingly\n",
    "    Fuzzy_assignments[j] = a\n",
    "    Fuzzy_costs[j] = c\n",
    "    Fuzzy_counts[a] += 1\n",
    "end"
   ]
  },
  {
   "cell_type": "code",
   "execution_count": 22,
   "metadata": {},
   "outputs": [
    {
     "name": "stdout",
     "output_type": "stream",
     "text": [
      "Score for Fuzzy C-means: \n",
      "----------------------------\n",
      "Total Cost: 11553.558663701373 \n",
      "Silhouettes Coefficient: 0.09457012354440009"
     ]
    }
   ],
   "source": [
    "# Scoring the clustering model\n",
    "# A smaller Total Cost is always better\n",
    "# The Silhouette Coefficient has a range of -1 to 1, -1 being the worst possible accuracy and 1 being the best\n",
    "print(\"Score for Fuzzy C-means: \n",
    "----------------------------\n",
    "Total Cost: $(sum(Fuzzy_costs)) \n",
    "Silhouettes Coefficient: $(mean(silhouettes(Fuzzy_assignments, Fuzzy_counts, dist)))\")"
   ]
  },
  {
   "cell_type": "code",
   "execution_count": 23,
   "metadata": {},
   "outputs": [
    {
     "name": "stdout",
     "output_type": "stream",
     "text": [
      "1. Outlier was detected in fuzzy cluster number 2, at point number 5651 with a silhouette coefficient of -0.16029527744161487\n",
      "2. Outlier was detected in fuzzy cluster number 2, at point number 4228 with a silhouette coefficient of -0.15942543401435727\n",
      "3. Outlier was detected in fuzzy cluster number 2, at point number 5720 with a silhouette coefficient of -0.15700598284214995\n"
     ]
    }
   ],
   "source": [
    "# Finding the Outliers AKA the max distances from the centers\n",
    "sil = silhouettes(Fuzzy_assignments, Fuzzy_counts, dist)\n",
    "ind = 1\n",
    "for i in partialsortperm(sil, 1:3)\n",
    "    println(\"$(ind). Outlier was detected in fuzzy cluster number $(Fuzzy_assignments[i]), at point number $i with a silhouette coefficient of $(sil[i])\")\n",
    "    ind = ind + 1\n",
    "end"
   ]
  },
  {
   "cell_type": "code",
   "execution_count": 24,
   "metadata": {},
   "outputs": [
    {
     "name": "stdout",
     "output_type": "stream",
     "text": [
      "Time to load Gaussian Mixtures  4.596819 seconds (9.70 M allocations: 606.823 MiB, 1.43% gc time)\n"
     ]
    },
    {
     "data": {
      "text/plain": [
       "20-element Array{Float64,1}:\n",
       " -1.0963946383117202\n",
       "  0.27173994020545034\n",
       "  0.2717399402054532\n",
       "  0.2717399402054548\n",
       "  0.27173994020545583\n",
       "  0.27173994020545356\n",
       "  0.27173994020545117\n",
       "  0.27173994020545383\n",
       "  0.2717399402054574\n",
       "  0.2717399402054506\n",
       "  0.271739940205453\n",
       "  0.2717399402054602\n",
       "  0.2717399402054506\n",
       "  0.2717399402054537\n",
       "  0.27173994020545794\n",
       "  0.2717399402054542\n",
       "  0.27173994020545644\n",
       "  0.27173994020546105\n",
       "  0.2717399402055701\n",
       "  0.2717399402069869"
      ]
     },
     "execution_count": 24,
     "metadata": {},
     "output_type": "execute_result"
    }
   ],
   "source": [
    "# Clustering the data using Gaussian Mixtures algorithm with 300 gaussians\n",
    "print(\"Time to load Gaussian Mixtures\")\n",
    "@time begin\n",
    "    # Creating the Model\n",
    "    Gaussian = GMM(50, size(file)[2])\n",
    "    # Adding the data\n",
    "    em!(Gaussian, file; nIter= 20, varfloor=1e-10)\n",
    "end"
   ]
  },
  {
   "cell_type": "code",
   "execution_count": 25,
   "metadata": {},
   "outputs": [
    {
     "name": "stdout",
     "output_type": "stream",
     "text": [
      "Score for Gaussian Mixtures: \n",
      "----------------------------\n",
      "Average Log Likelihood: 0.27173994022561465"
     ]
    }
   ],
   "source": [
    "# Scoring the clustering model\n",
    "# A bigger Average Log Likelihood is always better\n",
    "print(\"Score for Gaussian Mixtures: \n",
    "----------------------------\n",
    "Average Log Likelihood: $(avll(Gaussian, file))\")"
   ]
  },
  {
   "cell_type": "code",
   "execution_count": 26,
   "metadata": {},
   "outputs": [],
   "source": [
    "# All logs likelihoods\n",
    "log = llpg(Gaussian, file)\n",
    "mins = fill((0.0,0,0),8525)\n",
    "# Finding the minimun log likelihood for each row\n",
    "for i=1:size(log)[1]\n",
    "    min = findmin(log[i,:])\n",
    "    tuple = (min[1],min[2],i)\n",
    "    mins[i] = tuple\n",
    "end"
   ]
  },
  {
   "cell_type": "code",
   "execution_count": 27,
   "metadata": {},
   "outputs": [
    {
     "name": "stdout",
     "output_type": "stream",
     "text": [
      "1. Outlier was detected in gaussian number 1, at row number 8051 with a log likelihood of -27.603600552854303\n",
      "2. Outlier was detected in gaussian number 1, at row number 3101 with a log likelihood of -25.05602711263232\n",
      "3. Outlier was detected in gaussian number 1, at row number 913 with a log likelihood of -21.833534603946944\n"
     ]
    }
   ],
   "source": [
    "# Finding the Outliers AKA the points with a worse loh likelihood \n",
    "ind = 1\n",
    "for i in partialsortperm(mins, 1:3)\n",
    "    println(\"$(ind). Outlier was detected in gaussian number $(mins[i][2]), at row number $(mins[i][3]) with a log-likelihood of $(mins[i][1])\")\n",
    "    ind = ind + 1\n",
    "end"
   ]
  },
  {
   "cell_type": "code",
   "execution_count": 28,
   "metadata": {},
   "outputs": [],
   "source": [
    "# PLotting to be able to interpret the data, not necessary for the assingment\n",
    "# So I just comment it\n",
    "\n",
    "# using Pkg\n",
    "# Pkg.add(\"Plots\")\n",
    "#using Plots"
   ]
  },
  {
   "cell_type": "code",
   "execution_count": 29,
   "metadata": {},
   "outputs": [],
   "source": [
    "#@sk_import manifold : TSNE"
   ]
  },
  {
   "cell_type": "code",
   "execution_count": 30,
   "metadata": {},
   "outputs": [],
   "source": [
    "# Making the data 2d so it can be plotted\n",
    "\n",
    "#x = TSNE(n_components=2).fit_transform(file)"
   ]
  },
  {
   "cell_type": "code",
   "execution_count": 31,
   "metadata": {},
   "outputs": [],
   "source": [
    "# Plotting Kmeans\n",
    "\n",
    "#a = scatter(x[:,1], x[:,2], marker_z=Kmeans.assignments, color=:seaborn_bright)"
   ]
  },
  {
   "cell_type": "code",
   "execution_count": 32,
   "metadata": {},
   "outputs": [],
   "source": [
    "# plotting Kmedoids\n",
    "\n",
    "#b = scatter(x[:,1], x[:,2], marker_z=Kmedoids.assignments, color=:seaborn_bright)"
   ]
  },
  {
   "cell_type": "code",
   "execution_count": 33,
   "metadata": {},
   "outputs": [],
   "source": [
    "# PLotting Dbscan\n",
    "\n",
    "#c = scatter(x[:,1], x[:,2], marker_z=Dbscan.assignments, color=:seaborn_bright)"
   ]
  },
  {
   "cell_type": "code",
   "execution_count": 34,
   "metadata": {
    "scrolled": true
   },
   "outputs": [],
   "source": [
    "# Plotting Fuzzy C-means\n",
    "\n",
    "#d = scatter(x[:,1], x[:,2], marker_z=Fuzzy_assignments,color=:seaborn_bright)"
   ]
  }
 ],
 "metadata": {
  "kernelspec": {
   "display_name": "Julia 1.5.3",
   "language": "julia",
   "name": "julia-1.5"
  },
  "language_info": {
   "file_extension": ".jl",
   "mimetype": "application/julia",
   "name": "julia",
   "version": "1.5.3"
  }
 },
 "nbformat": 4,
 "nbformat_minor": 4
}
